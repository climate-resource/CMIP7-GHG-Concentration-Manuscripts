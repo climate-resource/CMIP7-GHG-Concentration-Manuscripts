{
 "cells": [
  {
   "cell_type": "markdown",
   "id": "205ff621",
   "metadata": {
    "editable": true,
    "slideshow": {
     "slide_type": ""
    }
   },
   "source": [
    "# CMIP Greenhouse Gas (GHG) Concentration Scenario Dataset: Data Description and User Guide\n",
    "\n",
    "Here we provide a short description of the draft scenario dataset\n",
    "and a guide for users.\n",
    "This is intended to provide a short introduction for users of the data.\n",
    "The full details of the dataset's construction\n",
    "and evaluation against other data sources\n",
    "will be provided in the full manuscript which is being prepared."
   ]
  },
  {
   "cell_type": "markdown",
   "id": "43094831",
   "metadata": {
    "editable": true,
    "slideshow": {
     "slide_type": ""
    },
    "tags": [
     "remove_cell"
    ]
   },
   "source": [
    "## Imports"
   ]
  },
  {
   "cell_type": "code",
   "execution_count": null,
   "id": "bbc24deb",
   "metadata": {
    "editable": true,
    "slideshow": {
     "slide_type": ""
    },
    "tags": [
     "remove_cell"
    ]
   },
   "outputs": [],
   "source": [
    "import calendar\n",
    "from functools import partial\n",
    "from typing import Any\n",
    "\n",
    "import cftime\n",
    "import matplotlib\n",
    "import matplotlib.pyplot as plt\n",
    "import nc_time_axis  # noqa: F401\n",
    "import numpy as np\n",
    "import numpy.typing as npt\n",
    "import pandas as pd\n",
    "import pandas_indexing as pix\n",
    "import pandas_openscm\n",
    "import seaborn as sns\n",
    "import tqdm.auto\n",
    "\n",
    "from local.data_loading import (\n",
    "    fetch_and_load_ghg_dataset,\n",
    "    fetch_and_load_ghg_dataset_scenarios,\n",
    "    get_ghg_dataset_local_files,\n",
    ")\n",
    "from local.esgf.db_helpers import create_all_tables, get_sqlite_engine\n",
    "from local.esgf.search.search_query import KnownIndexNode\n",
    "from local.paths import REPO_ROOT"
   ]
  },
  {
   "cell_type": "code",
   "execution_count": null,
   "id": "64eb8084",
   "metadata": {
    "editable": true,
    "slideshow": {
     "slide_type": ""
    },
    "tags": [
     "remove_cell"
    ]
   },
   "outputs": [],
   "source": [
    "pandas_openscm.register_pandas_accessors()"
   ]
  },
  {
   "cell_type": "code",
   "execution_count": null,
   "id": "b05ef54b",
   "metadata": {
    "editable": true,
    "lines_to_next_cell": 2,
    "slideshow": {
     "slide_type": ""
    },
    "tags": [
     "remove_cell"
    ]
   },
   "outputs": [],
   "source": [
    "local_data_root_dir = REPO_ROOT / \"data\" / \"raw\" / \"esgf\"\n",
    "local_data_root_dir.mkdir(exist_ok=True, parents=True)\n",
    "sqlite_file = REPO_ROOT / \"download-test-scenario-database.db\"\n",
    "# # Obviously we wouldn't delete the database every time\n",
    "# # in production, but while experimenting it's handy\n",
    "# # to always start with a clean slate.\n",
    "# if sqlite_file.exists():\n",
    "#     sqlite_file.unlink()\n",
    "\n",
    "engine = get_sqlite_engine(sqlite_file)\n",
    "create_all_tables(engine)"
   ]
  },
  {
   "cell_type": "markdown",
   "id": "1c171e55",
   "metadata": {
    "editable": true,
    "slideshow": {
     "slide_type": ""
    }
   },
   "source": [
    "# Dataset construction\n",
    "\n",
    "The dataset is constructed following a similar methodology\n",
    "to {cite:t}`meinshausen_shared_2020`.\n",
    "The full method will be described in a forthcoming paper.\n",
    "In brief, the method is:\n",
    "\n",
    "1. **retrieve concentrations** of GHG gases\n",
    "\n",
    "    - for gases covered under the Montreal Protocol (TODO REF) and whose\n",
    "       concentration evolution is already specified in WMO 2022 (TODO, ref),\n",
    "       we simply use the WMO 2022 concentrations\n",
    "\n",
    "    - for all other gases, we\n",
    "\n",
    "        - start with harmonised, complete emissions sets for each scenario\n",
    "           of interest\n",
    "\n",
    "        - run MAGICC (TODO REF) to translate these emissions into\n",
    "            global-mean concentrations\n",
    "\n",
    "           - MAGICC is run in the same configuration which was used in AR6\n",
    "             (as described/evaluated in Cross-Chapter Box 7.1[^1]).\n",
    "             This represents our best estimate, in line with the last IPCC report,\n",
    "             of the concentrations that result from the emissions.\n",
    "             Note, given that CMIP7 models have not yet been run, this will,\n",
    "             almost by definition, produce different concentrations\n",
    "             than those outputed by the ESMs run in emissions-driven mode.\n",
    "             We nonetheless look forward to reading lots of papers saying that\n",
    "             \"CMIP7 input concentrations are biased up/down/whatever\".\n",
    "        - harmonise the global-mean concentrations to the historical\n",
    "             concentrations using gradient-aware harmonisation[^2] to ensure a smooth\n",
    "             transition in both the absolute values and the gradient, improving on the\n",
    "             CMIP6 data which had an abrupt jump in the gradient (most notable for\n",
    "             methane, further details below)\n",
    "\n",
    "3. **seasonality and latitudinal gradients**: We use the same statistical\n",
    "   models for seasonality and latitudinal gradients as were used over the\n",
    "   historical period. These are then applied to the future, based on the same\n",
    "   input drivers.\n",
    "    - one exception is CO<sub>2</sub>, which uses GPP as the input driver\n",
    "      rather than a regression on a combined global-mean surface temperature and\n",
    "      CO<sub>2</sub> concentration metric (as is used in the product that covers\n",
    "      history)\n",
    "    - arguably we should harmonise the inputs to these models too.\n",
    "      We don't do this step as such a harmonisation would only provide\n",
    "      second-order corrections.\n",
    "5. **combine the global-means, seasonality and latitudinal gradients** to\n",
    "   produce our complete, gridded projections\n",
    "6. **calculate lower resolution products** from the gridded product\n",
    "7. **release** all the data\n",
    "\n",
    "[^1]: https://www.ipcc.ch/report/ar6/wg1/chapter/chapter-7/\n",
    "[^2]: https://github.com/climate-resource/gradient-aware-harmonisation"
   ]
  },
  {
   "cell_type": "markdown",
   "id": "c1b048ae",
   "metadata": {
    "editable": true,
    "slideshow": {
     "slide_type": ""
    }
   },
   "source": [
    "# Finding and accessing the data"
   ]
  },
  {
   "cell_type": "markdown",
   "id": "a66e8d22",
   "metadata": {
    "editable": true,
    "slideshow": {
     "slide_type": ""
    }
   },
   "source": [
    "## ESGF\n",
    "\n",
    "The Earth System Grid Federation (ESGF, TODO REF) provides\n",
    "access to a range of climate data.\n",
    "\n",
    "The scenario data of interest here,\n",
    "which is a draft dataset\n",
    "can be found under \"MIP era\" `CMIP6Plus` (for draft datasets),\n",
    "\"institution ID\" `CR`\n",
    "and \"source version\" `0.1.0`\n",
    "(also under \"source IDs\" of the form `CR-*-0-1-0`,\n",
    "although this is less useful as the ESGF search API\n",
    "does not appear to support glob/star expressions\n",
    "for specific facet searches).\n",
    "\n",
    "It is possible to filter searches on ESGF\n",
    "via the user interface.\n",
    "Searches can often be encoded in URLs[^3] too\n",
    "(although these URLs sometimes move,\n",
    "so we make no guarantee that this link will always be live).\n",
    "\n",
    "These datasets are a draft only.\n",
    "The final datasets will maintain the same form; however,\n",
    "the numbers are currently being finalised\n",
    "and the final names have been changed since the draft datasets\n",
    "were published,\n",
    "so please take care to treat the values shown here as drafts only.\n",
    "\n",
    "To download the data, we recommend accessing it directly via the\n",
    "ESGF user interfaces via links as discussed above.\n",
    "Alternately, there are tools dedicated to accessing ESGF data,\n",
    "with two prominent examples being:\n",
    "\n",
    "1. esgpull: https://esgf.github.io/esgf-download\n",
    "2. intake-esgf: https://intake-esgf.readthedocs.io\n",
    "\n",
    "Please see these tools' docs for usage instructions.\n",
    "\n",
    "[^3]: An example URL: [https://esgf-node.ornl.gov/search?project=input4MIPs&activeFacets=%7B%22source_version%22%3A%<br>\n",
    "220.1.0%22%2C%22institution_id%22%3A%22CR%22%2C%22mip_era%22%3A%22CMIP6Plus%22%7D](\n",
    "https://esgf-node.ornl.gov/search?project=input4MIPs&activeFacets=%7B%22source_version%22%3A%220.1.0%22%2C%22institution_id%22%3A%22CR%22%2C%22mip_era%22%3A%22CMIP6Plus%22%7D)"
   ]
  },
  {
   "cell_type": "markdown",
   "id": "6900acc6",
   "metadata": {
    "editable": true,
    "slideshow": {
     "slide_type": ""
    }
   },
   "source": [
    "## Zenodo\n",
    "\n",
    "While it aims to be, the ESGF is technically not a permanent archive\n",
    "and does not issue DOIs.\n",
    "In order to provide more reliable, citable access to the data,\n",
    "we will also provide the final scenario datasets on Zenodo\n",
    "(TODO REF, although we have not done this step for the draft datasets).\n",
    "When ready, we will update this guide to use the final scenario data\n",
    "and include the zenodo link to the source code and input data used to process it."
   ]
  },
  {
   "cell_type": "markdown",
   "id": "2b468ac7",
   "metadata": {
    "editable": true,
    "slideshow": {
     "slide_type": ""
    }
   },
   "source": [
    "# Data description"
   ]
  },
  {
   "cell_type": "markdown",
   "id": "e4b22022",
   "metadata": {
    "editable": true,
    "slideshow": {
     "slide_type": ""
    }
   },
   "source": [
    "## Format\n",
    "\n",
    "The data is provided in netCDF format [TODO citation].\n",
    "This self-describing format allows the data\n",
    "to be placed in the same file as metadata\n",
    "(in the so-called \"file header\").\n",
    "The scenario datasets are only 78 years long,\n",
    "so each scenario-specific dataset is provided in a single file\n",
    "(unlike the historical dataset,\n",
    "which is split into multiple files)."
   ]
  },
  {
   "cell_type": "markdown",
   "id": "96bf08c8",
   "metadata": {
    "editable": true,
    "lines_to_next_cell": 2,
    "slideshow": {
     "slide_type": ""
    }
   },
   "source": [
    "## Scenario information\n",
    "\n",
    "Determining the scenario to which each dataset applies\n",
    "is not trivial\n",
    "(there was [discussion](https://github.com/PCMDI/input4MIPs_CVs/discussions/64)\n",
    "about how to make this more trivial,\n",
    "but ultimately backwards-compatibility was prioritised).\n",
    "\n",
    "Each dataset is given a unique source ID.\n",
    "This source ID appears both in the global attributes of the file\n",
    "as well as in the filename (as the 5th underscore separated element).\n",
    "The concept of a source ID is a bit of a perculiar one\n",
    "to CMIP forcings data.\n",
    "In practice, it is simply a unique identifier for a collection of datasets\n",
    "(and it's best not to read more than that into it).\n",
    "\n",
    "As a result of the way that scenario data is handled in CMIP/input4MIPs,\n",
    "the scenario name appears as part of the source ID,\n",
    "rather than as a standalone attribute/identifier.\n",
    "This means that its value must be extracted from the other parts of the source ID.\n",
    "In general, this is not a trivial problem\n",
    "(users of forcings data more generally are directed to\n",
    "[input4mips-cvs.readthedocs.io/en/latest/extracting-scenario-from-source-id](https://input4mips-cvs.readthedocs.io/en/latest/extracting-scenario-from-source-id/)).\n",
    "For the greenhouse gas concentrations,\n",
    "the scenario identifier is simply\n",
    "the second hyphen-separated element of the source ID.\n",
    "For example, for the source ID `CR-ml-0-1-0`,\n",
    "the scenario identifier is `ml`.\n",
    "A Python function for doing this extraction is below."
   ]
  },
  {
   "cell_type": "code",
   "execution_count": null,
   "id": "680851d3",
   "metadata": {
    "editable": true,
    "slideshow": {
     "slide_type": ""
    }
   },
   "outputs": [],
   "source": [
    "def extract_scenario_id(source_id: str) -> str:\n",
    "    \"\"\"\n",
    "    Extract scenario ID from a GHG concentration source ID\n",
    "\n",
    "    Parameters\n",
    "    ----------\n",
    "    source_id\n",
    "        Source ID from which to extract the scenario ID\n",
    "\n",
    "    Returns\n",
    "    -------\n",
    "    :\n",
    "        Scenario ID\n",
    "    \"\"\"\n",
    "    return source_id.split(\"-\")[1]\n",
    "\n",
    "\n",
    "print(f\"{extract_scenario_id('CR-ml-0-1-0')=}\")\n",
    "print(f\"{extract_scenario_id('CR-l-0-1-0')=}\")"
   ]
  },
  {
   "cell_type": "markdown",
   "id": "f6cd00c5",
   "metadata": {
    "editable": true,
    "slideshow": {
     "slide_type": ""
    }
   },
   "source": [
    "These scenario IDs can then be used to find details of the complete scenario.\n",
    "These details will be provided both via the CMIP CVs\n",
    "(see https://github.com/WCRP-CMIP/CMIP7-CVs)\n",
    "and the final ScenarioMIP paper\n",
    "(revisions of\n",
    "[this paper](https://doi.org/10.5194/egusphere-2024-3765) are expected soon).\n",
    "As above, note that the scenario IDs\n",
    "have changed since publication of the draft dataset. Table \\ref{tab:scenario_ids}\n",
    "provides an overview\n",
    "of the changes. Scenario IDs of the final datasets can be confirmed\n",
    "[here](https://github.com/WCRP-CMIP/CMIP7-CVs/discussions/1#discussioncomment-14585785).\n",
    "\n",
    "**Table 4.1:** Mapping of draft scenario IDs to final scenario IDs.\n",
    "\n",
    "\\begin{table}[ht]\n",
    "\\centering\n",
    "\\caption{Mapping of draft scenario IDs to final scenario IDs}\n",
    "\\label{tab:scenario_ids}\n",
    "\\begin{tabular}{cc}\n",
    "\\hline\n",
    "Draft dataset & Final dataset \\\\\n",
    "\\hline\n",
    "\\textbf{vllo} & \\textbf{vl} \\\\\n",
    "\\textbf{vlho} & \\textbf{ln} \\\\\n",
    "l    & l  \\\\\n",
    "ml   & ml \\\\\n",
    "m    & m  \\\\\n",
    "hl   & hl \\\\\n",
    "h    & h  \\\\\n",
    "\\hline\n",
    "\\end{tabular}\n",
    "\\end{table}\n"
   ]
  },
  {
   "cell_type": "markdown",
   "id": "b0973fa9",
   "metadata": {
    "editable": true,
    "slideshow": {
     "slide_type": ""
    }
   },
   "source": [
    "## Grids and frequencies provided\n",
    "\n",
    "We provide five combinations of grids and time sampling\n",
    "(also referred to as *frequency*,\n",
    "although this is a bit of a misuse as the units of frequency are per time,\n",
    "which doesn't match the convention for these metadata values).\n",
    "The grid and frequency information for each file can be found in its netCDF header\n",
    "under the attributes `grid_label` (for grid) and `frequency` (for time sampling).\n",
    "The `grid_label` and `frequency` also appear in each file's name,\n",
    "which allows files to be filtered without needing to load them first.\n",
    "The five combinations of grid and time sampling are:\n",
    "\n",
    "1. global-, annual-mean (`grid_label=\"gm\"`, `frequency=\"yr\"`)\n",
    "1. global-, monthly-mean (`grid_label=\"gm\"`, `frequency=\"mon\"`)\n",
    "1. hemispheric-, annual-mean (`grid_label=\"gr1z\"`, `frequency=\"yr\"`)\n",
    "1. hemispheric-, monthly-mean (`grid_label=\"gr1z\"`, `frequency=\"mon\"`)\n",
    "1. 15-degree latitudinal, monthly-mean (`grid_label=\"gnz\"`, `frequency=\"mon\"`)"
   ]
  },
  {
   "cell_type": "markdown",
   "id": "e9510e65",
   "metadata": {
    "editable": true,
    "slideshow": {
     "slide_type": ""
    }
   },
   "source": [
    "## Species provided\n",
    "\n",
    "We provide concentrations for 43 greenhouse gas concentrations and species,\n",
    "as well as three equivalent species.\n",
    "The species are:\n",
    "\n",
    "<!-- Note: generated using `scripts/generate-ghg-listing.py` --->\n",
    "- major greenhouse gases (3)\n",
    "    - CH<sub>4</sub>, CO<sub>2</sub>, N<sub>2</sub>O\n",
    "- ozone-depleting substances (17)\n",
    "    - CFCs (5)\n",
    "        - CFC-11, CFC-113, CFC-114, CFC-115, CFC-12\n",
    "    - HCFCs (3)\n",
    "        - HCFC-141b, HCFC-142b, HCFC-22\n",
    "    - Halons (3)\n",
    "        - Halon 1211, Halon 1301, Halon 2402\n",
    "    - other ozone-depleting substances (6)\n",
    "        - CCl<sub>4</sub>, CH<sub>2</sub>Cl<sub>2</sub>, CH<sub>3</sub>Br,\n",
    "          CH<sub>3</sub>CCl<sub>3</sub>, CH<sub>3</sub>Cl, CHCl<sub>3</sub>\n",
    "- ozone fluorinated compounds (23)\n",
    "    - HFCs (11)\n",
    "        - HFC-125, HFC-134a, HFC-143a, HFC-152a, HFC-227ea, HFC-23, HFC-236fa,\n",
    "          HFC-245fa, HFC-32, HFC-365mfc, HFC-4310mee\n",
    "    - PFCs (9)\n",
    "        - C<sub>2</sub>F<sub>6</sub>, C<sub>3</sub>F<sub>8</sub>,\n",
    "          C<sub>4</sub>F<sub>10</sub>, C<sub>5</sub>F<sub>12</sub>,\n",
    "          C<sub>6</sub>F<sub>14</sub>, C<sub>7</sub>F<sub>16</sub>,\n",
    "          C<sub>8</sub>F<sub>18</sub>, CC<sub>4</sub>F<sub>8</sub>,\n",
    "          CF<sub>4</sub>\n",
    "    - other (3)\n",
    "        - NF<sub>3</sub>, SF<sub>6</sub>, SO<sub>2</sub>F<sub>2</sub>\n",
    "\n",
    "### Equivalent species\n",
    "\n",
    "For most models, you will not use all 43 species.\n",
    "As a result, we provide equivalent species too.\n",
    "There are two options if you don't want to use all 43 species.\n",
    "\n",
    "#### Option 1\n",
    "\n",
    "Use CO<sub>2</sub>, CH<sub>4</sub>, N<sub>2</sub>O and CFC-12 directly.\n",
    "Use CFC-11 equivalent to capture the radiative effect of all other species.\n",
    "\n",
    "#### Option 2\n",
    "\n",
    "Use CO<sub>2</sub>, CH<sub>4</sub> and N<sub>2</sub>O directly.\n",
    "Use CFC-12 equivalent\n",
    "to capture the radiative effect of all ozone depleting substances (ODSs)\n",
    "and HFC-134a equivalent\n",
    "to capture the radiative effect of all other fluorinated gases."
   ]
  },
  {
   "cell_type": "markdown",
   "id": "398b199b",
   "metadata": {
    "editable": true,
    "slideshow": {
     "slide_type": ""
    }
   },
   "source": [
    "## Uncertainty\n",
    "\n",
    "At present, we provide no analysis of the uncertainty associated with these datasets.\n",
    "\n",
    "On top of the uncertainties in the historical data\n",
    "(which are, in radiative forcing terms, small),\n",
    "the scenario datasets are subject to uncertainties\n",
    "from the modelling process required to produce them.\n",
    "This means that, in radiative forcing terms, the uncertainty in these concentrations\n",
    "is much larger than the historical data.\n",
    "Nonetheless, it is very likely to be small\n",
    "compared to other uncertainties in the climate system,\n",
    "but this statement is not presently based on any robust analysis\n",
    "(rather it is based on expert judgement and past experience)."
   ]
  },
  {
   "cell_type": "markdown",
   "id": "d82fda09",
   "metadata": {
    "editable": true,
    "slideshow": {
     "slide_type": ""
    }
   },
   "source": [
    "## Differences compared to CMIP6\n",
    "\n",
    "There are two major differences from CMIP6.\n",
    "The first is that the scenarios are different.\n",
    "By definition, this changes the concentrations.\n",
    "(There is also no 1:1 mapping between CMIP6 and CMIP7 scenarios,\n",
    "so the overall spacing and ensemble of scenarios is different too).\n",
    "The second is the transition from the history, observation-based period\n",
    "to the scenario, model-based projections.\n",
    "In CMIP6, this transition simply occured over a single year.\n",
    "In places, this led to notable changes in gradient at this transition point\n",
    "(further analysis of this is provided below).\n",
    "In CMIP7, we instead use a more sophisticated harmonisation algorithm\n",
    "(using the [gradient-aware-harmonisation](https://github.com/climate-resource/gradient-aware-harmonisation)\n",
    "package developed as part of the ESA project).\n",
    "This leads to smoother, more realistic transitions\n",
    "between the history, observation-based period\n",
    "and the scenario, model-based projections."
   ]
  },
  {
   "cell_type": "markdown",
   "id": "c67fb701",
   "metadata": {
    "editable": true,
    "slideshow": {
     "slide_type": ""
    }
   },
   "source": [
    "# User guide"
   ]
  },
  {
   "cell_type": "markdown",
   "id": "72e477fb",
   "metadata": {
    "editable": true,
    "slideshow": {
     "slide_type": ""
    }
   },
   "source": [
    "Having downloaded the data, using it is relatively straightforward\n",
    "(scenario identification issue discussed above notwithstanding)."
   ]
  },
  {
   "cell_type": "markdown",
   "id": "9e9ab642",
   "metadata": {
    "editable": true,
    "slideshow": {
     "slide_type": ""
    }
   },
   "source": [
    "## Annual-, global-mean data\n",
    "\n",
    "We start with the annual-, global-mean data.\n",
    "Like all our datasets, this is composed of one file per scenario,\n",
    "given seven files in total.\n",
    "\n",
    "For yearly data, the time labels in the filename are years\n",
    "(for months, the month is included e.g. you will see `202201-210012`\n",
    "rather than `2022-2100` in the filename,\n",
    "the files also have different values for the `frequency` attribute).\n",
    "Global-mean data is identified by the 'grid label' `gm`,\n",
    "which appears in the filename.\n",
    "Below we show the filenames for the CO<sub>2</sub> output.\n",
    "\n",
    "**Note: in the draft datasets, the time axis starts in 2023.\n",
    "This will be updated to a 2022 start for the final datasets,\n",
    "in line with the rest of the scenario datasets.**"
   ]
  },
  {
   "cell_type": "code",
   "execution_count": null,
   "id": "8b3b6b22",
   "metadata": {
    "editable": true,
    "slideshow": {
     "slide_type": ""
    },
    "tags": [
     "remove_cell"
    ]
   },
   "outputs": [],
   "source": [
    "# Ensure data is downloaded\n",
    "query_kwargs_co2_yearly_global = dict(\n",
    "    ghg=\"co2\",\n",
    "    time_sampling=\"yr\",\n",
    "    grid=\"gm\",\n",
    "    cmip_era=\"CMIP6Plus\",\n",
    "    source_version=\"0.1.0\",\n",
    "    institution_id=\"CR\",\n",
    "    target_mip=\"ScenarioMIP\",\n",
    "    engine=engine,\n",
    ")\n",
    "fetch_and_load = partial(\n",
    "    fetch_and_load_ghg_dataset_scenarios,\n",
    "    local_data_root_dir=local_data_root_dir,\n",
    "    # index_node=KnownIndexNode.DKRZ,\n",
    "    # cmip_era=\"CMIP6\",\n",
    "    # source_id=\"UoM-CMIP-1-2-0\",\n",
    "    index_node=KnownIndexNode.ORNL,\n",
    ")\n",
    "\n",
    "_ = fetch_and_load(**query_kwargs_co2_yearly_global)\n",
    "\n",
    "# Get file paths\n",
    "co2_yearly_global_fps = get_ghg_dataset_local_files(**query_kwargs_co2_yearly_global)"
   ]
  },
  {
   "cell_type": "code",
   "execution_count": null,
   "id": "c23d59ac",
   "metadata": {
    "editable": true,
    "slideshow": {
     "slide_type": ""
    },
    "tags": [
     "remove_input"
    ]
   },
   "outputs": [],
   "source": [
    "for fp in sorted(co2_yearly_global_fps)[::-1]:\n",
    "    print(f\"- {fp.name}\")"
   ]
  },
  {
   "cell_type": "markdown",
   "id": "6b2cc010",
   "metadata": {
    "editable": true,
    "slideshow": {
     "slide_type": ""
    }
   },
   "source": [
    "Output for other gases are named identically,\n",
    "with `co2` being replaced by the other gas name.\n",
    "For example, for methane the filenames are:"
   ]
  },
  {
   "cell_type": "code",
   "execution_count": null,
   "id": "3ead918b",
   "metadata": {
    "editable": true,
    "slideshow": {
     "slide_type": ""
    },
    "tags": [
     "remove_cell"
    ]
   },
   "outputs": [],
   "source": [
    "# Ensure data is downloaded\n",
    "query_kwargs_ch4_yearly_global = {\n",
    "    **query_kwargs_co2_yearly_global,\n",
    "    \"ghg\": \"ch4\",\n",
    "}\n",
    "_ = fetch_and_load(**query_kwargs_ch4_yearly_global)"
   ]
  },
  {
   "cell_type": "code",
   "execution_count": null,
   "id": "b35ffbde",
   "metadata": {
    "editable": true,
    "slideshow": {
     "slide_type": ""
    },
    "tags": [
     "remove_input"
    ]
   },
   "outputs": [],
   "source": [
    "# Get file paths\n",
    "ch4_yearly_global_fps = get_ghg_dataset_local_files(**query_kwargs_ch4_yearly_global)\n",
    "for fp in sorted(ch4_yearly_global_fps)[::-1]:\n",
    "    print(f\"- {fp.name}\")"
   ]
  },
  {
   "cell_type": "markdown",
   "id": "136b3bac",
   "metadata": {
    "editable": true,
    "slideshow": {
     "slide_type": ""
    }
   },
   "source": [
    "As described above, the data is netCDF files.\n",
    "This means that metadata can be trivially inspected\n",
    "using a tool like `ncdump`.\n",
    "There is a lot of metadata included in these files.\n",
    "In general, you should not need to parse this metadata directly.\n",
    "However, if you have specific questions,\n",
    "please feel free to contact the emails given in the `contact` attribute."
   ]
  },
  {
   "cell_type": "code",
   "execution_count": null,
   "id": "ddb06057",
   "metadata": {
    "editable": true,
    "slideshow": {
     "slide_type": ""
    },
    "tags": [
     "remove_input"
    ]
   },
   "outputs": [],
   "source": [
    "!ncdump -h {co2_yearly_global_fps[0]} | fold -w 80 -s"
   ]
  },
  {
   "cell_type": "markdown",
   "id": "9ceafa41",
   "metadata": {
    "editable": true,
    "slideshow": {
     "slide_type": ""
    }
   },
   "source": [
    "Using a tool like [xarray](https://github.com/pydata/xarray),\n",
    "loading and working with the data is trivial."
   ]
  },
  {
   "cell_type": "code",
   "execution_count": null,
   "id": "140d8d42",
   "metadata": {
    "editable": true,
    "slideshow": {
     "slide_type": ""
    }
   },
   "outputs": [],
   "source": [
    "import xarray as xr\n",
    "\n",
    "time_coder = xr.coders.CFDatetimeCoder(use_cftime=True)\n",
    "ds_example_co2_yearly_global = xr.open_dataset(\n",
    "    co2_yearly_global_fps[-1], decode_times=time_coder\n",
    ")"
   ]
  },
  {
   "cell_type": "code",
   "execution_count": null,
   "id": "4a7b68de",
   "metadata": {
    "editable": true,
    "slideshow": {
     "slide_type": ""
    },
    "tags": [
     "remove_cell"
    ]
   },
   "outputs": [],
   "source": [
    "# Force values to compute to avoid dask getting involved\n",
    "ds_example_co2_yearly_global = ds_example_co2_yearly_global.compute()"
   ]
  },
  {
   "cell_type": "code",
   "execution_count": null,
   "id": "8becd73f",
   "metadata": {
    "editable": true,
    "slideshow": {
     "slide_type": ""
    }
   },
   "outputs": [],
   "source": [
    "ds_example_co2_yearly_global"
   ]
  },
  {
   "cell_type": "code",
   "execution_count": null,
   "id": "3a99d260",
   "metadata": {
    "editable": true,
    "slideshow": {
     "slide_type": ""
    },
    "tags": [
     "remove_input"
    ]
   },
   "outputs": [],
   "source": [
    "ds_example_co2_yearly_global[\"co2\"].plot.scatter(alpha=0.4)\n",
    "plt.show()"
   ]
  },
  {
   "cell_type": "markdown",
   "id": "9d6b2926",
   "metadata": {
    "editable": true,
    "slideshow": {
     "slide_type": ""
    }
   },
   "source": [
    "## Space- and time-average nature of the data\n",
    "\n",
    "All of our data represents the mean over each cell.\n",
    "This is indicated by the `cell_methods` attribute\n",
    "of all of our output variables."
   ]
  },
  {
   "cell_type": "code",
   "execution_count": null,
   "id": "f6f4e2d9",
   "metadata": {
    "editable": true,
    "slideshow": {
     "slide_type": ""
    }
   },
   "outputs": [],
   "source": [
    "ds_example_co2_yearly_global[\"co2\"].attrs[\"cell_methods\"]"
   ]
  },
  {
   "cell_type": "markdown",
   "id": "4bbb22fb",
   "metadata": {
    "editable": true,
    "slideshow": {
     "slide_type": ""
    }
   },
   "source": [
    "This mean is both in space and time.\n",
    "The time bounds covered by each step\n",
    "are specified by the `time_bnds` variable\n",
    "(when there is spatial information,\n",
    "equivalent `lat_bnds` and `lon_bnds`\n",
    "information is also included).\n",
    "This variable specifies the start (inclusive)\n",
    "and end (exclusive) of the time period\n",
    "covered by each data point."
   ]
  },
  {
   "cell_type": "code",
   "execution_count": null,
   "id": "119dd5dd",
   "metadata": {
    "editable": true,
    "slideshow": {
     "slide_type": ""
    }
   },
   "outputs": [],
   "source": [
    "ds_example_co2_yearly_global[\"time_bnds\"]"
   ]
  },
  {
   "cell_type": "markdown",
   "id": "eab7f47f",
   "metadata": {
    "editable": true,
    "slideshow": {
     "slide_type": ""
    }
   },
   "source": [
    "As a result of the time average that the data represents,\n",
    "it is inappropriate to plot this data\n",
    "using a line plot\n",
    "(the mean of the lines joining the points\n",
    "is not the same as the data given in the files).\n",
    "Instead, the data should be plotted (and used)\n",
    "as a scatter or a step plot, as shown below.\n",
    "(The same logic applies to any spatial plots\n",
    "which could be created from our datasets\n",
    "that include spatial dimensions)."
   ]
  },
  {
   "cell_type": "code",
   "execution_count": null,
   "id": "8bc4432b",
   "metadata": {
    "editable": true,
    "slideshow": {
     "slide_type": ""
    },
    "tags": [
     "remove_input"
    ]
   },
   "outputs": [],
   "source": [
    "ds_plt = ds_example_co2_yearly_global.isel(time=slice(None, 5))\n",
    "\n",
    "fig, ax = plt.subplots(figsize=(8, 4))\n",
    "ds_plt[\"co2\"].plot.scatter(ax=ax)\n",
    "\n",
    "for bounds, val in zip(ds_plt[\"time_bnds\"].values, ds_plt[\"co2\"].values):\n",
    "    ax.plot(bounds, [val, val], color=\"tab:blue\", linewidth=1.0, alpha=0.7)\n",
    "\n",
    "xticks = [cftime.DatetimeGregorian(y, 1, 1) for y in range(2023, 2029)]\n",
    "ax.set_xticks(xticks)\n",
    "ax.set_xlim(xticks[0], xticks[-1])\n",
    "ax.grid()\n",
    "\n",
    "plt.show()"
   ]
  },
  {
   "cell_type": "markdown",
   "id": "e9eed2ce",
   "metadata": {
    "editable": true,
    "slideshow": {
     "slide_type": ""
    }
   },
   "source": [
    "## Monthly-, global-mean data\n",
    "\n",
    "If you want to have information at a finer level\n",
    "of temporal detail, we also provide monthly files.\n",
    "\n",
    "For monthly data, the time labels in the filename are months.\n",
    "Below we show the filenames for the CO<sub>2</sub> output."
   ]
  },
  {
   "cell_type": "code",
   "execution_count": null,
   "id": "aa0b7ccd",
   "metadata": {
    "editable": true,
    "slideshow": {
     "slide_type": ""
    },
    "tags": [
     "remove_cell"
    ]
   },
   "outputs": [],
   "source": [
    "# Ensure data is downloaded\n",
    "query_kwargs_co2_monthly_global = {\n",
    "    **query_kwargs_co2_yearly_global,\n",
    "    \"time_sampling\": \"mon\",\n",
    "}\n",
    "_ = fetch_and_load(**query_kwargs_co2_monthly_global)"
   ]
  },
  {
   "cell_type": "code",
   "execution_count": null,
   "id": "6a6882d6",
   "metadata": {
    "editable": true,
    "slideshow": {
     "slide_type": ""
    },
    "tags": [
     "remove_input"
    ]
   },
   "outputs": [],
   "source": [
    "# Get file paths\n",
    "co2_monthly_global_fps = get_ghg_dataset_local_files(**query_kwargs_co2_monthly_global)\n",
    "for fp in sorted(co2_monthly_global_fps)[::-1]:\n",
    "    print(f\"- {fp.name}\")"
   ]
  },
  {
   "cell_type": "markdown",
   "id": "641ef32d",
   "metadata": {
    "editable": true,
    "slideshow": {
     "slide_type": ""
    }
   },
   "source": [
    "Again, the data can be trivially loaded with [xarray](https://github.com/pydata/xarray)."
   ]
  },
  {
   "cell_type": "code",
   "execution_count": null,
   "id": "a8bf48f2",
   "metadata": {
    "editable": true,
    "slideshow": {
     "slide_type": ""
    }
   },
   "outputs": [],
   "source": [
    "ds_example_co2_monthly_global = xr.open_mfdataset(\n",
    "    co2_monthly_global_fps[-1], decode_times=time_coder\n",
    ")"
   ]
  },
  {
   "cell_type": "code",
   "execution_count": null,
   "id": "20165ca7",
   "metadata": {
    "editable": true,
    "slideshow": {
     "slide_type": ""
    },
    "tags": [
     "remove_cell"
    ]
   },
   "outputs": [],
   "source": [
    "# Force values to compute to avoid dask getting involved\n",
    "ds_example_co2_monthly_global = ds_example_co2_monthly_global.compute()"
   ]
  },
  {
   "cell_type": "code",
   "execution_count": null,
   "id": "699627be",
   "metadata": {
    "editable": true,
    "slideshow": {
     "slide_type": ""
    }
   },
   "outputs": [],
   "source": [
    "ds_example_co2_monthly_global"
   ]
  },
  {
   "cell_type": "markdown",
   "id": "0b3a47b9",
   "metadata": {
    "editable": true,
    "slideshow": {
     "slide_type": ""
    }
   },
   "source": [
    "For this data, the time bounds show that each point\n",
    "is the average a month, not a year."
   ]
  },
  {
   "cell_type": "code",
   "execution_count": null,
   "id": "3703a985",
   "metadata": {
    "editable": true,
    "slideshow": {
     "slide_type": ""
    }
   },
   "outputs": [],
   "source": [
    "ds_example_co2_monthly_global[\"time_bnds\"]"
   ]
  },
  {
   "cell_type": "markdown",
   "id": "194edde5",
   "metadata": {
    "editable": true,
    "slideshow": {
     "slide_type": ""
    }
   },
   "source": [
    "As above, as a result of the time average that the data represents,\n",
    "it is inappropriate to plot this data using a line plot.\n",
    "Scatter or step plots should be used instead."
   ]
  },
  {
   "cell_type": "code",
   "execution_count": null,
   "id": "3359d544",
   "metadata": {
    "editable": true,
    "slideshow": {
     "slide_type": ""
    },
    "tags": [
     "remove_input"
    ]
   },
   "outputs": [],
   "source": [
    "ds_plt = ds_example_co2_monthly_global.isel(time=slice(None, 5 * 12))\n",
    "\n",
    "fig, ax = plt.subplots(figsize=(8, 4))\n",
    "ds_plt[\"co2\"].plot.scatter(ax=ax)\n",
    "\n",
    "for bounds, val in zip(ds_plt[\"time_bnds\"].values, ds_plt[\"co2\"].values):\n",
    "    ax.plot(bounds, [val, val], color=\"tab:blue\", linewidth=1.0, alpha=0.7)\n",
    "\n",
    "xticks = [cftime.DatetimeGregorian(y, 1, 1) for y in range(2023, 2029)]\n",
    "ax.set_xticks(xticks)\n",
    "ax.set_xlim(xticks[0], xticks[-1])\n",
    "ax.grid()\n",
    "\n",
    "plt.show()"
   ]
  },
  {
   "cell_type": "markdown",
   "id": "9a40c2d1",
   "metadata": {
    "editable": true,
    "slideshow": {
     "slide_type": ""
    }
   },
   "source": [
    "The monthly data includes seasonality.\n",
    "Plotting the monthly and yearly data\n",
    "on the same axes makes particularly clear\n",
    "why a line plot is inappropriate."
   ]
  },
  {
   "cell_type": "code",
   "execution_count": null,
   "id": "1c23e9fd",
   "metadata": {
    "editable": true,
    "slideshow": {
     "slide_type": ""
    },
    "tags": [
     "remove_input"
    ]
   },
   "outputs": [],
   "source": [
    "fig, ax = plt.subplots(figsize=(8, 4))\n",
    "\n",
    "for ds_plt, label, colour in (\n",
    "    (\n",
    "        ds_example_co2_monthly_global.isel(time=slice(None, 5 * 12)),\n",
    "        \"monthly\",\n",
    "        \"tab:blue\",\n",
    "    ),\n",
    "    (ds_example_co2_yearly_global.isel(time=slice(None, 5)), \"yearly\", \"tab:orange\"),\n",
    "):\n",
    "    ds_plt[\"co2\"].plot.scatter(ax=ax, label=label, color=colour, s=10)\n",
    "\n",
    "    for bounds, val in zip(ds_plt[\"time_bnds\"].values, ds_plt[\"co2\"].values):\n",
    "        ax.plot(bounds, [val, val], color=colour, linewidth=1.0, alpha=0.7)\n",
    "\n",
    "ax.legend()\n",
    "\n",
    "xticks = [cftime.DatetimeGregorian(y, 1, 1) for y in range(2023, 2029)]\n",
    "ax.set_xticks(xticks)\n",
    "ax.set_xlim(xticks[0], xticks[-1])\n",
    "ax.grid()\n",
    "\n",
    "plt.show()"
   ]
  },
  {
   "cell_type": "markdown",
   "id": "63a8e77c",
   "metadata": {
    "editable": true,
    "slideshow": {
     "slide_type": ""
    }
   },
   "source": [
    "## Monthly-, latitudinally-resolved data\n",
    "\n",
    "We also provide data with spatial,\n",
    "specifically latitudinal, resolution.\n",
    "This data comes on a 15-degree latitudinal grid\n",
    "(see below for details of the grid and latitudinal bounds).\n",
    "These files are identified by the grid label `gnz`.\n",
    "We only provide these files with monthly resolution.\n",
    "\n",
    "For completeness, we note that we also provide hemispheric means.\n",
    "These are not shown here,\n",
    "but are identified by the grid label `gr1z`.\n",
    "\n",
    "Below we show the filenames for the latitudinally-resolved data\n",
    "for CO<sub>2</sub>"
   ]
  },
  {
   "cell_type": "code",
   "execution_count": null,
   "id": "15a0911d",
   "metadata": {
    "editable": true,
    "slideshow": {
     "slide_type": ""
    },
    "tags": [
     "remove_cell"
    ]
   },
   "outputs": [],
   "source": [
    "# Ensure data is downloaded\n",
    "query_kwargs_co2_monthly_lat = {\n",
    "    **query_kwargs_co2_yearly_global,\n",
    "    \"time_sampling\": \"mon\",\n",
    "    \"grid\": \"gnz\",\n",
    "}\n",
    "_ = fetch_and_load(**query_kwargs_co2_monthly_lat)"
   ]
  },
  {
   "cell_type": "code",
   "execution_count": null,
   "id": "18194e3e",
   "metadata": {
    "editable": true,
    "slideshow": {
     "slide_type": ""
    },
    "tags": [
     "remove_input"
    ]
   },
   "outputs": [],
   "source": [
    "# Get file paths\n",
    "co2_monthly_lat_fps = get_ghg_dataset_local_files(**query_kwargs_co2_monthly_lat)\n",
    "for fp in sorted(co2_monthly_lat_fps)[::-1]:\n",
    "    print(f\"- {fp.name}\")"
   ]
  },
  {
   "cell_type": "markdown",
   "id": "a3f58676",
   "metadata": {
    "editable": true,
    "slideshow": {
     "slide_type": ""
    }
   },
   "source": [
    "Again, the data can be trivially loaded with [xarray](https://github.com/pydata/xarray)."
   ]
  },
  {
   "cell_type": "code",
   "execution_count": null,
   "id": "8eb97ecb",
   "metadata": {
    "editable": true,
    "slideshow": {
     "slide_type": ""
    }
   },
   "outputs": [],
   "source": [
    "ds_example_co2_monthly_lat = xr.open_mfdataset(\n",
    "    co2_monthly_lat_fps[-1],\n",
    "    decode_times=time_coder,\n",
    "    data_vars=None,\n",
    "    compat=\"no_conflicts\",\n",
    ")"
   ]
  },
  {
   "cell_type": "code",
   "execution_count": null,
   "id": "7bda296a",
   "metadata": {
    "editable": true,
    "slideshow": {
     "slide_type": ""
    },
    "tags": [
     "remove_cell"
    ]
   },
   "outputs": [],
   "source": [
    "# Force values to compute to avoid dask getting involved\n",
    "ds_example_co2_monthly_lat = ds_example_co2_monthly_lat.compute()"
   ]
  },
  {
   "cell_type": "code",
   "execution_count": null,
   "id": "70e03e0f",
   "metadata": {
    "editable": true,
    "slideshow": {
     "slide_type": ""
    }
   },
   "outputs": [],
   "source": [
    "ds_example_co2_monthly_lat"
   ]
  },
  {
   "cell_type": "markdown",
   "id": "4c59bf31",
   "metadata": {
    "editable": true,
    "slideshow": {
     "slide_type": ""
    }
   },
   "source": [
    "For this data, the latitudinal bounds show the area\n",
    "over which each point is the average."
   ]
  },
  {
   "cell_type": "code",
   "execution_count": null,
   "id": "e9c8bd0b",
   "metadata": {
    "editable": true,
    "slideshow": {
     "slide_type": ""
    }
   },
   "outputs": [],
   "source": [
    "ds_example_co2_monthly_lat[\"lat_bnds\"]"
   ]
  },
  {
   "cell_type": "markdown",
   "id": "8b9c64c5",
   "metadata": {
    "editable": true,
    "slideshow": {
     "slide_type": ""
    }
   },
   "source": [
    "As above, but this time for the spatial axis,\n",
    "it is inappropriate to plot this data using a line plot.\n",
    "Scatter or step plots should be used instead."
   ]
  },
  {
   "cell_type": "code",
   "execution_count": null,
   "id": "21894354",
   "metadata": {
    "editable": true,
    "slideshow": {
     "slide_type": ""
    },
    "tags": [
     "remove_input"
    ]
   },
   "outputs": [],
   "source": [
    "ds_plt = ds_example_co2_monthly_lat.isel(time=slice(None, 12))\n",
    "\n",
    "\n",
    "def get_label_for_month(inds: xr.Dataset) -> str:\n",
    "    \"\"\"\n",
    "    Get the label for a given month of data\n",
    "    \"\"\"\n",
    "    year = int(inds[\"time\"].dt.year)\n",
    "    month_name = calendar.month_name[int(inds[\"time\"].dt.month)]\n",
    "\n",
    "    return f\"{year} - {month_name}\"\n",
    "\n",
    "\n",
    "mosaic_flat = [get_label_for_month(ds_plt.sel(time=time)) for time in ds_plt[\"time\"]]\n",
    "\n",
    "mosaic = [mosaic_flat[3 * i : 3 * (i + 1)] for i in range(len(mosaic_flat) // 3)]\n",
    "\n",
    "fig, axes_d = plt.subplot_mosaic(mosaic, figsize=(8, 9), sharey=True, sharex=True)\n",
    "\n",
    "for time in ds_plt[\"time\"]:\n",
    "    ds_plt_time = ds_plt.sel(time=time)\n",
    "    label = get_label_for_month(ds_plt_time)\n",
    "\n",
    "    axes_d[label].scatter(\n",
    "        x=ds_plt_time[\"co2\"].values,\n",
    "        y=ds_plt_time[\"lat\"].values,\n",
    "        s=10,\n",
    "        label=label,\n",
    "    )\n",
    "\n",
    "    for bounds, val in zip(ds_plt_time[\"lat_bnds\"].values, ds_plt_time[\"co2\"].values):\n",
    "        axes_d[label].plot(\n",
    "            [val, val], bounds, color=\"tab:blue\", linewidth=1.0, alpha=0.7\n",
    "        )\n",
    "\n",
    "    yticks = np.arange(-90, 91, 15.0)\n",
    "    axes_d[label].set_yticks(yticks)\n",
    "    axes_d[label].set_ylim(yticks[0], yticks[-1])\n",
    "    # axes_d[label].set_ylabel(\"Latitude (degrees north)\")\n",
    "\n",
    "    # axes_d[label].set_xlabel(\"co2 [ppm]\")\n",
    "    axes_d[label].grid()\n",
    "    axes_d[label].set_title(label, fontsize=\"small\")\n",
    "\n",
    "for month in [1, 4, 7, 10]:\n",
    "    axes_d[f\"2023 - {calendar.month_name[month]}\"].set_ylabel(\n",
    "        \"Latitude (degrees north)\"\n",
    "    )\n",
    "\n",
    "for month in range(10, 13):\n",
    "    axes_d[f\"2023 - {calendar.month_name[month]}\"].set_xlabel(\"co2 [ppm]\")\n",
    "# ax.legend(loc=\"center left\", bbox_to_anchor=(1.05, 0.5))\n",
    "\n",
    "plt.tight_layout()\n",
    "plt.show()"
   ]
  },
  {
   "cell_type": "markdown",
   "id": "c9a6522c",
   "metadata": {
    "editable": true,
    "slideshow": {
     "slide_type": ""
    }
   },
   "source": [
    "We can compare the global-mean data\n",
    "to the data at each latitude.\n",
    "The strength of the latitudinal gradient varies also by gas (not shown)."
   ]
  },
  {
   "cell_type": "code",
   "execution_count": null,
   "id": "a108d0cd",
   "metadata": {
    "editable": true,
    "slideshow": {
     "slide_type": ""
    },
    "tags": [
     "remove_input"
    ]
   },
   "outputs": [],
   "source": [
    "fig, ax = plt.subplots(figsize=(8, 4))\n",
    "\n",
    "time_slice = slice(None, 5 * 12)\n",
    "\n",
    "ds_plt = ds_example_co2_monthly_global.isel(time=time_slice)\n",
    "ds_plt[\"co2\"].plot.scatter(\n",
    "    ax=ax, label=\"global-mean\", color=\"tab:blue\", s=30, zorder=10.0\n",
    ")\n",
    "\n",
    "for bounds, val in zip(ds_plt[\"time_bnds\"].values, ds_plt[\"co2\"].values):\n",
    "    ax.plot(bounds, [val, val], color=\"tab:blue\", linewidth=1.0, alpha=0.7)\n",
    "\n",
    "ds_all_lats = ds_example_co2_monthly_lat.isel(time=time_slice)\n",
    "\n",
    "for i, lat in enumerate(sorted(ds_all_lats[\"lat\"])[::-1]):\n",
    "    ds_plt = ds_all_lats.sel(lat=lat)\n",
    "    colour = matplotlib.colormaps[\"magma\"](i / len(ds_all_lats[\"lat\"]))\n",
    "\n",
    "    ds_plt[\"co2\"].plot.scatter(\n",
    "        ax=ax, label=f\"{float(lat)}\", color=colour, marker=\"x\", s=10\n",
    "    )\n",
    "\n",
    "    for bounds, val in zip(ds_plt[\"time_bnds\"].values, ds_plt[\"co2\"].values):\n",
    "        ax.plot(bounds, [val, val], color=colour, linewidth=1.0, alpha=0.7)\n",
    "\n",
    "ax.legend(loc=\"center left\", bbox_to_anchor=(1.05, 0.5))\n",
    "\n",
    "xticks = [cftime.DatetimeGregorian(y, 1, 1) for y in range(2023, 2029)]\n",
    "ax.set_xticks(xticks)\n",
    "ax.set_xlim(xticks[0], xticks[-1])\n",
    "ax.grid()\n",
    "ax.set_title(\"\")\n",
    "\n",
    "plt.show()"
   ]
  },
  {
   "cell_type": "markdown",
   "id": "dacc5420",
   "metadata": {
    "editable": true,
    "slideshow": {
     "slide_type": ""
    }
   },
   "source": [
    "The data can also be plotted in a so-called \"magic carpet\"\n",
    "to see the variation in space and time simultaneously."
   ]
  },
  {
   "cell_type": "code",
   "execution_count": null,
   "id": "8b447867",
   "metadata": {
    "editable": true,
    "slideshow": {
     "slide_type": ""
    },
    "tags": [
     "remove_input"
    ]
   },
   "outputs": [],
   "source": [
    "fig = plt.figure(figsize=(8, 6))\n",
    "ax = fig.add_subplot(projection=\"3d\")\n",
    "\n",
    "tmp = ds_example_co2_monthly_lat[\"co2\"].isel(time=range(10 * 12)).copy()\n",
    "tmp = tmp.assign_coords(time=tmp[\"time\"].dt.year + tmp[\"time\"].dt.month / 12)\n",
    "# Interpolate so the plot shows the step nature\n",
    "tmp = tmp.interp(\n",
    "    coords=dict(\n",
    "        time=np.linspace(\n",
    "            tmp[\"time\"].values[0], tmp[\"time\"].values[-1], tmp[\"time\"].size * 10\n",
    "        )\n",
    "    ),\n",
    "    method=\"nearest\",\n",
    ").interp(\n",
    "    coords=dict(\n",
    "        lat=np.linspace(\n",
    "            tmp[\"lat\"].values[0], tmp[\"lat\"].values[-1], tmp[\"lat\"].size * 10\n",
    "        )\n",
    "    ),\n",
    "    method=\"nearest\",\n",
    ")\n",
    "\n",
    "tmp.plot.surface(\n",
    "    x=\"time\",\n",
    "    y=\"lat\",\n",
    "    ax=ax,\n",
    "    cmap=\"magma_r\",\n",
    "    levels=30,\n",
    "    # alpha=0.7,\n",
    ")\n",
    "\n",
    "ax.view_init(15, -135, 0)\n",
    "\n",
    "plt.tight_layout()\n",
    "plt.show()"
   ]
  },
  {
   "cell_type": "markdown",
   "id": "673f9bec",
   "metadata": {
    "editable": true,
    "slideshow": {
     "slide_type": ""
    }
   },
   "source": [
    "## Transition from history\n",
    "\n",
    "Each dataset transitions smoothly from the historical data."
   ]
  },
  {
   "cell_type": "markdown",
   "id": "9331e23e",
   "metadata": {
    "editable": true,
    "slideshow": {
     "slide_type": ""
    }
   },
   "source": [
    "### Annual-, global-mean data"
   ]
  },
  {
   "cell_type": "code",
   "execution_count": null,
   "id": "af0e39ec",
   "metadata": {
    "editable": true,
    "slideshow": {
     "slide_type": ""
    },
    "tags": [
     "remove_cell"
    ]
   },
   "outputs": [],
   "source": [
    "query_kwargs_co2_yearly_global_history = {\n",
    "    **query_kwargs_co2_yearly_global,\n",
    "    \"cmip_era\": \"CMIP7\",\n",
    "    \"source_id\": \"CR-CMIP-1-0-0\",\n",
    "    \"source_version\": \"1.0.0\",\n",
    "    \"target_mip\": \"CMIP\",\n",
    "}\n",
    "\n",
    "fetch_and_load_history = partial(\n",
    "    fetch_and_load_ghg_dataset,\n",
    "    local_data_root_dir=local_data_root_dir,\n",
    "    # index_node=KnownIndexNode.DKRZ,\n",
    "    index_node=KnownIndexNode.ORNL,\n",
    ")\n",
    "\n",
    "ds_history_co2_yearly_global = fetch_and_load_history(\n",
    "    **query_kwargs_co2_yearly_global_history\n",
    ").compute()"
   ]
  },
  {
   "cell_type": "code",
   "execution_count": null,
   "id": "fdfae0ca",
   "metadata": {
    "editable": true,
    "slideshow": {
     "slide_type": ""
    },
    "tags": [
     "remove_input"
    ]
   },
   "outputs": [],
   "source": [
    "fig, ax = plt.subplots()\n",
    "\n",
    "\n",
    "def time_sel_func(\n",
    "    da: xr.DataArray, start_year: int, end_year: int\n",
    ") -> npt.NDArray[bool]:\n",
    "    \"\"\"\n",
    "    Select times of interest\n",
    "    \"\"\"\n",
    "    return (da.dt.year >= start_year) & (da.dt.year <= end_year)\n",
    "\n",
    "\n",
    "ds_history_co2_yearly_global[\"co2\"].sel(\n",
    "    time=time_sel_func(\n",
    "        ds_history_co2_yearly_global[\"time\"], start_year=2010, end_year=2030\n",
    "    )\n",
    ").plot.scatter(\n",
    "    ax=ax,\n",
    "    edgecolors=\"none\",\n",
    "    label=f\"{ds_history_co2_yearly_global.attrs['source_id']} (history)\",\n",
    ")\n",
    "ds_example_co2_yearly_global[\"co2\"].sel(\n",
    "    time=time_sel_func(\n",
    "        ds_example_co2_yearly_global[\"time\"], start_year=2010, end_year=2030\n",
    "    )\n",
    ").plot.scatter(\n",
    "    ax=ax,\n",
    "    edgecolors=\"none\",\n",
    "    label=f\"{ds_example_co2_yearly_global.attrs['source_id']} (scenario)\",\n",
    ")\n",
    "\n",
    "ax.set_xlim(cftime.DatetimeGregorian(2010, 1, 1), cftime.DatetimeGregorian(2030, 1, 1))\n",
    "ax.legend()\n",
    "\n",
    "plt.show()"
   ]
  },
  {
   "cell_type": "markdown",
   "id": "ef134c93",
   "metadata": {
    "editable": true,
    "slideshow": {
     "slide_type": ""
    }
   },
   "source": [
    "### Monthly-, global-mean data\n",
    "\n",
    "Note that the transition from history to scenarios\n",
    "is clearly wrong in the draft dataset.\n",
    "This will be fixed before the final dataset is published."
   ]
  },
  {
   "cell_type": "code",
   "execution_count": null,
   "id": "9924d567",
   "metadata": {
    "editable": true,
    "slideshow": {
     "slide_type": ""
    },
    "tags": [
     "remove_cell"
    ]
   },
   "outputs": [],
   "source": [
    "query_kwargs_co2_monthly_global_history = {\n",
    "    **query_kwargs_co2_yearly_global_history,\n",
    "    \"time_sampling\": \"mon\",\n",
    "}\n",
    "\n",
    "ds_history_co2_monthly_global = fetch_and_load_history(\n",
    "    **query_kwargs_co2_monthly_global_history\n",
    ").compute()"
   ]
  },
  {
   "cell_type": "code",
   "execution_count": null,
   "id": "2837d2bb",
   "metadata": {
    "editable": true,
    "slideshow": {
     "slide_type": ""
    },
    "tags": [
     "remove_input"
    ]
   },
   "outputs": [],
   "source": [
    "fig, ax = plt.subplots()\n",
    "\n",
    "\n",
    "def time_sel_func(\n",
    "    da: xr.DataArray, start_year: int, end_year: int\n",
    ") -> npt.NDArray[bool]:\n",
    "    \"\"\"\n",
    "    Select times of interest\n",
    "    \"\"\"\n",
    "    return (da.dt.year >= start_year) & (da.dt.year <= end_year)\n",
    "\n",
    "\n",
    "ds_history_co2_monthly_global[\"co2\"].sel(\n",
    "    time=time_sel_func(\n",
    "        ds_history_co2_monthly_global[\"time\"], start_year=2010, end_year=2030\n",
    "    )\n",
    ").plot.scatter(\n",
    "    ax=ax,\n",
    "    edgecolors=\"none\",\n",
    "    label=f\"{ds_history_co2_yearly_global.attrs['source_id']} (history)\",\n",
    ")\n",
    "ds_example_co2_monthly_global[\"co2\"].sel(\n",
    "    time=time_sel_func(\n",
    "        ds_example_co2_monthly_global[\"time\"], start_year=2010, end_year=2030\n",
    "    )\n",
    ").plot.scatter(\n",
    "    ax=ax,\n",
    "    edgecolors=\"none\",\n",
    "    label=f\"{ds_example_co2_yearly_global.attrs['source_id']} (scenario)\",\n",
    ")\n",
    "\n",
    "ax.set_xlim(cftime.DatetimeGregorian(2010, 1, 1), cftime.DatetimeGregorian(2030, 1, 1))\n",
    "ax.legend()\n",
    "\n",
    "plt.show()"
   ]
  },
  {
   "cell_type": "markdown",
   "id": "8158d654",
   "metadata": {
    "editable": true,
    "slideshow": {
     "slide_type": ""
    }
   },
   "source": [
    "### Monthly-, 15-degree latitudinally binned data\n",
    "\n",
    "Note that the transition from history to scenarios\n",
    "is clearly wrong in the draft dataset.\n",
    "This will be fixed before the final dataset is published."
   ]
  },
  {
   "cell_type": "code",
   "execution_count": null,
   "id": "829b4ccd",
   "metadata": {
    "editable": true,
    "slideshow": {
     "slide_type": ""
    },
    "tags": [
     "remove_cell"
    ]
   },
   "outputs": [],
   "source": [
    "# Get file paths\n",
    "query_kwargs_co2_monthly_lat_history = {\n",
    "    **query_kwargs_co2_monthly_global_history,\n",
    "    \"grid\": \"gnz\",\n",
    "}\n",
    "\n",
    "ds_history_co2_monthly_lat_history = fetch_and_load_history(\n",
    "    **query_kwargs_co2_monthly_lat_history\n",
    ").compute()"
   ]
  },
  {
   "cell_type": "code",
   "execution_count": null,
   "id": "d2f820db",
   "metadata": {
    "editable": true,
    "slideshow": {
     "slide_type": ""
    },
    "tags": [
     "remove_cell"
    ]
   },
   "outputs": [],
   "source": [
    "def to_data_frame(\n",
    "    ds: xr.Dataset,\n",
    "    unstack_col: str,\n",
    "    assign_metadata: dict[str, Any] | None,\n",
    "    ds_var: str | None = None,\n",
    ") -> pd.DataFrame:\n",
    "    \"\"\"\n",
    "    Convert an [xr.Dataset][xarray.Dataset] to [pd.DataFrame][pandas.DataFrame]\n",
    "\n",
    "    Definitely not a general function,\n",
    "    just a helper for the specific kinds of conversions we want to do here.\n",
    "    \"\"\"\n",
    "    if ds_var is None:\n",
    "        ds_var = ds.attrs[\"variable_id\"]\n",
    "\n",
    "    res = (\n",
    "        ds[ds_var]\n",
    "        .to_dataframe()[ds_var]\n",
    "        .unstack(unstack_col)\n",
    "        .pix.assign(unit=ds[ds_var].attrs[\"units\"])\n",
    "    )\n",
    "    if assign_metadata is not None:\n",
    "        res = res.pix.assign(**assign_metadata)\n",
    "\n",
    "    res = res.openscm.eiim()\n",
    "\n",
    "    return res"
   ]
  },
  {
   "cell_type": "code",
   "execution_count": null,
   "id": "b03c3bae",
   "metadata": {
    "editable": true,
    "slideshow": {
     "slide_type": ""
    },
    "tags": [
     "remove_cell"
    ]
   },
   "outputs": [],
   "source": [
    "pdf_l = [\n",
    "    to_data_frame(\n",
    "        ds_example_co2_monthly_lat,\n",
    "        unstack_col=\"time\",\n",
    "        assign_metadata={\"experiment\": \"scenario\"},\n",
    "    ),\n",
    "    to_data_frame(\n",
    "        ds_history_co2_monthly_lat_history,\n",
    "        unstack_col=\"time\",\n",
    "        assign_metadata={\"experiment\": \"historical\"},\n",
    "    ),\n",
    "]\n",
    "\n",
    "pdf = pd.concat([v.reorder_levels(pdf_l[0].index.names) for v in pdf_l]).sort_index(\n",
    "    axis=\"columns\"\n",
    ")\n",
    "pdf.columns = [v.year + (v.month * 2 - 1) / 24 for v in pdf.columns]\n",
    "pdf"
   ]
  },
  {
   "cell_type": "code",
   "execution_count": null,
   "id": "25b7cc54",
   "metadata": {
    "editable": true,
    "slideshow": {
     "slide_type": ""
    },
    "tags": [
     "remove_input"
    ]
   },
   "outputs": [],
   "source": [
    "start_year = 2015\n",
    "end_year = 2030\n",
    "\n",
    "sns.relplot(\n",
    "    data=pdf.loc[:, start_year:end_year].openscm.to_long_data(),\n",
    "    x=\"time\",\n",
    "    y=\"value\",\n",
    "    col=\"lat\",\n",
    "    col_wrap=3,\n",
    "    col_order=sorted(pdf.index.get_level_values(\"lat\").unique())[::-1],\n",
    "    kind=\"scatter\",\n",
    "    hue=\"experiment\",\n",
    ")\n",
    "\n",
    "plt.show()"
   ]
  },
  {
   "cell_type": "markdown",
   "id": "2cba5bac",
   "metadata": {
    "editable": true,
    "slideshow": {
     "slide_type": ""
    }
   },
   "source": [
    "## Full scenario set\n",
    "\n",
    "Having seen the transition for a single scenario,\n",
    "we now show the full scenario set\n",
    "including the transition from history."
   ]
  },
  {
   "cell_type": "markdown",
   "id": "6b81e98a",
   "metadata": {
    "editable": true,
    "slideshow": {
     "slide_type": ""
    }
   },
   "source": [
    "### Annual-, global-mean data"
   ]
  },
  {
   "cell_type": "code",
   "execution_count": null,
   "id": "dc258647",
   "metadata": {
    "editable": true,
    "slideshow": {
     "slide_type": ""
    },
    "tags": [
     "remove_cell"
    ]
   },
   "outputs": [],
   "source": [
    "gases_to_show = [\"co2\", \"ch4\", \"n2o\", \"cfc12eq\", \"hfc134aeq\"]\n",
    "ds_gases_full_yearly_d = {}\n",
    "for gas in gases_to_show:\n",
    "    ds_gases_full_yearly_d[gas] = {}\n",
    "    for key, target_mip, source_version, institution_id, cmip_era in (\n",
    "        (\"history\", \"CMIP\", \"1.0.0\", \"CR\", \"CMIP7\"),\n",
    "        (\"scenarios\", \"ScenarioMIP\", \"0.1.0\", \"CR\", \"CMIP6Plus\"),\n",
    "    ):\n",
    "        query_kwargs = {\n",
    "            \"ghg\": gas,\n",
    "            \"time_sampling\": \"yr\",\n",
    "            \"grid\": \"gm\",\n",
    "            \"target_mip\": target_mip,\n",
    "            \"source_version\": source_version,\n",
    "            \"institution_id\": institution_id,\n",
    "            \"cmip_era\": cmip_era,\n",
    "            \"engine\": engine,\n",
    "        }\n",
    "        ds = fetch_and_load(**query_kwargs)\n",
    "\n",
    "        # Unify time axis days to simplify\n",
    "        ds[\"time\"] = [\n",
    "            cftime.DatetimeProlepticGregorian(v.year, v.month, 15)\n",
    "            for v in ds[\"time\"].values\n",
    "        ]\n",
    "\n",
    "        # compute to avoid dask weirdness\n",
    "        ds_gases_full_yearly_d[gas][key] = ds.compute()"
   ]
  },
  {
   "cell_type": "code",
   "execution_count": null,
   "id": "68965a3f",
   "metadata": {
    "editable": true,
    "slideshow": {
     "slide_type": ""
    },
    "tags": [
     "remove_cell"
    ]
   },
   "outputs": [],
   "source": [
    "palette = {\n",
    "    \"history\": \"k\",\n",
    "    \"history-cmip6\": \"tab:grey\",\n",
    "    \"historical\": \"k\",\n",
    "    \"historical-cmip6\": \"tab:grey\",\n",
    "    \"vl\": \"#24a4ff\",\n",
    "    \"vllo\": \"#24a4ff\",\n",
    "    \"ln\": \"#4a0daf\",\n",
    "    \"vlho\": \"#4a0daf\",\n",
    "    \"l\": \"#00cc69\",\n",
    "    \"ml\": \"#f5ac00\",\n",
    "    \"m\": \"#ffa9dc\",\n",
    "    \"h\": \"#700000\",\n",
    "    \"hl\": \"#8f003b\",\n",
    "    \"ssp119\": \"#00a9cf\",\n",
    "    \"ssp126\": \"#003466\",\n",
    "    \"ssp245\": \"#f69320\",\n",
    "    \"ssp370\": \"#df0000\",\n",
    "    \"ssp434\": \"#2274ae\",\n",
    "    \"ssp460\": \"#b0724e\",\n",
    "    \"ssp534-over\": \"#92397a\",\n",
    "    \"ssp585\": \"#980002\",\n",
    "}\n",
    "\n",
    "plt.rcParams[\"axes.xmargin\"] = 0\n",
    "\n",
    "hue_order = [\n",
    "    \"h\",\n",
    "    \"hl\",\n",
    "    \"m\",\n",
    "    \"ml\",\n",
    "    \"l\",\n",
    "    # \"ln\",\n",
    "    \"vlho\",\n",
    "    # \"vl\",\n",
    "    \"vllo\",\n",
    "    \"historical\",\n",
    "]"
   ]
  },
  {
   "cell_type": "code",
   "execution_count": null,
   "id": "8a10c478",
   "metadata": {
    "editable": true,
    "slideshow": {
     "slide_type": ""
    },
    "tags": [
     "remove_cell"
    ]
   },
   "outputs": [],
   "source": [
    "start_year = 1950\n",
    "\n",
    "pdf_l = [\n",
    "    v.sort_index(axis=\"columns\")\n",
    "    for ghg in tqdm.auto.tqdm(ds_gases_full_yearly_d)\n",
    "    for v in [\n",
    "        to_data_frame(\n",
    "            ds=ds_gases_full_yearly_d[ghg][\"scenarios\"]\n",
    "            .sel(\n",
    "                time=ds_gases_full_yearly_d[ghg][\"scenarios\"][\"time\"].dt.year\n",
    "                >= start_year\n",
    "            )\n",
    "            .groupby(\"time.year\")\n",
    "            .mean(),\n",
    "            unstack_col=\"year\",\n",
    "            assign_metadata={\"ghg\": ghg},\n",
    "        ).openscm.update_index_levels_from_other(\n",
    "            {\"experiment\": (\"scenario\", lambda x: x)}\n",
    "        ),\n",
    "        to_data_frame(\n",
    "            ds=ds_gases_full_yearly_d[ghg][\"history\"]\n",
    "            .sel(\n",
    "                time=ds_gases_full_yearly_d[ghg][\"history\"][\"time\"].dt.year\n",
    "                >= start_year\n",
    "            )\n",
    "            .groupby(\"time.year\")\n",
    "            .mean(),\n",
    "            unstack_col=\"year\",\n",
    "            assign_metadata={\"experiment\": \"historical\", \"ghg\": ghg},\n",
    "        ),\n",
    "    ]\n",
    "]\n",
    "pdf = pd.concat(\n",
    "    [v.reorder_levels(pdf_l[0].index.names) for v in pdf_l], axis=\"rows\"\n",
    ").sort_index(axis=\"columns\")\n",
    "\n",
    "# pdf"
   ]
  },
  {
   "cell_type": "code",
   "execution_count": null,
   "id": "61c4b585",
   "metadata": {
    "editable": true,
    "slideshow": {
     "slide_type": ""
    },
    "tags": [
     "remove_input"
    ]
   },
   "outputs": [],
   "source": [
    "sns.relplot(\n",
    "    data=pdf.openscm.to_long_data(),\n",
    "    x=\"time\",\n",
    "    y=\"value\",\n",
    "    hue=\"experiment\",\n",
    "    palette=palette,\n",
    "    hue_order=hue_order,\n",
    "    kind=\"scatter\",\n",
    "    col=\"ghg\",\n",
    "    col_wrap=3,\n",
    "    facet_kws=dict(sharey=False),\n",
    ")\n",
    "\n",
    "plt.show()"
   ]
  },
  {
   "cell_type": "markdown",
   "id": "249d132c",
   "metadata": {
    "editable": true,
    "slideshow": {
     "slide_type": ""
    }
   },
   "source": [
    "### Monthly-, global-mean data"
   ]
  },
  {
   "cell_type": "code",
   "execution_count": null,
   "id": "59735cb5",
   "metadata": {
    "editable": true,
    "slideshow": {
     "slide_type": ""
    },
    "tags": [
     "remove_cell"
    ]
   },
   "outputs": [],
   "source": [
    "ds_gases_full_monthly_d = {}\n",
    "for gas in gases_to_show:\n",
    "    ds_gases_full_monthly_d[gas] = {}\n",
    "    for key, target_mip, source_version, institution_id, cmip_era in (\n",
    "        (\"history\", \"CMIP\", \"1.0.0\", \"CR\", \"CMIP7\"),\n",
    "        (\"scenarios\", \"ScenarioMIP\", \"0.1.0\", \"CR\", \"CMIP6Plus\"),\n",
    "    ):\n",
    "        query_kwargs = {\n",
    "            \"ghg\": gas,\n",
    "            \"time_sampling\": \"mon\",\n",
    "            \"grid\": \"gm\",\n",
    "            \"target_mip\": target_mip,\n",
    "            \"source_version\": source_version,\n",
    "            \"institution_id\": institution_id,\n",
    "            \"cmip_era\": cmip_era,\n",
    "            \"engine\": engine,\n",
    "        }\n",
    "        ds = fetch_and_load(**query_kwargs)\n",
    "\n",
    "        # Unify time axis days to simplify\n",
    "        ds[\"time\"] = [\n",
    "            cftime.DatetimeProlepticGregorian(v.year, v.month, 15)\n",
    "            for v in ds[\"time\"].values\n",
    "        ]\n",
    "\n",
    "        # compute to avoid dask weirdness\n",
    "        ds_gases_full_monthly_d[gas][key] = ds.compute()"
   ]
  },
  {
   "cell_type": "code",
   "execution_count": null,
   "id": "7f85f4f9",
   "metadata": {
    "editable": true,
    "slideshow": {
     "slide_type": ""
    },
    "tags": [
     "remove_cell"
    ]
   },
   "outputs": [],
   "source": [
    "start_year = 2015\n",
    "end_year = 2030\n",
    "\n",
    "pdf_l = [\n",
    "    v.sort_index(axis=\"columns\")\n",
    "    for ghg in tqdm.auto.tqdm(ds_gases_full_monthly_d)\n",
    "    for v in [\n",
    "        to_data_frame(\n",
    "            ds=ds_gases_full_monthly_d[ghg][\"scenarios\"].sel(\n",
    "                time=(\n",
    "                    (\n",
    "                        ds_gases_full_monthly_d[ghg][\"scenarios\"][\"time\"].dt.year\n",
    "                        >= start_year\n",
    "                    )\n",
    "                    & (\n",
    "                        ds_gases_full_monthly_d[ghg][\"scenarios\"][\"time\"].dt.year\n",
    "                        <= end_year\n",
    "                    )\n",
    "                )\n",
    "            ),\n",
    "            unstack_col=\"time\",\n",
    "            assign_metadata={\"ghg\": ghg},\n",
    "        ).openscm.update_index_levels_from_other(\n",
    "            {\"experiment\": (\"scenario\", lambda x: x)}\n",
    "        ),\n",
    "        to_data_frame(\n",
    "            ds=ds_gases_full_monthly_d[ghg][\"history\"].sel(\n",
    "                time=(\n",
    "                    (\n",
    "                        ds_gases_full_monthly_d[ghg][\"history\"][\"time\"].dt.year\n",
    "                        >= start_year\n",
    "                    )\n",
    "                    & (\n",
    "                        ds_gases_full_monthly_d[ghg][\"history\"][\"time\"].dt.year\n",
    "                        <= end_year\n",
    "                    )\n",
    "                )\n",
    "            ),\n",
    "            unstack_col=\"time\",\n",
    "            assign_metadata={\"experiment\": \"historical\", \"ghg\": ghg},\n",
    "        ),\n",
    "    ]\n",
    "]\n",
    "pdf = pd.concat(\n",
    "    [v.reorder_levels(pdf_l[0].index.names) for v in pdf_l], axis=\"rows\"\n",
    ").sort_index(axis=\"columns\")\n",
    "pdf.columns = [v.year + (v.month * 2 - 1) / 24 for v in pdf.columns]\n",
    "\n",
    "# pdf"
   ]
  },
  {
   "cell_type": "code",
   "execution_count": null,
   "id": "bd181400",
   "metadata": {
    "editable": true,
    "slideshow": {
     "slide_type": ""
    },
    "tags": [
     "remove_input"
    ]
   },
   "outputs": [],
   "source": [
    "sns.relplot(\n",
    "    data=pdf.openscm.to_long_data(),\n",
    "    x=\"time\",\n",
    "    y=\"value\",\n",
    "    hue=\"experiment\",\n",
    "    palette=palette,\n",
    "    hue_order=hue_order,\n",
    "    kind=\"scatter\",\n",
    "    col=\"ghg\",\n",
    "    col_wrap=3,\n",
    "    edgecolors=\"none\",\n",
    "    facet_kws=dict(sharey=False),\n",
    ")\n",
    "\n",
    "plt.show()"
   ]
  },
  {
   "cell_type": "markdown",
   "id": "b1e5eb98",
   "metadata": {
    "editable": true,
    "slideshow": {
     "slide_type": ""
    }
   },
   "source": [
    "### Monthly-, 15-degree latitudinal data"
   ]
  },
  {
   "cell_type": "code",
   "execution_count": null,
   "id": "362d4d51",
   "metadata": {
    "editable": true,
    "slideshow": {
     "slide_type": ""
    },
    "tags": [
     "remove_cell"
    ]
   },
   "outputs": [],
   "source": [
    "ds_gases_full_monthly_lat_d = {}\n",
    "for gas in gases_to_show:\n",
    "    ds_gases_full_monthly_lat_d[gas] = {}\n",
    "    for key, target_mip, source_version, institution_id, cmip_era in (\n",
    "        (\"history\", \"CMIP\", \"1.0.0\", \"CR\", \"CMIP7\"),\n",
    "        (\"scenarios\", \"ScenarioMIP\", \"0.1.0\", \"CR\", \"CMIP6Plus\"),\n",
    "    ):\n",
    "        query_kwargs = {\n",
    "            \"ghg\": gas,\n",
    "            \"time_sampling\": \"mon\",\n",
    "            \"grid\": \"gnz\",\n",
    "            \"target_mip\": target_mip,\n",
    "            \"source_version\": source_version,\n",
    "            \"institution_id\": institution_id,\n",
    "            \"cmip_era\": cmip_era,\n",
    "            \"engine\": engine,\n",
    "        }\n",
    "        ds = fetch_and_load(**query_kwargs)\n",
    "\n",
    "        # Unify time axis days to simplify\n",
    "        ds[\"time\"] = [\n",
    "            cftime.DatetimeProlepticGregorian(v.year, v.month, 15)\n",
    "            for v in ds[\"time\"].values\n",
    "        ]\n",
    "\n",
    "        # compute to avoid dask weirdness\n",
    "        ds_gases_full_monthly_lat_d[gas][key] = ds.compute()"
   ]
  },
  {
   "cell_type": "code",
   "execution_count": null,
   "id": "efa4394f",
   "metadata": {
    "editable": true,
    "slideshow": {
     "slide_type": ""
    },
    "tags": [
     "remove_cell"
    ]
   },
   "outputs": [],
   "source": [
    "start_year = 2015\n",
    "end_year = 2030\n",
    "\n",
    "pdf_l = [\n",
    "    v.sort_index(axis=\"columns\")\n",
    "    for ghg in tqdm.auto.tqdm(ds_gases_full_monthly_lat_d)\n",
    "    for v in [\n",
    "        to_data_frame(\n",
    "            ds=ds_gases_full_monthly_lat_d[ghg][\"scenarios\"].sel(\n",
    "                time=(\n",
    "                    (\n",
    "                        ds_gases_full_monthly_lat_d[ghg][\"scenarios\"][\"time\"].dt.year\n",
    "                        >= start_year\n",
    "                    )\n",
    "                    & (\n",
    "                        ds_gases_full_monthly_lat_d[ghg][\"scenarios\"][\"time\"].dt.year\n",
    "                        <= end_year\n",
    "                    )\n",
    "                )\n",
    "            ),\n",
    "            unstack_col=\"time\",\n",
    "            assign_metadata={\"ghg\": ghg},\n",
    "        ).openscm.update_index_levels_from_other(\n",
    "            {\"experiment\": (\"scenario\", lambda x: x)}\n",
    "        ),\n",
    "        to_data_frame(\n",
    "            ds=ds_gases_full_monthly_lat_d[ghg][\"history\"].sel(\n",
    "                time=(\n",
    "                    (\n",
    "                        ds_gases_full_monthly_lat_d[ghg][\"history\"][\"time\"].dt.year\n",
    "                        >= start_year\n",
    "                    )\n",
    "                    & (\n",
    "                        ds_gases_full_monthly_lat_d[ghg][\"history\"][\"time\"].dt.year\n",
    "                        <= end_year\n",
    "                    )\n",
    "                )\n",
    "            ),\n",
    "            unstack_col=\"time\",\n",
    "            assign_metadata={\"experiment\": \"historical\", \"ghg\": ghg},\n",
    "        ),\n",
    "    ]\n",
    "]\n",
    "pdf = pd.concat(\n",
    "    [v.reorder_levels(pdf_l[0].index.names) for v in pdf_l], axis=\"rows\"\n",
    ").sort_index(axis=\"columns\")\n",
    "pdf.columns = [v.year + (v.month * 2 - 1) / 24 for v in pdf.columns]\n",
    "\n",
    "# pdf"
   ]
  },
  {
   "cell_type": "code",
   "execution_count": null,
   "id": "25f98622",
   "metadata": {
    "editable": true,
    "slideshow": {
     "slide_type": ""
    },
    "tags": [
     "remove_input"
    ]
   },
   "outputs": [],
   "source": [
    "sns.relplot(\n",
    "    data=pdf.loc[pix.isin(lat=[-82.5, 7.5, 82.5])].openscm.to_long_data(),\n",
    "    x=\"time\",\n",
    "    y=\"value\",\n",
    "    hue=\"experiment\",\n",
    "    palette=palette,\n",
    "    hue_order=hue_order,\n",
    "    kind=\"scatter\",\n",
    "    row=\"ghg\",\n",
    "    col=\"lat\",\n",
    "    edgecolors=\"none\",\n",
    "    facet_kws=dict(sharey=\"row\"),\n",
    ")\n",
    "\n",
    "plt.show()"
   ]
  },
  {
   "cell_type": "markdown",
   "id": "b6963fe8",
   "metadata": {
    "editable": true,
    "slideshow": {
     "slide_type": ""
    }
   },
   "source": [
    "## Differences from CMIP6\n",
    "\n",
    "### File formats and naming\n",
    "\n",
    "The file formats are generally close to CMIP6.\n",
    "There are three key changes:\n",
    "\n",
    "1. the global-mean and hemispheric-mean data are split into separate files.\n",
    "   In CMIP6, this data was in the same file (with a grid label of `GMNHSH`).\n",
    "   We have split this for two reasons:\n",
    "   a) `GMNHSH` is not a grid label recognised in the CMIP CVs and\n",
    "   b) having global-mean and hemispheric-mean data in the same file\n",
    "      required us to introduce a 'sector' coordinate,\n",
    "      which was confusing and does not follow the CF-conventions.\n",
    "1. the files are split into different time components.\n",
    "   The CMIP6 data had the scenarios and their extensions in a single file.\n",
    "   The CMIP7 extensions are not defined yet,\n",
    "   so the scenarios (up to 2100) will be in one file,\n",
    "   with the extensions being in a separate file\n",
    "   (and under separate source IDs).\n",
    "1. the variable names were simplified.\n",
    "   They are now simply the names of the gases,\n",
    "   for example we now use \"co2\" rather than \"mole_fraction_of_carbon_dioxide\".\n",
    "   A full mapping is provided below.\n",
    "\n",
    "#### Variable name mapping\n",
    "\n",
    "```python\n",
    "CMIP6_TO_CMIP7_VARIABLE_MAP = {\n",
    "    # name in CMIP6: name in CMIP7\n",
    "    \"mole_fraction_of_carbon_dioxide_in_air\": \"co2\",\n",
    "    \"mole_fraction_of_methane_in_air\": \"ch4\",\n",
    "    \"mole_fraction_of_nitrous_oxide_in_air\": \"n2o\",\n",
    "    \"mole_fraction_of_c2f6_in_air\": \"c2f6\",\n",
    "    \"mole_fraction_of_c3f8_in_air\": \"c3f8\",\n",
    "    \"mole_fraction_of_c4f10_in_air\": \"c4f10\",\n",
    "    \"mole_fraction_of_c5f12_in_air\": \"c5f12\",\n",
    "    \"mole_fraction_of_c6f14_in_air\": \"c6f14\",\n",
    "    \"mole_fraction_of_c7f16_in_air\": \"c7f16\",\n",
    "    \"mole_fraction_of_c8f18_in_air\": \"c8f18\",\n",
    "    \"mole_fraction_of_c_c4f8_in_air\": \"cc4f8\",\n",
    "    \"mole_fraction_of_carbon_tetrachloride_in_air\": \"ccl4\",\n",
    "    \"mole_fraction_of_cf4_in_air\": \"cf4\",\n",
    "    \"mole_fraction_of_cfc11_in_air\": \"cfc11\",\n",
    "    \"mole_fraction_of_cfc113_in_air\": \"cfc113\",\n",
    "    \"mole_fraction_of_cfc114_in_air\": \"cfc114\",\n",
    "    \"mole_fraction_of_cfc115_in_air\": \"cfc115\",\n",
    "    \"mole_fraction_of_cfc12_in_air\": \"cfc12\",\n",
    "    \"mole_fraction_of_ch2cl2_in_air\": \"ch2cl2\",\n",
    "    \"mole_fraction_of_methyl_bromide_in_air\": \"ch3br\",\n",
    "    \"mole_fraction_of_ch3ccl3_in_air\": \"ch3ccl3\",\n",
    "    \"mole_fraction_of_methyl_chloride_in_air\": \"ch3cl\",\n",
    "    \"mole_fraction_of_chcl3_in_air\": \"chcl3\",\n",
    "    \"mole_fraction_of_halon1211_in_air\": \"halon1211\",\n",
    "    \"mole_fraction_of_halon1301_in_air\": \"halon1301\",\n",
    "    \"mole_fraction_of_halon2402_in_air\": \"halon2402\",\n",
    "    \"mole_fraction_of_hcfc141b_in_air\": \"hcfc141b\",\n",
    "    \"mole_fraction_of_hcfc142b_in_air\": \"hcfc142b\",\n",
    "    \"mole_fraction_of_hcfc22_in_air\": \"hcfc22\",\n",
    "    \"mole_fraction_of_hfc125_in_air\": \"hfc125\",\n",
    "    \"mole_fraction_of_hfc134a_in_air\": \"hfc134a\",\n",
    "    \"mole_fraction_of_hfc143a_in_air\": \"hfc143a\",\n",
    "    \"mole_fraction_of_hfc152a_in_air\": \"hfc152a\",\n",
    "    \"mole_fraction_of_hfc227ea_in_air\": \"hfc227ea\",\n",
    "    \"mole_fraction_of_hfc23_in_air\": \"hfc23\",\n",
    "    \"mole_fraction_of_hfc236fa_in_air\": \"hfc236fa\",\n",
    "    \"mole_fraction_of_hfc245fa_in_air\": \"hfc245fa\",\n",
    "    \"mole_fraction_of_hfc32_in_air\": \"hfc32\",\n",
    "    \"mole_fraction_of_hfc365mfc_in_air\": \"hfc365mfc\",\n",
    "    \"mole_fraction_of_hfc4310mee_in_air\": \"hfc4310mee\",\n",
    "    \"mole_fraction_of_nf3_in_air\": \"nf3\",\n",
    "    \"mole_fraction_of_sf6_in_air\": \"sf6\",\n",
    "    \"mole_fraction_of_so2f2_in_air\": \"so2f2\",\n",
    "    \"mole_fraction_of_cfc11eq_in_air\": \"cfc11eq\",\n",
    "    \"mole_fraction_of_cfc12eq_in_air\": \"cfc12eq\",\n",
    "    \"mole_fraction_of_hfc134aeq_in_air\": \"hfc134aeq\",\n",
    "}\n",
    "```"
   ]
  },
  {
   "cell_type": "markdown",
   "id": "b908c244",
   "metadata": {
    "editable": true,
    "slideshow": {
     "slide_type": ""
    }
   },
   "source": [
    "### Data comparisons\n",
    "\n",
    "Comparing the data from CMIP6 and CMIP7 shows changes in two key areas:\n",
    "\n",
    "1. the scenarios are simply different\n",
    "2. the transition from historical to scenarios is more carefully harmonised"
   ]
  },
  {
   "cell_type": "markdown",
   "id": "c8156eec",
   "metadata": {
    "editable": true,
    "slideshow": {
     "slide_type": ""
    }
   },
   "source": [
    "### Annual-, global-mean data"
   ]
  },
  {
   "cell_type": "code",
   "execution_count": null,
   "id": "cca90fc2",
   "metadata": {
    "editable": true,
    "slideshow": {
     "slide_type": ""
    },
    "tags": [
     "remove_cell"
    ]
   },
   "outputs": [],
   "source": [
    "scenario_group_map = {\n",
    "    \"h\": \"high\",\n",
    "    \"hl\": \"high\",\n",
    "    \"ssp585\": \"high\",\n",
    "    \"ssp534-over\": \"high\",\n",
    "    \"ssp370\": \"high\",\n",
    "    \"ssp460\": \"high\",\n",
    "    \"m\": \"continuing-trends\",\n",
    "    \"ml\": \"continuing-trends\",\n",
    "    \"ssp434\": \"continuing-trends\",\n",
    "    \"ssp245\": \"continuing-trends\",\n",
    "    \"l\": \"low\",\n",
    "    # \"vl\": \"low\",\n",
    "    # \"ln\": \"low\",\n",
    "    \"vllo\": \"low\",\n",
    "    \"vlho\": \"low\",\n",
    "    \"ssp126\": \"low\",\n",
    "    \"ssp119\": \"low\",\n",
    "    \"historical\": \"historical\",\n",
    "}\n",
    "\n",
    "hue_order_incl_cmip6 = [\n",
    "    \"h\",\n",
    "    \"hl\",\n",
    "    \"m\",\n",
    "    \"ml\",\n",
    "    \"l\",\n",
    "    # \"ln\",\n",
    "    \"vlho\",\n",
    "    # \"vl\",\n",
    "    \"vllo\",\n",
    "    \"historical\",\n",
    "    \"ssp585\",\n",
    "    \"ssp534-over\",\n",
    "    \"ssp370\",\n",
    "    \"ssp460\",\n",
    "    \"ssp434\",\n",
    "    \"ssp245\",\n",
    "    \"ssp126\",\n",
    "    \"ssp119\",\n",
    "]"
   ]
  },
  {
   "cell_type": "code",
   "execution_count": null,
   "id": "3ca9e78c",
   "metadata": {
    "editable": true,
    "slideshow": {
     "slide_type": ""
    },
    "tags": [
     "remove_cell"
    ]
   },
   "outputs": [],
   "source": [
    "ds_gases_full_yearly_multi_phase_d = {}\n",
    "for gas in gases_to_show:\n",
    "    ds_gases_full_yearly_multi_phase_d[gas] = {}\n",
    "    for key, target_mip, source_version, institution_id, cmip_era in (\n",
    "        (\"history-cmip7\", \"CMIP\", \"1.0.0\", \"CR\", \"CMIP7\"),\n",
    "        (\"scenarios-cmip7\", \"ScenarioMIP\", \"0.1.0\", \"CR\", \"CMIP6Plus\"),\n",
    "        (\"history-cmip6\", \"CMIP\", \"1.2.0\", \"UoM\", \"CMIP6\"),\n",
    "        (\"scenarios-cmip6\", \"ScenarioMIP\", \"1.2.1\", \"UoM\", \"CMIP6\"),\n",
    "    ):\n",
    "        query_kwargs = {\n",
    "            \"ghg\": gas,\n",
    "            \"time_sampling\": \"yr\",\n",
    "            \"grid\": \"gm\",\n",
    "            \"target_mip\": target_mip,\n",
    "            \"source_version\": source_version,\n",
    "            \"institution_id\": institution_id,\n",
    "            \"cmip_era\": cmip_era,\n",
    "            \"engine\": engine,\n",
    "        }\n",
    "        ds = fetch_and_load(**query_kwargs)\n",
    "\n",
    "        # Unify time axis days to simplify\n",
    "        ds[\"time\"] = [\n",
    "            cftime.DatetimeProlepticGregorian(v.year, v.month, 15)\n",
    "            for v in ds[\"time\"].values\n",
    "        ]\n",
    "\n",
    "        # compute to avoid dask weirdness\n",
    "        ds_gases_full_yearly_multi_phase_d[gas][key] = ds.compute()"
   ]
  },
  {
   "cell_type": "code",
   "execution_count": null,
   "id": "8c44f827",
   "metadata": {
    "editable": true,
    "slideshow": {
     "slide_type": ""
    },
    "tags": [
     "remove_cell"
    ]
   },
   "outputs": [],
   "source": [
    "start_year = 2000\n",
    "end_year = 2100\n",
    "pdf_l = [\n",
    "    v.sort_index(axis=\"columns\")\n",
    "    for ghg in tqdm.auto.tqdm(ds_gases_full_yearly_multi_phase_d)\n",
    "    for v in [\n",
    "        to_data_frame(\n",
    "            ds=ds_gases_full_yearly_multi_phase_d[ghg][\"scenarios-cmip7\"]\n",
    "            .sel(\n",
    "                time=(\n",
    "                    (\n",
    "                        ds_gases_full_yearly_multi_phase_d[ghg][\"scenarios-cmip7\"][\n",
    "                            \"time\"\n",
    "                        ].dt.year\n",
    "                        >= start_year\n",
    "                    )\n",
    "                    & (\n",
    "                        ds_gases_full_yearly_multi_phase_d[ghg][\"scenarios-cmip7\"][\n",
    "                            \"time\"\n",
    "                        ].dt.year\n",
    "                        <= end_year\n",
    "                    )\n",
    "                )\n",
    "            )\n",
    "            .groupby(\"time.year\")\n",
    "            .mean(),\n",
    "            unstack_col=\"year\",\n",
    "            assign_metadata={\"ghg\": ghg, \"cmip_era\": \"CMIP7\"},\n",
    "        ).openscm.update_index_levels_from_other(\n",
    "            {\"experiment\": (\"scenario\", lambda x: x)}\n",
    "        ),\n",
    "        to_data_frame(\n",
    "            ds=ds_gases_full_yearly_multi_phase_d[ghg][\"history-cmip7\"]\n",
    "            .sel(\n",
    "                time=(\n",
    "                    (\n",
    "                        ds_gases_full_yearly_multi_phase_d[ghg][\"history-cmip7\"][\n",
    "                            \"time\"\n",
    "                        ].dt.year\n",
    "                        >= start_year\n",
    "                    )\n",
    "                    & (\n",
    "                        ds_gases_full_yearly_multi_phase_d[ghg][\"history-cmip7\"][\n",
    "                            \"time\"\n",
    "                        ].dt.year\n",
    "                        <= end_year\n",
    "                    )\n",
    "                )\n",
    "            )\n",
    "            .groupby(\"time.year\")\n",
    "            .mean(),\n",
    "            unstack_col=\"year\",\n",
    "            assign_metadata={\n",
    "                \"experiment\": \"historical\",\n",
    "                \"ghg\": ghg,\n",
    "                \"cmip_era\": \"CMIP7\",\n",
    "            },\n",
    "        ),\n",
    "        to_data_frame(\n",
    "            ds=ds_gases_full_yearly_multi_phase_d[ghg][\"scenarios-cmip6\"]\n",
    "            .sel(\n",
    "                time=(\n",
    "                    (\n",
    "                        ds_gases_full_yearly_multi_phase_d[ghg][\"scenarios-cmip6\"][\n",
    "                            \"time\"\n",
    "                        ].dt.year\n",
    "                        >= start_year\n",
    "                    )\n",
    "                    & (\n",
    "                        ds_gases_full_yearly_multi_phase_d[ghg][\"scenarios-cmip6\"][\n",
    "                            \"time\"\n",
    "                        ].dt.year\n",
    "                        <= end_year\n",
    "                    )\n",
    "                )\n",
    "            )\n",
    "            .groupby(\"time.year\")\n",
    "            .mean(),\n",
    "            unstack_col=\"year\",\n",
    "            assign_metadata={\"ghg\": ghg, \"cmip_era\": \"CMIP6\"},\n",
    "            ds_var=ghg,\n",
    "        ).openscm.update_index_levels_from_other(\n",
    "            {\"experiment\": (\"scenario\", lambda x: x)}\n",
    "        ),\n",
    "        to_data_frame(\n",
    "            ds=ds_gases_full_yearly_multi_phase_d[ghg][\"history-cmip6\"]\n",
    "            .sel(\n",
    "                time=(\n",
    "                    (\n",
    "                        ds_gases_full_yearly_multi_phase_d[ghg][\"history-cmip6\"][\n",
    "                            \"time\"\n",
    "                        ].dt.year\n",
    "                        >= start_year\n",
    "                    )\n",
    "                    & (\n",
    "                        ds_gases_full_yearly_multi_phase_d[ghg][\"history-cmip6\"][\n",
    "                            \"time\"\n",
    "                        ].dt.year\n",
    "                        <= end_year\n",
    "                    )\n",
    "                )\n",
    "            )\n",
    "            .groupby(\"time.year\")\n",
    "            .mean(),\n",
    "            unstack_col=\"year\",\n",
    "            assign_metadata={\n",
    "                \"experiment\": \"historical\",\n",
    "                \"ghg\": ghg,\n",
    "                \"cmip_era\": \"CMIP6\",\n",
    "            },\n",
    "            ds_var=ghg,\n",
    "        ),\n",
    "    ]\n",
    "]\n",
    "pdf = pd.concat(\n",
    "    [v.reorder_levels(pdf_l[0].index.names) for v in pdf_l], axis=\"rows\"\n",
    ").sort_index(axis=\"columns\")\n",
    "\n",
    "pdf = pdf.openscm.update_index_levels_from_other(\n",
    "    {\"scenario_group\": (\"experiment\", lambda x: scenario_group_map[x])}\n",
    ")\n",
    "pdf_grouped = {sg: sgdf for sg, sgdf in pdf.groupby(\"scenario_group\")}\n",
    "tmp_l = []\n",
    "for sg, sgdf in pdf_grouped.items():\n",
    "    if sg == \"historical\":\n",
    "        continue\n",
    "\n",
    "    tmp_l.append(sgdf)\n",
    "    tmp_l.append(\n",
    "        pdf_grouped[\"historical\"].openscm.set_index_levels({\"scenario_group\": sg})\n",
    "    )\n",
    "\n",
    "pdf = pd.concat([v.reorder_levels(tmp_l[0].index.names) for v in tmp_l])\n",
    "pdf"
   ]
  },
  {
   "cell_type": "code",
   "execution_count": null,
   "id": "40ebdb90",
   "metadata": {
    "editable": true,
    "slideshow": {
     "slide_type": ""
    },
    "tags": [
     "remove_input"
    ]
   },
   "outputs": [],
   "source": [
    "start_year = 2000\n",
    "end_year = 2100\n",
    "\n",
    "sns.relplot(\n",
    "    data=pdf.loc[\n",
    "        :, (pdf.columns >= start_year) & (pdf.columns <= end_year + 1)\n",
    "    ].openscm.to_long_data(),\n",
    "    x=\"time\",\n",
    "    y=\"value\",\n",
    "    hue=\"experiment\",\n",
    "    palette=palette,\n",
    "    style=\"cmip_era\",\n",
    "    # markers={\"CMIP6\": \".\", \"CMIP7\": \"o\"},\n",
    "    # edgecolors=\"none\",\n",
    "    markers={\"CMIP6\": \"+\", \"CMIP7\": 4},\n",
    "    hue_order=hue_order_incl_cmip6,\n",
    "    kind=\"scatter\",\n",
    "    row=\"ghg\",\n",
    "    col=\"scenario_group\",\n",
    "    col_order=[\"low\", \"continuing-trends\", \"high\"],\n",
    "    facet_kws=dict(sharey=False),\n",
    "    s=100,\n",
    "    alpha=0.8,\n",
    ")\n",
    "\n",
    "plt.show()"
   ]
  },
  {
   "cell_type": "markdown",
   "id": "5a47f6f4",
   "metadata": {
    "editable": true,
    "slideshow": {
     "slide_type": ""
    }
   },
   "source": [
    "If we zoom in, the harmonisation issues in the CMIP6\n",
    "data are more clear, most obviously for CH<sub>4</sub>\n",
    "where the transition from history to scenarios\n",
    "also includes a notable increase in the rate of change\n",
    "that is independent of scenario\n",
    "(i.e. is not driven by a change in emissions)."
   ]
  },
  {
   "cell_type": "code",
   "execution_count": null,
   "id": "196a1d32",
   "metadata": {
    "editable": true,
    "slideshow": {
     "slide_type": ""
    },
    "tags": [
     "remove_input"
    ]
   },
   "outputs": [],
   "source": [
    "start_year = 2005\n",
    "end_year = 2030\n",
    "\n",
    "sns.relplot(\n",
    "    data=pdf.loc[\n",
    "        :, (pdf.columns >= start_year) & (pdf.columns <= end_year + 1)\n",
    "    ].openscm.to_long_data(),\n",
    "    x=\"time\",\n",
    "    y=\"value\",\n",
    "    hue=\"experiment\",\n",
    "    palette=palette,\n",
    "    style=\"cmip_era\",\n",
    "    # markers={\"CMIP6\": \".\", \"CMIP7\": \"o\"},\n",
    "    # edgecolors=\"none\",\n",
    "    markers={\"CMIP6\": \"+\", \"CMIP7\": 4},\n",
    "    hue_order=hue_order_incl_cmip6,\n",
    "    kind=\"scatter\",\n",
    "    row=\"ghg\",\n",
    "    col=\"scenario_group\",\n",
    "    col_order=[\"low\", \"continuing-trends\", \"high\"],\n",
    "    facet_kws=dict(sharey=\"row\"),\n",
    "    s=100,\n",
    "    alpha=0.8,\n",
    ")\n",
    "\n",
    "plt.show()"
   ]
  },
  {
   "cell_type": "markdown",
   "id": "0955350c",
   "metadata": {
    "editable": true,
    "slideshow": {
     "slide_type": ""
    }
   },
   "source": [
    "### Monthly-, global-mean data"
   ]
  },
  {
   "cell_type": "code",
   "execution_count": null,
   "id": "0f7e62ae",
   "metadata": {
    "editable": true,
    "slideshow": {
     "slide_type": ""
    },
    "tags": [
     "remove_cell"
    ]
   },
   "outputs": [],
   "source": [
    "ds_gases_full_monthly_multi_phase_d = {}\n",
    "for gas in gases_to_show:\n",
    "    ds_gases_full_monthly_multi_phase_d[gas] = {}\n",
    "    for key, target_mip, source_version, institution_id, cmip_era in (\n",
    "        (\"history-cmip7\", \"CMIP\", \"1.0.0\", \"CR\", \"CMIP7\"),\n",
    "        (\"scenarios-cmip7\", \"ScenarioMIP\", \"0.1.0\", \"CR\", \"CMIP6Plus\"),\n",
    "        (\"history-cmip6\", \"CMIP\", \"1.2.0\", \"UoM\", \"CMIP6\"),\n",
    "        (\"scenarios-cmip6\", \"ScenarioMIP\", \"1.2.1\", \"UoM\", \"CMIP6\"),\n",
    "    ):\n",
    "        query_kwargs = {\n",
    "            \"ghg\": gas,\n",
    "            \"time_sampling\": \"mon\",\n",
    "            \"grid\": \"gm\",\n",
    "            \"target_mip\": target_mip,\n",
    "            \"source_version\": source_version,\n",
    "            \"institution_id\": institution_id,\n",
    "            \"cmip_era\": cmip_era,\n",
    "            \"engine\": engine,\n",
    "        }\n",
    "        ds = fetch_and_load(**query_kwargs)\n",
    "\n",
    "        # Unify time axis days to simplify\n",
    "        ds[\"time\"] = [\n",
    "            cftime.DatetimeProlepticGregorian(v.year, v.month, 15)\n",
    "            for v in ds[\"time\"].values\n",
    "        ]\n",
    "\n",
    "        # compute to avoid dask weirdness\n",
    "        ds_gases_full_monthly_multi_phase_d[gas][key] = ds.compute()"
   ]
  },
  {
   "cell_type": "code",
   "execution_count": null,
   "id": "d8e5e09f",
   "metadata": {
    "editable": true,
    "slideshow": {
     "slide_type": ""
    },
    "tags": [
     "remove_cell"
    ]
   },
   "outputs": [],
   "source": [
    "start_year = 2000\n",
    "end_year = 2100\n",
    "pdf_l = [\n",
    "    v.sort_index(axis=\"columns\")\n",
    "    for ghg in tqdm.auto.tqdm(ds_gases_full_monthly_multi_phase_d)\n",
    "    for v in [\n",
    "        to_data_frame(\n",
    "            ds=ds_gases_full_monthly_multi_phase_d[ghg][\"scenarios-cmip7\"].sel(\n",
    "                time=(\n",
    "                    (\n",
    "                        ds_gases_full_monthly_multi_phase_d[ghg][\"scenarios-cmip7\"][\n",
    "                            \"time\"\n",
    "                        ].dt.year\n",
    "                        >= start_year\n",
    "                    )\n",
    "                    & (\n",
    "                        ds_gases_full_monthly_multi_phase_d[ghg][\"scenarios-cmip7\"][\n",
    "                            \"time\"\n",
    "                        ].dt.year\n",
    "                        <= end_year\n",
    "                    )\n",
    "                )\n",
    "            ),\n",
    "            unstack_col=\"time\",\n",
    "            assign_metadata={\"ghg\": ghg, \"cmip_era\": \"CMIP7\"},\n",
    "        ).openscm.update_index_levels_from_other(\n",
    "            {\"experiment\": (\"scenario\", lambda x: x)}\n",
    "        ),\n",
    "        to_data_frame(\n",
    "            ds=ds_gases_full_monthly_multi_phase_d[ghg][\"history-cmip7\"].sel(\n",
    "                time=(\n",
    "                    (\n",
    "                        ds_gases_full_monthly_multi_phase_d[ghg][\"history-cmip7\"][\n",
    "                            \"time\"\n",
    "                        ].dt.year\n",
    "                        >= start_year\n",
    "                    )\n",
    "                    & (\n",
    "                        ds_gases_full_monthly_multi_phase_d[ghg][\"history-cmip7\"][\n",
    "                            \"time\"\n",
    "                        ].dt.year\n",
    "                        <= end_year\n",
    "                    )\n",
    "                )\n",
    "            ),\n",
    "            unstack_col=\"time\",\n",
    "            assign_metadata={\n",
    "                \"experiment\": \"historical\",\n",
    "                \"ghg\": ghg,\n",
    "                \"cmip_era\": \"CMIP7\",\n",
    "            },\n",
    "        ),\n",
    "        to_data_frame(\n",
    "            ds=ds_gases_full_monthly_multi_phase_d[ghg][\"scenarios-cmip6\"].sel(\n",
    "                time=(\n",
    "                    (\n",
    "                        ds_gases_full_monthly_multi_phase_d[ghg][\"scenarios-cmip6\"][\n",
    "                            \"time\"\n",
    "                        ].dt.year\n",
    "                        >= start_year\n",
    "                    )\n",
    "                    & (\n",
    "                        ds_gases_full_monthly_multi_phase_d[ghg][\"scenarios-cmip6\"][\n",
    "                            \"time\"\n",
    "                        ].dt.year\n",
    "                        <= end_year\n",
    "                    )\n",
    "                )\n",
    "            ),\n",
    "            unstack_col=\"time\",\n",
    "            assign_metadata={\"ghg\": ghg, \"cmip_era\": \"CMIP6\"},\n",
    "            ds_var=ghg,\n",
    "        ).openscm.update_index_levels_from_other(\n",
    "            {\"experiment\": (\"scenario\", lambda x: x)}\n",
    "        ),\n",
    "        to_data_frame(\n",
    "            ds=ds_gases_full_monthly_multi_phase_d[ghg][\"history-cmip6\"].sel(\n",
    "                time=(\n",
    "                    (\n",
    "                        ds_gases_full_monthly_multi_phase_d[ghg][\"history-cmip6\"][\n",
    "                            \"time\"\n",
    "                        ].dt.year\n",
    "                        >= start_year\n",
    "                    )\n",
    "                    & (\n",
    "                        ds_gases_full_monthly_multi_phase_d[ghg][\"history-cmip6\"][\n",
    "                            \"time\"\n",
    "                        ].dt.year\n",
    "                        <= end_year\n",
    "                    )\n",
    "                )\n",
    "            ),\n",
    "            unstack_col=\"time\",\n",
    "            assign_metadata={\n",
    "                \"experiment\": \"historical\",\n",
    "                \"ghg\": ghg,\n",
    "                \"cmip_era\": \"CMIP6\",\n",
    "            },\n",
    "            ds_var=ghg,\n",
    "        ),\n",
    "    ]\n",
    "]\n",
    "pdf = pd.concat(\n",
    "    [v.reorder_levels(pdf_l[0].index.names) for v in pdf_l], axis=\"rows\"\n",
    ").sort_index(axis=\"columns\")\n",
    "\n",
    "pdf = pdf.openscm.update_index_levels_from_other(\n",
    "    {\"scenario_group\": (\"experiment\", lambda x: scenario_group_map[x])}\n",
    ")\n",
    "pdf_grouped = {sg: sgdf for sg, sgdf in pdf.groupby(\"scenario_group\")}\n",
    "tmp_l = []\n",
    "for sg, sgdf in pdf_grouped.items():\n",
    "    if sg == \"historical\":\n",
    "        continue\n",
    "\n",
    "    tmp_l.append(sgdf)\n",
    "    tmp_l.append(\n",
    "        pdf_grouped[\"historical\"].openscm.set_index_levels({\"scenario_group\": sg})\n",
    "    )\n",
    "\n",
    "pdf = pd.concat([v.reorder_levels(tmp_l[0].index.names) for v in tmp_l])\n",
    "pdf.columns = [v.year + (v.month * 2 - 1) / 24 for v in pdf.columns]\n",
    "pdf"
   ]
  },
  {
   "cell_type": "code",
   "execution_count": null,
   "id": "32940c19",
   "metadata": {
    "editable": true,
    "slideshow": {
     "slide_type": ""
    },
    "tags": [
     "remove_input"
    ]
   },
   "outputs": [],
   "source": [
    "start_year = 2010\n",
    "end_year = 2030\n",
    "\n",
    "sns.relplot(\n",
    "    data=pdf.loc[\n",
    "        :, (pdf.columns >= start_year) & (pdf.columns <= end_year + 1)\n",
    "    ].openscm.to_long_data(),\n",
    "    x=\"time\",\n",
    "    y=\"value\",\n",
    "    hue=\"experiment\",\n",
    "    palette=palette,\n",
    "    style=\"cmip_era\",\n",
    "    # markers={\"CMIP6\": \".\", \"CMIP7\": \"o\"},\n",
    "    # edgecolors=\"none\",\n",
    "    markers={\"CMIP6\": \"+\", \"CMIP7\": 4},\n",
    "    hue_order=hue_order_incl_cmip6,\n",
    "    kind=\"scatter\",\n",
    "    row=\"ghg\",\n",
    "    col=\"scenario_group\",\n",
    "    col_order=[\"low\", \"continuing-trends\", \"high\"],\n",
    "    facet_kws=dict(sharey=\"row\"),\n",
    "    s=30,\n",
    "    alpha=0.8,\n",
    ")\n",
    "\n",
    "plt.show()"
   ]
  },
  {
   "cell_type": "markdown",
   "id": "cf47a0d3",
   "metadata": {},
   "source": [
    "# Bibliography\n",
    "\n",
    "```{bibliography}\n",
    ":style: plain\n",
    ":filter: {\"user-guide-scenarios\"} & docnames\n",
    "```"
   ]
  }
 ],
 "metadata": {
  "authors": [
   {
    "name": "Zebedee Nicholls"
   },
   {
    "name": "Florence Bockting"
   },
   {
    "name": "Mika Pfl{\\\"u}ger"
   }
  ],
  "jupytext": {
   "notebook_metadata_filter": "title,authors"
  },
  "kernelspec": {
   "display_name": "Python 3 (ipykernel)",
   "language": "python",
   "name": "python3"
  },
  "language_info": {
   "codemirror_mode": {
    "name": "ipython",
    "version": 3
   },
   "file_extension": ".py",
   "mimetype": "text/x-python",
   "name": "python",
   "nbconvert_exporter": "python",
   "pygments_lexer": "ipython3",
   "version": "3.12.11"
  },
  "title": "CMIP Greenhouse Gas (GHG) Concentration Scenario Dataset:\nData Description and User Guide"
 },
 "nbformat": 4,
 "nbformat_minor": 5
}

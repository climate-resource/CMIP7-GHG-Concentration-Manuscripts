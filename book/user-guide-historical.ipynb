{
 "cells": [
  {
   "cell_type": "markdown",
   "id": "2837036f",
   "metadata": {
    "editable": true,
    "slideshow": {
     "slide_type": ""
    }
   },
   "source": [
    "# CMIP Greenhouse Gas (GHG) Concentration Historical Dataset - Data Description and User Guide\n",
    "\n",
    "Here we provide a short description of the historical dataset\n",
    "and a guide for users.\n",
    "This is intended to provide a short introduction for users of the data:\n",
    "its construction, key features, metadata\n",
    "and relationship to CMIP6 forcing data.\n",
    "The full details of the dataset's construction\n",
    "and evaluation against other data sources\n",
    "will be provided in the full manuscript which is being prepared."
   ]
  },
  {
   "cell_type": "markdown",
   "id": "05fc63d1",
   "metadata": {
    "editable": true,
    "slideshow": {
     "slide_type": ""
    },
    "tags": [
     "remove_cell"
    ]
   },
   "source": [
    "## Imports"
   ]
  },
  {
   "cell_type": "code",
   "execution_count": null,
   "id": "687282d3",
   "metadata": {
    "editable": true,
    "slideshow": {
     "slide_type": ""
    },
    "tags": [
     "remove_cell"
    ]
   },
   "outputs": [],
   "source": [
    "import calendar\n",
    "from functools import partial\n",
    "\n",
    "import cftime\n",
    "import matplotlib\n",
    "import matplotlib.pyplot as plt\n",
    "import nc_time_axis  # noqa: F401\n",
    "import numpy as np\n",
    "\n",
    "from local.data_loading import fetch_and_load_ghg_dataset, get_ghg_dataset_local_files\n",
    "from local.esgf.db_helpers import create_all_tables, get_sqlite_engine\n",
    "from local.esgf.search.search_query import KnownIndexNode\n",
    "from local.paths import REPO_ROOT"
   ]
  },
  {
   "cell_type": "code",
   "execution_count": null,
   "id": "89298b40",
   "metadata": {
    "editable": true,
    "slideshow": {
     "slide_type": ""
    },
    "tags": [
     "remove_cell"
    ]
   },
   "outputs": [],
   "source": [
    "local_data_root_dir = REPO_ROOT / \"data\" / \"raw\" / \"esgf\"\n",
    "local_data_root_dir.mkdir(exist_ok=True, parents=True)\n",
    "sqlite_file = REPO_ROOT / \"download-test-database.db\"\n",
    "# # Obviously we wouldn't delete the database every time\n",
    "# # in production, but while experimenting it's handy\n",
    "# # to always start with a clean slate.\n",
    "# if sqlite_file.exists():\n",
    "#     sqlite_file.unlink()\n",
    "\n",
    "engine = get_sqlite_engine(sqlite_file)\n",
    "create_all_tables(engine)"
   ]
  },
  {
   "cell_type": "raw",
   "id": "4407c3a7",
   "metadata": {},
   "source": [
    "\\bibliographystyle{plain}\n",
    "\\bibliography{references}"
   ]
  },
  {
   "cell_type": "markdown",
   "id": "b95887e1",
   "metadata": {},
   "source": [
    "# Dataset construction\n",
    "\n",
    "The dataset is constructed following the methodology of \n",
    "{cite:t}`meinshausen_historical_2017`.\n",
    "The methods are described in full in that paper\n",
    "and will be clarified and described again\n",
    "in the forthcoming manuscript describing this dataset's construction.\n",
    "\n",
    "In brief, the dataset for each greenhouse gas is constructed via the following steps:\n",
    "\n",
    "1. collect as many ground-based observations as possible\n",
    "2. from ground-based networks such as the NOAA {cite}`lan_atmospheric_co2_2025,lan_atmospheric_ch4_2025`\n",
    "   and AGAGE (TODO REF) networks\n",
    "    - these are only available over the last few decades at most\n",
    "      (less for some greenhouse gases)\n",
    "    - these are spatially sparse because sampling stations\n",
    "      are discrete points and there are not an infinite number of stations\n",
    "      (at most, usually around 30, often far fewer)\n",
    "4. bin the ground-based observations in space and time,\n",
    "   averaging over input stations and observations that fall in the same cell\n",
    "5. interpolate the binned data in space, to derive a dataset with spatial coverage\n",
    "6. use the interpolated, ground-based data\n",
    "   to derive a statistical model for seasonal variation and latitudinal gradients\n",
    "   specific to each greenhouse gas\n",
    "     - the exact form of the statistical model varies by gas,\n",
    "       but is generally driven by either concentrations of the gas itself,\n",
    "       global-mean temperature or purely statistical regressions/extensions\n",
    "7. use the models, plus ice core or other proxy records,\n",
    "   to extend global-mean concentrations, seasonality and latitudinal gradients\n",
    "   over the full time period of the dataset (i.e. back to year 1)\n",
    "     - where ice cores or proxy records are not available,\n",
    "       purely statistical extrapolations are used instead\n",
    "     - the extension varies by gas,\n",
    "       aiming to make use of as much information as is possible\n",
    "       e.g. hemisphere specific ice core information\n",
    "       and the latitudinal gradient\n",
    "       over the period covered by ground-based observations\n",
    "8. combine the extended global-mean, seasonality and latitudinal gradients\n",
    "   to create a dataset that extends over the period\n",
    "   year 1 to 2022 (the last year available for some observational networks\n",
    "   at the time the data was compiled)\n",
    "     - this dataset is on our binned grid,\n",
    "       which we choose to be a grid comprised of latitudinal bins 15-degrees in size\n",
    "     - it is not trivial to infer the global-means,\n",
    "       seasonality and latitudinal gradient used to construct the dataset\n",
    "       from the output dataset. For this reason,\n",
    "       we include these components separately\n",
    "       in the [zenodo record](https://doi.org/10.5281/zenodo.14892947)\n",
    "       [TODO better ref]\n",
    "       that archives the output dataset,\n",
    "       all its inputs and intermediate data prdoucts\n",
    "9. calculate annual-, hemispheric- and global-means\n",
    "   to produce our lower resolution data products\n",
    "     - we can also produce higher spatial resolution data products,\n",
    "       but have not done so at the moment to save processing and storage space\n",
    "       given that there has been no demand for these products from modelling teams\n",
    "\n",
    "The input datasets and associated references\n",
    "are documented in the `references*` attributes of each netCDF file.\n",
    "This documentation is limited, so cannot document how each input dataset is used\n",
    "(that is the role of the manuscript),\n",
    "but does provide machine-readable provenance information\n",
    "(which is used to support links between all the input data\n",
    "e.g. linking of the Zenodo archive underpinning this dataset)."
   ]
  },
  {
   "cell_type": "markdown",
   "id": "4e0a77fd",
   "metadata": {},
   "source": [
    "# Finding and accessing the data"
   ]
  },
  {
   "cell_type": "markdown",
   "id": "5da39f54",
   "metadata": {
    "jp-MarkdownHeadingCollapsed": true
   },
   "source": [
    "## ESGF\n",
    "\n",
    "The **Earth System Grid Federation** (ESGF, REF-TODO) provides access to a\n",
    "range of climate data.\n",
    "The historical data of interest here,\n",
    "which is the data to be used\n",
    "for historical and piControl simulations within CMIP [TODO ref Dunne paper],\n",
    "can be found under the \"source ID\", `CR-CMIP-1-0-0`.\n",
    "The concept of a \"source ID\" is a bit of a perculiar one\n",
    "to CMIP forcings data.\n",
    "In practice, it is simply a unique identifier for a collection of datasets\n",
    "(and it's best not to read more than that into it).\n",
    "\n",
    "It is possible to filter searches on ESGF\n",
    "via the user interface (see ESGF user guides[^1]).\n",
    "Alternatively, searches can be encoded in URLs. However, a caveat with this\n",
    "approach is that URLs sometimes move, so we make no guarantee that this link\n",
    "will always be live. An example provides the following link:\n",
    "\n",
    "> [https://esgf-node.ornl.gov/search?project=input4MIPs&activeFacets=%7B%2ource_id%22%3A%22CR-CMIP-1-0-0%22%7D]()\n",
    "\n",
    "To download the data, we recommend accessing it directly via the ESGF user interfaces\n",
    "via links like the one above.\n",
    "Alternately, there are tools dedicated to accessing ESGF data,\n",
    "with two prominent examples being **esgpull**[^2] and **intake-esgf**[^3].\n",
    "Please refer to the tools' docs for usage instructions.\n",
    "\n",
    "[^1]: https://esgf.github.io/esgf-user-support/user_guide.html#data-search-and-download\n",
    "[^2]: https://esgf.github.io/esgf-download\n",
    "[^3]: https://intake-esgf.readthedocs.io"
   ]
  },
  {
   "cell_type": "markdown",
   "id": "6244c89b",
   "metadata": {},
   "source": [
    "## Zenodo\n",
    "\n",
    "While it aims to be, the ESGF is technically not a permanent archive\n",
    "and does not issue DOIs.\n",
    "In order to provide more reliable, citable access to the data,\n",
    "we also provide it on **Zenodo** (REF-TODO).\n",
    "The data, as well as all the source code and input data used to process it,\n",
    "can be found at https://doi.org/10.5281/zenodo.14892947."
   ]
  },
  {
   "cell_type": "markdown",
   "id": "9252f4ec",
   "metadata": {
    "editable": true,
    "slideshow": {
     "slide_type": ""
    }
   },
   "source": [
    "# Data description"
   ]
  },
  {
   "cell_type": "markdown",
   "id": "b85e9899",
   "metadata": {},
   "source": [
    "## Format\n",
    "\n",
    "The data is provided in **netCDF format** [TODO citation].\n",
    "This self-describing format allows the data\n",
    "to be placed in the same file as metadata\n",
    "(in the so-called \"file header\").\n",
    "To facilitate simpler use of the data,\n",
    "each dataset is split across multiple files.\n",
    "The advantage of this is that users do not need to load all years of data\n",
    "if they are only interested in data for a certain range,\n",
    "which can significantly improve data loading times.\n",
    "To get the complete dataset,\n",
    "the files can simply be concatenated in time."
   ]
  },
  {
   "cell_type": "markdown",
   "id": "bdb32f4f",
   "metadata": {},
   "source": [
    "## Grids and frequencies provided\n",
    "\n",
    "We provide five combinations of grids and time sampling\n",
    "(also referred to as frequency,\n",
    "although this is a bit of a misuse as the units of frequency are per time,\n",
    "which doesn't match the convention for these metadata values).\n",
    "The grid and frequency information for each file can be found in its netCDF header\n",
    "under the attributes `grid_label` (for grid) and `frequency` (for time sampling).\n",
    "The `grid_label` and `frequency` also appear in each file's name,\n",
    "which allows files to be filtered without needing to load them first."
   ]
  },
  {
   "cell_type": "markdown",
   "id": "47acf882",
   "metadata": {},
   "source": [
    "The five combinations of grid and time sampling are:\n",
    "\n",
    "1. global-, annual-mean (`grid_label=\"gm\"`, `frequency=\"yr\"`)\n",
    "1. global-, monthly-mean (`grid_label=\"gm\"`, `frequency=\"mon\"`)\n",
    "1. hemispheric-, annual-mean (`grid_label=\"gr1z\"`, `frequency=\"yr\"`)\n",
    "1. hemispheric-, monthly-mean (`grid_label=\"gr1z\"`, `frequency=\"mon\"`)\n",
    "1. 15-degree latitudinal, monthly-mean (`grid_label=\"gnz\"`, `frequency=\"mon\"`)"
   ]
  },
  {
   "cell_type": "markdown",
   "id": "2b9d6bb7",
   "metadata": {},
   "source": [
    "## Species provided\n",
    "\n",
    "We provide concentrations for 43 greenhouse gas concentrations and species,\n",
    "as well as three equivalent species.\n",
    "The species are:\n",
    "\n",
    "<!-- Note: generated using `scripts/generate-ghg-listing.py` --->\n",
    "- major greenhouse gases (3)\n",
    "    - CH<sub>4</sub>, CO<sub>2</sub>, N<sub>2</sub>O\n",
    "- ozone-depleting substances (17)\n",
    "    - CFCs (5)\n",
    "        - CFC-11, CFC-113, CFC-114, CFC-115, CFC-12\n",
    "    - HCFCs (3)\n",
    "        - HCFC-141b, HCFC-142b, HCFC-22\n",
    "    - Halons (3)\n",
    "        - Halon 1211, Halon 1301, Halon 2402\n",
    "    - other ozone-depleting substances (6)\n",
    "        - CCl<sub>4</sub>, CH<sub>2</sub>Cl<sub>2</sub>, CH<sub>3</sub>Br,\n",
    "          CH<sub>3</sub>CCl<sub>3</sub>, CH<sub>3</sub>Cl, CHCl<sub>3</sub>\n",
    "- ozone fluorinated compounds (23)\n",
    "    - HFCs (11)\n",
    "        - HFC-125, HFC-134a, HFC-143a, HFC-152a, HFC-227ea, HFC-23, HFC-236fa,\n",
    "          HFC-245fa, HFC-32, HFC-365mfc, HFC-4310mee\n",
    "    - PFCs (9)\n",
    "        - C<sub>2</sub>F<sub>6</sub>, C<sub>3</sub>F<sub>8</sub>,\n",
    "          C<sub>4</sub>F<sub>10</sub>, C<sub>5</sub>F<sub>12</sub>,\n",
    "          C<sub>6</sub>F<sub>14</sub>, C<sub>7</sub>F<sub>16</sub>,\n",
    "          C<sub>8</sub>F<sub>18</sub>, CC<sub>4</sub>F<sub>8</sub>,\n",
    "          CF<sub>4</sub>\n",
    "    - other (3)\n",
    "        - NF<sub>3</sub>, SF<sub>6</sub>, SO<sub>2</sub>F<sub>2</sub>\n",
    "\n",
    "### Equivalent species\n",
    "\n",
    "For most models, you will not use all 43 species.\n",
    "As a result, we provide equivalent species too.\n",
    "There are two options if you don't want to use all 43 species.\n",
    "\n",
    "#### Option 1\n",
    "\n",
    "Use CO<sub>2</sub>, CH<sub>4</sub>, N<sub>2</sub>O and CFC-12 directly.\n",
    "Use CFC-11 equivalent to capture the radiative effect of all other species.\n",
    "\n",
    "#### Option 2\n",
    "\n",
    "Use CO<sub>2</sub>, CH<sub>4</sub> and N<sub>2</sub>O directly.\n",
    "Use CFC-12 equivalent\n",
    "to capture the radiative effect of all ozone depleting substances (ODSs)\n",
    "and HFC-134a equivalent\n",
    "to capture the radiative effect of all other fluorinated gases."
   ]
  },
  {
   "cell_type": "markdown",
   "id": "85511638",
   "metadata": {},
   "source": [
    "## Uncertainty\n",
    "\n",
    "At present, we provide no analysis of the uncertainty associated with these datasets.\n",
    "In radiative forcing terms, the uncertainty in these concentrations\n",
    "is very likely to be small compared to other uncertainties in the climate system,\n",
    "but this statement is not based on any robust analysis\n",
    "(rather it is based on expert judgement).\n",
    "It is also worth noting that the uncertainty increases as we go further back in time,\n",
    "particularly as we shift from using surface flasks to relying on ice cores instead."
   ]
  },
  {
   "cell_type": "markdown",
   "id": "ef05f9b0",
   "metadata": {
    "editable": true,
    "slideshow": {
     "slide_type": ""
    }
   },
   "source": [
    "## Differences compared to CMIP6\n",
    "\n",
    "At present, the changes from CMIP6 are minor,\n",
    "with the maximum difference in effective radiative forcing terms\n",
    "being 0.05 W / m<sup>2</sup>\n",
    "(and generally much smaller than this, particularly after 1850).\n",
    "For more details, see the plots in the user guide below\n",
    "and the forthcoming manuscript."
   ]
  },
  {
   "cell_type": "markdown",
   "id": "b6641ca4",
   "metadata": {
    "editable": true,
    "slideshow": {
     "slide_type": ""
    }
   },
   "source": [
    "# User guide"
   ]
  },
  {
   "cell_type": "markdown",
   "id": "7946657e",
   "metadata": {
    "editable": true,
    "slideshow": {
     "slide_type": ""
    }
   },
   "source": [
    "Having downloaded the data, using it is quite straightforward."
   ]
  },
  {
   "cell_type": "code",
   "execution_count": null,
   "id": "13802be2",
   "metadata": {
    "editable": true,
    "slideshow": {
     "slide_type": ""
    },
    "tags": [
     "remove_cell"
    ]
   },
   "outputs": [],
   "source": [
    "# Ensure data is downloaded\n",
    "query_kwargs_co2_yearly_global = dict(\n",
    "    ghg=\"co2\",\n",
    "    time_sampling=\"yr\",\n",
    "    grid=\"gm\",\n",
    "    cmip_era=\"CMIP7\",\n",
    "    source_id=\"CR-CMIP-1-0-0\",\n",
    "    engine=engine,\n",
    ")\n",
    "fetch_and_load = partial(\n",
    "    fetch_and_load_ghg_dataset,\n",
    "    local_data_root_dir=local_data_root_dir,\n",
    "    # index_node=KnownIndexNode.DKRZ,\n",
    "    # cmip_era=\"CMIP6\",\n",
    "    # source_id=\"UoM-CMIP-1-2-0\",\n",
    "    index_node=KnownIndexNode.ORNL,\n",
    ")\n",
    "_ = fetch_and_load(**query_kwargs_co2_yearly_global)\n",
    "\n",
    "# Get file paths\n",
    "co2_yearly_global_fps = get_ghg_dataset_local_files(**query_kwargs_co2_yearly_global)"
   ]
  },
  {
   "cell_type": "markdown",
   "id": "7b1a0445",
   "metadata": {
    "editable": true,
    "slideshow": {
     "slide_type": ""
    }
   },
   "source": [
    "## Annual-, global-mean data\n",
    "\n",
    "We start with the annual-, global-mean data.\n",
    "Like all our datasets, this is composed of three files,\n",
    "each covering a different time period:\n",
    "\n",
    "1. year 1 to year 999\n",
    "2. year 1000 to year 1749\n",
    "3. year 1750 to year 2022"
   ]
  },
  {
   "cell_type": "markdown",
   "id": "d1dae87b",
   "metadata": {},
   "source": [
    "For yearly data, the time labels in the filename are years\n",
    "(for months, the month is included e.g. you will see `000101-09912`\n",
    "rather than `0001-0999` in the filename,\n",
    "the files also have different values for the `frequency` attribute).\n",
    "Global-mean data is identified by the 'grid label' `gm`,\n",
    "which appears in the filename.\n",
    "Below we show the filenames for the CO<sub>2</sub> output."
   ]
  },
  {
   "cell_type": "code",
   "execution_count": null,
   "id": "7f09bfa0",
   "metadata": {
    "editable": true,
    "slideshow": {
     "slide_type": ""
    },
    "tags": [
     "remove_input"
    ]
   },
   "outputs": [],
   "source": [
    "for fp in co2_yearly_global_fps:\n",
    "    print(f\"- {fp.name}\")"
   ]
  },
  {
   "cell_type": "markdown",
   "id": "64c4e0c2",
   "metadata": {
    "editable": true,
    "slideshow": {
     "slide_type": ""
    }
   },
   "source": [
    "Output for other gases are named identically,\n",
    "with `co2` being replaced by the other gas name.\n",
    "For example, for methane the filenames are:"
   ]
  },
  {
   "cell_type": "code",
   "execution_count": null,
   "id": "545014ac",
   "metadata": {
    "editable": true,
    "slideshow": {
     "slide_type": ""
    },
    "tags": [
     "remove_cell"
    ]
   },
   "outputs": [],
   "source": [
    "# Ensure data is downloaded\n",
    "query_kwargs_ch4_yearly_global = {\n",
    "    **query_kwargs_co2_yearly_global,\n",
    "    \"ghg\": \"ch4\",\n",
    "}\n",
    "_ = fetch_and_load(**query_kwargs_ch4_yearly_global)"
   ]
  },
  {
   "cell_type": "code",
   "execution_count": null,
   "id": "237ecdb9",
   "metadata": {
    "editable": true,
    "slideshow": {
     "slide_type": ""
    },
    "tags": [
     "remove_input"
    ]
   },
   "outputs": [],
   "source": [
    "# Get file paths\n",
    "ch4_yearly_global_fps = get_ghg_dataset_local_files(**query_kwargs_ch4_yearly_global)\n",
    "for fp in ch4_yearly_global_fps:\n",
    "    print(f\"- {fp.name}\")"
   ]
  },
  {
   "cell_type": "markdown",
   "id": "5eea4492",
   "metadata": {
    "editable": true,
    "slideshow": {
     "slide_type": ""
    }
   },
   "source": [
    "As described above, the data is netCDF files.\n",
    "This means that metadata can be trivially inspected\n",
    "using a tool like `ncdump`.\n",
    "As you can see, there is a lot of metadata included in these files.\n",
    "In general, you should not need to parse this metadata directly.\n",
    "However, if you have specific questions,\n",
    "please feel free to contact the emails given in the `contact` attribute."
   ]
  },
  {
   "cell_type": "code",
   "execution_count": null,
   "id": "7501bcb3",
   "metadata": {
    "editable": true,
    "slideshow": {
     "slide_type": ""
    },
    "tags": [
     "remove_input"
    ]
   },
   "outputs": [],
   "source": [
    "!ncdump -h {co2_yearly_global_fps[0]} | fold -w 80 -s"
   ]
  },
  {
   "cell_type": "markdown",
   "id": "75c21f85",
   "metadata": {
    "editable": true,
    "slideshow": {
     "slide_type": ""
    }
   },
   "source": [
    "Using a tool like [xarray](https://github.com/pydata/xarray),\n",
    "loading and working with the data is trivial."
   ]
  },
  {
   "cell_type": "code",
   "execution_count": null,
   "id": "6589d84b",
   "metadata": {
    "editable": true,
    "slideshow": {
     "slide_type": ""
    }
   },
   "outputs": [],
   "source": [
    "import xarray as xr\n",
    "\n",
    "time_coder = xr.coders.CFDatetimeCoder(use_cftime=True)\n",
    "ds_co2_yearly_global = xr.open_mfdataset(co2_yearly_global_fps, decode_times=time_coder)"
   ]
  },
  {
   "cell_type": "code",
   "execution_count": null,
   "id": "471936b8",
   "metadata": {
    "editable": true,
    "slideshow": {
     "slide_type": ""
    },
    "tags": [
     "remove_cell"
    ]
   },
   "outputs": [],
   "source": [
    "# Force values to compute to avoid dask getting involved\n",
    "ds_co2_yearly_global = ds_co2_yearly_global.compute()"
   ]
  },
  {
   "cell_type": "code",
   "execution_count": null,
   "id": "9afb4e78",
   "metadata": {
    "editable": true,
    "slideshow": {
     "slide_type": ""
    }
   },
   "outputs": [],
   "source": [
    "ds_co2_yearly_global"
   ]
  },
  {
   "cell_type": "code",
   "execution_count": null,
   "id": "df8810d2",
   "metadata": {
    "editable": true,
    "slideshow": {
     "slide_type": ""
    },
    "tags": [
     "remove_input"
    ]
   },
   "outputs": [],
   "source": [
    "ds_co2_yearly_global[\"co2\"].plot.scatter(alpha=0.4)\n",
    "plt.show()"
   ]
  },
  {
   "cell_type": "markdown",
   "id": "686a5944",
   "metadata": {
    "editable": true,
    "slideshow": {
     "slide_type": ""
    }
   },
   "source": [
    "## Space- and time-average nature of the data\n",
    "\n",
    "All of our data represents the mean over each cell.\n",
    "This is indicated by the `cell_methods` attribute\n",
    "of all of our output variables."
   ]
  },
  {
   "cell_type": "code",
   "execution_count": null,
   "id": "d7c738b5",
   "metadata": {
    "editable": true,
    "slideshow": {
     "slide_type": ""
    }
   },
   "outputs": [],
   "source": [
    "ds_co2_yearly_global[\"co2\"].attrs[\"cell_methods\"]"
   ]
  },
  {
   "cell_type": "markdown",
   "id": "5f57816d",
   "metadata": {
    "editable": true,
    "slideshow": {
     "slide_type": ""
    }
   },
   "source": [
    "This mean is both in space and time.\n",
    "The time bounds covered by each step\n",
    "are specified by the `time_bnds` variable\n",
    "(when there is spatial information,\n",
    "equivalent `lat_bnds` and `lon_bnds`\n",
    "information is also included).\n",
    "This variable specifies the start (inclusive)\n",
    "and end (exclusive) of the time period\n",
    "covered by each data point."
   ]
  },
  {
   "cell_type": "code",
   "execution_count": null,
   "id": "de9b721d",
   "metadata": {
    "editable": true,
    "slideshow": {
     "slide_type": ""
    }
   },
   "outputs": [],
   "source": [
    "ds_co2_yearly_global[\"time_bnds\"]"
   ]
  },
  {
   "cell_type": "markdown",
   "id": "a3086452",
   "metadata": {
    "editable": true,
    "slideshow": {
     "slide_type": ""
    }
   },
   "source": [
    "As a result of the time average that the data represents,\n",
    "it is inappropriate to plot this data\n",
    "using a line plot\n",
    "(the mean of the lines joining the points\n",
    "is not the same as the data given in the files).\n",
    "Instead, the data should be plotted (and used)\n",
    "as a scatter or a step plot, as shown below.\n",
    "(The same logic applies to any spatial plots\n",
    "which could be created from our datasets\n",
    "that include spatial dimensions)."
   ]
  },
  {
   "cell_type": "code",
   "execution_count": null,
   "id": "48329ffa",
   "metadata": {
    "editable": true,
    "slideshow": {
     "slide_type": ""
    },
    "tags": [
     "remove_input"
    ]
   },
   "outputs": [],
   "source": [
    "ds_plt = ds_co2_yearly_global.isel(time=slice(-5, None))\n",
    "\n",
    "fig, ax = plt.subplots(figsize=(8, 4))\n",
    "ds_plt[\"co2\"].plot.scatter(ax=ax)\n",
    "\n",
    "for bounds, val in zip(ds_plt[\"time_bnds\"].values, ds_plt[\"co2\"].values):\n",
    "    ax.plot(bounds, [val, val], color=\"tab:blue\", linewidth=1.0, alpha=0.7)\n",
    "\n",
    "xticks = [cftime.DatetimeGregorian(y, 1, 1) for y in range(2018, 2024)]\n",
    "ax.set_xticks(xticks)\n",
    "ax.set_xlim(xticks[0], xticks[-1])\n",
    "ax.grid()\n",
    "\n",
    "plt.show()"
   ]
  },
  {
   "cell_type": "markdown",
   "id": "fdae0eb9",
   "metadata": {
    "editable": true,
    "slideshow": {
     "slide_type": ""
    }
   },
   "source": [
    "## Monthly-, global-mean data\n",
    "\n",
    "If you want to have information at a finer level\n",
    "of temporal detail, we also provide monthly files.\n",
    "Like the global datasets, these come in three files.\n",
    "\n",
    "For monthly data, the time labels in the filename are months.\n",
    "Below we show the filenames for the CO<sub>2</sub> output."
   ]
  },
  {
   "cell_type": "code",
   "execution_count": null,
   "id": "a11c34dd",
   "metadata": {
    "editable": true,
    "slideshow": {
     "slide_type": ""
    },
    "tags": [
     "remove_cell"
    ]
   },
   "outputs": [],
   "source": [
    "# Ensure data is downloaded\n",
    "query_kwargs_co2_monthly_global = {\n",
    "    **query_kwargs_co2_yearly_global,\n",
    "    \"time_sampling\": \"mon\",\n",
    "}\n",
    "_ = fetch_and_load(**query_kwargs_co2_monthly_global)"
   ]
  },
  {
   "cell_type": "code",
   "execution_count": null,
   "id": "39341fa3",
   "metadata": {
    "editable": true,
    "slideshow": {
     "slide_type": ""
    },
    "tags": [
     "remove_input"
    ]
   },
   "outputs": [],
   "source": [
    "# Get file paths\n",
    "co2_monthly_global_fps = get_ghg_dataset_local_files(**query_kwargs_co2_monthly_global)\n",
    "for fp in co2_monthly_global_fps:\n",
    "    print(f\"- {fp.name}\")"
   ]
  },
  {
   "cell_type": "markdown",
   "id": "2ed3ac9c",
   "metadata": {
    "editable": true,
    "slideshow": {
     "slide_type": ""
    }
   },
   "source": [
    "Again, the data can be trivially loaded with [xarray](https://github.com/pydata/xarray)."
   ]
  },
  {
   "cell_type": "code",
   "execution_count": null,
   "id": "cd72e9c2",
   "metadata": {
    "editable": true,
    "slideshow": {
     "slide_type": ""
    }
   },
   "outputs": [],
   "source": [
    "ds_co2_monthly_global = xr.open_mfdataset(\n",
    "    co2_monthly_global_fps, decode_times=time_coder\n",
    ")"
   ]
  },
  {
   "cell_type": "code",
   "execution_count": null,
   "id": "ff28c1f9",
   "metadata": {
    "editable": true,
    "slideshow": {
     "slide_type": ""
    },
    "tags": [
     "remove_cell"
    ]
   },
   "outputs": [],
   "source": [
    "# Force values to compute to avoid dask getting involved\n",
    "ds_co2_monthly_global = ds_co2_monthly_global.compute()"
   ]
  },
  {
   "cell_type": "code",
   "execution_count": null,
   "id": "70c613d1",
   "metadata": {
    "editable": true,
    "slideshow": {
     "slide_type": ""
    }
   },
   "outputs": [],
   "source": [
    "ds_co2_monthly_global"
   ]
  },
  {
   "cell_type": "markdown",
   "id": "2ef6149c",
   "metadata": {
    "editable": true,
    "slideshow": {
     "slide_type": ""
    }
   },
   "source": [
    "For this data, the time bounds show that each point\n",
    "is the average a month, not a year."
   ]
  },
  {
   "cell_type": "code",
   "execution_count": null,
   "id": "59e66273",
   "metadata": {
    "editable": true,
    "slideshow": {
     "slide_type": ""
    }
   },
   "outputs": [],
   "source": [
    "ds_co2_monthly_global[\"time_bnds\"]"
   ]
  },
  {
   "cell_type": "markdown",
   "id": "ae5de286",
   "metadata": {},
   "source": [
    "As above, as a result of the time average that the data represents,\n",
    "it is inappropriate to plot this data using a line plot.\n",
    "Scatter or step plots should be used instead."
   ]
  },
  {
   "cell_type": "code",
   "execution_count": null,
   "id": "f3fd656c",
   "metadata": {
    "editable": true,
    "slideshow": {
     "slide_type": ""
    },
    "tags": [
     "remove_input"
    ]
   },
   "outputs": [],
   "source": [
    "ds_plt = ds_co2_monthly_global.isel(time=slice(-5 * 12, None))\n",
    "\n",
    "fig, ax = plt.subplots(figsize=(8, 4))\n",
    "ds_plt[\"co2\"].plot.scatter(ax=ax)\n",
    "\n",
    "for bounds, val in zip(ds_plt[\"time_bnds\"].values, ds_plt[\"co2\"].values):\n",
    "    ax.plot(bounds, [val, val], color=\"tab:blue\", linewidth=1.0, alpha=0.7)\n",
    "\n",
    "xticks = [cftime.DatetimeGregorian(y, 1, 1) for y in range(2018, 2024)]\n",
    "ax.set_xticks(xticks)\n",
    "ax.set_xlim(xticks[0], xticks[-1])\n",
    "ax.grid()\n",
    "\n",
    "plt.show()"
   ]
  },
  {
   "cell_type": "markdown",
   "id": "b198c93e",
   "metadata": {},
   "source": [
    "The monthly data includes seasonality.\n",
    "Plotting the monthly and yearly data\n",
    "on the same axes makes particularly clear\n",
    "why a line plot is inappropriate."
   ]
  },
  {
   "cell_type": "code",
   "execution_count": null,
   "id": "07a23c45",
   "metadata": {
    "editable": true,
    "slideshow": {
     "slide_type": ""
    },
    "tags": [
     "remove_input"
    ]
   },
   "outputs": [],
   "source": [
    "fig, ax = plt.subplots(figsize=(8, 4))\n",
    "\n",
    "for ds_plt, label, colour in (\n",
    "    (ds_co2_monthly_global.isel(time=slice(-5 * 12, None)), \"monthly\", \"tab:blue\"),\n",
    "    (ds_co2_yearly_global.isel(time=slice(-5, None)), \"yearly\", \"tab:orange\"),\n",
    "):\n",
    "    ds_plt[\"co2\"].plot.scatter(ax=ax, label=label, color=colour, s=10)\n",
    "\n",
    "    for bounds, val in zip(ds_plt[\"time_bnds\"].values, ds_plt[\"co2\"].values):\n",
    "        ax.plot(bounds, [val, val], color=colour, linewidth=1.0, alpha=0.7)\n",
    "\n",
    "ax.legend()\n",
    "\n",
    "xticks = [cftime.DatetimeGregorian(y, 1, 1) for y in range(2018, 2024)]\n",
    "ax.set_xticks(xticks)\n",
    "ax.set_xlim(xticks[0], xticks[-1])\n",
    "ax.grid()\n",
    "\n",
    "plt.show()"
   ]
  },
  {
   "cell_type": "markdown",
   "id": "6e41cd54",
   "metadata": {},
   "source": [
    "At present, we do not provide data at a higher temporal resolution than monthly.\n",
    "In theory, such a dataset is possible to compile,\n",
    "however this requires careful consideration of daily\n",
    "and potentially sub-daily trends (e.g. the diurnal cycle)."
   ]
  },
  {
   "cell_type": "markdown",
   "id": "795b9d94",
   "metadata": {},
   "source": [
    "## Monthly-, latitudinally-resolved data\n",
    "\n",
    "We also provide data with spatial,\n",
    "specifically latituindal, resolution.\n",
    "This data comes on a 15-degree latituindal grid\n",
    "(see below for details of the grid and latitudinal bounds).\n",
    "These files are identified by the grid label `gnz`.\n",
    "We only provide these files with monthly resolution.\n",
    "\n",
    "For completeness, we note that we also provide hemispheric means.\n",
    "These are not shown here,\n",
    "but are identified by the grid label `gr1z`.\n",
    "\n",
    "Below we show the filenames for the latitudinally-resolved data\n",
    "for CO<sub>2</sub>"
   ]
  },
  {
   "cell_type": "code",
   "execution_count": null,
   "id": "822e4f13",
   "metadata": {
    "editable": true,
    "slideshow": {
     "slide_type": ""
    },
    "tags": [
     "remove_cell"
    ]
   },
   "outputs": [],
   "source": [
    "# Ensure data is downloaded\n",
    "query_kwargs_co2_monthly_lat = {\n",
    "    **query_kwargs_co2_yearly_global,\n",
    "    \"time_sampling\": \"mon\",\n",
    "    \"grid\": \"gnz\",\n",
    "}\n",
    "_ = fetch_and_load(**query_kwargs_co2_monthly_lat)"
   ]
  },
  {
   "cell_type": "code",
   "execution_count": null,
   "id": "da08cb60",
   "metadata": {
    "editable": true,
    "slideshow": {
     "slide_type": ""
    },
    "tags": [
     "remove_input"
    ]
   },
   "outputs": [],
   "source": [
    "# Get file paths\n",
    "co2_monthly_lat_fps = get_ghg_dataset_local_files(**query_kwargs_co2_monthly_lat)\n",
    "for fp in co2_monthly_lat_fps:\n",
    "    print(f\"- {fp.name}\")"
   ]
  },
  {
   "cell_type": "markdown",
   "id": "9b694f50",
   "metadata": {
    "editable": true,
    "slideshow": {
     "slide_type": ""
    }
   },
   "source": [
    "Again, the data can be trivially loaded with [xarray](https://github.com/pydata/xarray)."
   ]
  },
  {
   "cell_type": "code",
   "execution_count": null,
   "id": "09baff96",
   "metadata": {
    "editable": true,
    "slideshow": {
     "slide_type": ""
    }
   },
   "outputs": [],
   "source": [
    "ds_co2_monthly_lat = xr.open_mfdataset(\n",
    "    co2_monthly_lat_fps, decode_times=time_coder, data_vars=None, compat=\"no_conflicts\"\n",
    ")"
   ]
  },
  {
   "cell_type": "code",
   "execution_count": null,
   "id": "c3caa85b",
   "metadata": {
    "editable": true,
    "slideshow": {
     "slide_type": ""
    },
    "tags": [
     "remove_cell"
    ]
   },
   "outputs": [],
   "source": [
    "# Force values to compute to avoid dask getting involved\n",
    "ds_co2_monthly_lat = ds_co2_monthly_lat.compute()"
   ]
  },
  {
   "cell_type": "code",
   "execution_count": null,
   "id": "e1f8346a",
   "metadata": {
    "editable": true,
    "slideshow": {
     "slide_type": ""
    }
   },
   "outputs": [],
   "source": [
    "ds_co2_monthly_lat"
   ]
  },
  {
   "cell_type": "markdown",
   "id": "648a4f43",
   "metadata": {
    "editable": true,
    "slideshow": {
     "slide_type": ""
    }
   },
   "source": [
    "For this data, the latitudinal bounds show the area\n",
    "over which each point is the average."
   ]
  },
  {
   "cell_type": "code",
   "execution_count": null,
   "id": "c49756a6",
   "metadata": {
    "editable": true,
    "slideshow": {
     "slide_type": ""
    }
   },
   "outputs": [],
   "source": [
    "ds_co2_monthly_lat[\"lat_bnds\"]"
   ]
  },
  {
   "cell_type": "markdown",
   "id": "65a7f71e",
   "metadata": {},
   "source": [
    "As above, but this time for the spatial axis,\n",
    "it is inappropriate to plot this data using a line plot.\n",
    "Scatter or step plots should be used instead."
   ]
  },
  {
   "cell_type": "code",
   "execution_count": null,
   "id": "115bfd39",
   "metadata": {
    "editable": true,
    "slideshow": {
     "slide_type": ""
    },
    "tags": [
     "remove_input"
    ]
   },
   "outputs": [],
   "source": [
    "ds_plt = ds_co2_monthly_lat.isel(time=slice(-12, None))\n",
    "\n",
    "\n",
    "def get_label_for_month(inds: xr.Dataset) -> str:\n",
    "    \"\"\"\n",
    "    Get the label for a given month of data\n",
    "    \"\"\"\n",
    "    year = int(inds[\"time\"].dt.year)\n",
    "    month_name = calendar.month_name[int(inds[\"time\"].dt.month)]\n",
    "\n",
    "    return f\"{year} - {month_name}\"\n",
    "\n",
    "\n",
    "mosaic_flat = [get_label_for_month(ds_plt.sel(time=time)) for time in ds_plt[\"time\"]]\n",
    "\n",
    "mosaic = [mosaic_flat[3 * i : 3 * (i + 1)] for i in range(len(mosaic_flat) // 3)]\n",
    "\n",
    "fig, axes_d = plt.subplot_mosaic(mosaic, figsize=(8, 9), sharey=True, sharex=True)\n",
    "\n",
    "for time in ds_plt[\"time\"]:\n",
    "    ds_plt_time = ds_plt.sel(time=time)\n",
    "    label = get_label_for_month(ds_plt_time)\n",
    "\n",
    "    axes_d[label].scatter(\n",
    "        x=ds_plt_time[\"co2\"].values,\n",
    "        y=ds_plt_time[\"lat\"].values,\n",
    "        s=10,\n",
    "        label=label,\n",
    "    )\n",
    "\n",
    "    for bounds, val in zip(ds_plt_time[\"lat_bnds\"].values, ds_plt_time[\"co2\"].values):\n",
    "        axes_d[label].plot(\n",
    "            [val, val], bounds, color=\"tab:blue\", linewidth=1.0, alpha=0.7\n",
    "        )\n",
    "\n",
    "    yticks = np.arange(-90, 91, 15.0)\n",
    "    axes_d[label].set_yticks(yticks)\n",
    "    axes_d[label].set_ylim(yticks[0], yticks[-1])\n",
    "    # axes_d[label].set_ylabel(\"Latitude (degrees north)\")\n",
    "\n",
    "    # axes_d[label].set_xlabel(\"co2 [ppm]\")\n",
    "    axes_d[label].grid()\n",
    "    axes_d[label].set_title(label, fontsize=\"small\")\n",
    "\n",
    "for month in [1, 4, 7, 10]:\n",
    "    axes_d[f\"2022 - {calendar.month_name[month]}\"].set_ylabel(\n",
    "        \"Latitude (degrees north)\"\n",
    "    )\n",
    "\n",
    "for month in range(10, 13):\n",
    "    axes_d[f\"2022 - {calendar.month_name[month]}\"].set_xlabel(\"co2 [ppm]\")\n",
    "# ax.legend(loc=\"center left\", bbox_to_anchor=(1.05, 0.5))\n",
    "\n",
    "plt.tight_layout()\n",
    "plt.show()"
   ]
  },
  {
   "cell_type": "markdown",
   "id": "1633dd61",
   "metadata": {
    "editable": true,
    "slideshow": {
     "slide_type": ""
    }
   },
   "source": [
    "We can compare the global-mean data\n",
    "to the data at each latitude.\n",
    "The strength of the latitudinal gradient varies also by gas (not shown)."
   ]
  },
  {
   "cell_type": "code",
   "execution_count": null,
   "id": "939452db",
   "metadata": {
    "editable": true,
    "slideshow": {
     "slide_type": ""
    },
    "tags": [
     "remove_input"
    ]
   },
   "outputs": [],
   "source": [
    "fig, ax = plt.subplots(figsize=(8, 4))\n",
    "\n",
    "time_slice = slice(-5 * 12, None)\n",
    "\n",
    "ds_plt = ds_co2_monthly_global.isel(time=time_slice)\n",
    "ds_plt[\"co2\"].plot.scatter(\n",
    "    ax=ax, label=\"global-mean\", color=\"tab:blue\", s=30, zorder=10.0\n",
    ")\n",
    "\n",
    "for bounds, val in zip(ds_plt[\"time_bnds\"].values, ds_plt[\"co2\"].values):\n",
    "    ax.plot(bounds, [val, val], color=\"tab:blue\", linewidth=1.0, alpha=0.7)\n",
    "\n",
    "ds_all_lats = ds_co2_monthly_lat.isel(time=time_slice)\n",
    "\n",
    "for i, lat in enumerate(sorted(ds_all_lats[\"lat\"])[::-1]):\n",
    "    ds_plt = ds_all_lats.sel(lat=lat)\n",
    "    colour = matplotlib.colormaps[\"magma\"](i / len(ds_all_lats[\"lat\"]))\n",
    "\n",
    "    ds_plt[\"co2\"].plot.scatter(\n",
    "        ax=ax, label=f\"{float(lat)}\", color=colour, marker=\"x\", s=10\n",
    "    )\n",
    "\n",
    "    for bounds, val in zip(ds_plt[\"time_bnds\"].values, ds_plt[\"co2\"].values):\n",
    "        ax.plot(bounds, [val, val], color=colour, linewidth=1.0, alpha=0.7)\n",
    "\n",
    "ax.legend(loc=\"center left\", bbox_to_anchor=(1.05, 0.5))\n",
    "\n",
    "xticks = [cftime.DatetimeGregorian(y, 1, 1) for y in range(2018, 2024)]\n",
    "ax.set_xticks(xticks)\n",
    "ax.set_xlim(xticks[0], xticks[-1])\n",
    "ax.grid()\n",
    "\n",
    "plt.show()"
   ]
  },
  {
   "cell_type": "markdown",
   "id": "a9b71e9e",
   "metadata": {},
   "source": [
    "The data can also be plotted in a so-called \"magic carpet\"\n",
    "to see the variation in space and time simultaneously."
   ]
  },
  {
   "cell_type": "code",
   "execution_count": null,
   "id": "d217e65a",
   "metadata": {
    "editable": true,
    "slideshow": {
     "slide_type": ""
    },
    "tags": [
     "remove_input"
    ]
   },
   "outputs": [],
   "source": [
    "fig = plt.figure(figsize=(8, 6))\n",
    "ax = fig.add_subplot(projection=\"3d\")\n",
    "\n",
    "tmp = ds_co2_monthly_lat[\"co2\"].isel(time=range(-10 * 12, 0)).copy()\n",
    "tmp = tmp.assign_coords(time=tmp[\"time\"].dt.year + tmp[\"time\"].dt.month / 12)\n",
    "# Interpolate so the plot shows the step nature\n",
    "tmp = tmp.interp(\n",
    "    coords=dict(\n",
    "        time=np.linspace(\n",
    "            tmp[\"time\"].values[0], tmp[\"time\"].values[-1], tmp[\"time\"].size * 10\n",
    "        )\n",
    "    ),\n",
    "    method=\"nearest\",\n",
    ").interp(\n",
    "    coords=dict(\n",
    "        lat=np.linspace(\n",
    "            tmp[\"lat\"].values[0], tmp[\"lat\"].values[-1], tmp[\"lat\"].size * 10\n",
    "        )\n",
    "    ),\n",
    "    method=\"nearest\",\n",
    ")\n",
    "\n",
    "tmp.plot.surface(\n",
    "    x=\"time\",\n",
    "    y=\"lat\",\n",
    "    ax=ax,\n",
    "    cmap=\"magma_r\",\n",
    "    levels=30,\n",
    "    # alpha=0.7,\n",
    ")\n",
    "\n",
    "ax.view_init(15, -135, 0)\n",
    "\n",
    "plt.tight_layout()\n",
    "plt.show()"
   ]
  },
  {
   "cell_type": "markdown",
   "id": "3e37a4bf",
   "metadata": {
    "editable": true,
    "slideshow": {
     "slide_type": ""
    }
   },
   "source": [
    "## Differences from CMIP6\n",
    "\n",
    "### File formats and naming\n",
    "\n",
    "The file formats are generally close to CMIP6.\n",
    "There are three key changes:\n",
    "\n",
    "1. we have split the global-mean and hemispheric-mean data into separate files.\n",
    "   In CMIP6, this data was in the same file (with a grid label of `GMNHSH`).\n",
    "   We have split this for two reasons:\n",
    "   a) `GMNHSH` is not a grid label recognised in the CMIP CVs [REF-TODO] and\n",
    "   b) having global-mean and hemispheric-mean data in the same file\n",
    "      required us to introduce a 'sector' coordinate,\n",
    "      which was confusing and does not follow the CF-conventions.\n",
    "1. we have split the files into different time components.\n",
    "   One file goes from year 1 to year 999 (inclusive).\n",
    "   The next file goes from year 1000 to year 1749 (inclusive).\n",
    "   The last file goes from year 1750 to year 2022 (inclusive).\n",
    "   This simplifies handling and allows groups to avoid loading data\n",
    "   they are not interested in (for CMIP, this generally means data pre-1750).\n",
    "1. we have simplified the names of all the variables.\n",
    "   They are now simply the names of the gases,\n",
    "   for example we now use \"co2\" rather than \"mole_fraction_of_carbon_dioxide\".\n",
    "   A full mapping is provided below.\n",
    "\n",
    "There is one more minor change.\n",
    "The data now starts in year one, rather than year zero.\n",
    "We do this because year zero doesn't exist in most calendars\n",
    "(and we want to avoid users of the data having to hack around this\n",
    "when using standard data analysis tools).\n",
    "\n",
    "#### Variable name mapping\n",
    "\n",
    "```python\n",
    "CMIP6_TO_CMIP7_VARIABLE_MAP = {\n",
    "    # name in CMIP6: name in CMIP7\n",
    "    \"mole_fraction_of_carbon_dioxide_in_air\": \"co2\",\n",
    "    \"mole_fraction_of_methane_in_air\": \"ch4\",\n",
    "    \"mole_fraction_of_nitrous_oxide_in_air\": \"n2o\",\n",
    "    \"mole_fraction_of_c2f6_in_air\": \"c2f6\",\n",
    "    \"mole_fraction_of_c3f8_in_air\": \"c3f8\",\n",
    "    \"mole_fraction_of_c4f10_in_air\": \"c4f10\",\n",
    "    \"mole_fraction_of_c5f12_in_air\": \"c5f12\",\n",
    "    \"mole_fraction_of_c6f14_in_air\": \"c6f14\",\n",
    "    \"mole_fraction_of_c7f16_in_air\": \"c7f16\",\n",
    "    \"mole_fraction_of_c8f18_in_air\": \"c8f18\",\n",
    "    \"mole_fraction_of_c_c4f8_in_air\": \"cc4f8\",\n",
    "    \"mole_fraction_of_carbon_tetrachloride_in_air\": \"ccl4\",\n",
    "    \"mole_fraction_of_cf4_in_air\": \"cf4\",\n",
    "    \"mole_fraction_of_cfc11_in_air\": \"cfc11\",\n",
    "    \"mole_fraction_of_cfc113_in_air\": \"cfc113\",\n",
    "    \"mole_fraction_of_cfc114_in_air\": \"cfc114\",\n",
    "    \"mole_fraction_of_cfc115_in_air\": \"cfc115\",\n",
    "    \"mole_fraction_of_cfc12_in_air\": \"cfc12\",\n",
    "    \"mole_fraction_of_ch2cl2_in_air\": \"ch2cl2\",\n",
    "    \"mole_fraction_of_methyl_bromide_in_air\": \"ch3br\",\n",
    "    \"mole_fraction_of_ch3ccl3_in_air\": \"ch3ccl3\",\n",
    "    \"mole_fraction_of_methyl_chloride_in_air\": \"ch3cl\",\n",
    "    \"mole_fraction_of_chcl3_in_air\": \"chcl3\",\n",
    "    \"mole_fraction_of_halon1211_in_air\": \"halon1211\",\n",
    "    \"mole_fraction_of_halon1301_in_air\": \"halon1301\",\n",
    "    \"mole_fraction_of_halon2402_in_air\": \"halon2402\",\n",
    "    \"mole_fraction_of_hcfc141b_in_air\": \"hcfc141b\",\n",
    "    \"mole_fraction_of_hcfc142b_in_air\": \"hcfc142b\",\n",
    "    \"mole_fraction_of_hcfc22_in_air\": \"hcfc22\",\n",
    "    \"mole_fraction_of_hfc125_in_air\": \"hfc125\",\n",
    "    \"mole_fraction_of_hfc134a_in_air\": \"hfc134a\",\n",
    "    \"mole_fraction_of_hfc143a_in_air\": \"hfc143a\",\n",
    "    \"mole_fraction_of_hfc152a_in_air\": \"hfc152a\",\n",
    "    \"mole_fraction_of_hfc227ea_in_air\": \"hfc227ea\",\n",
    "    \"mole_fraction_of_hfc23_in_air\": \"hfc23\",\n",
    "    \"mole_fraction_of_hfc236fa_in_air\": \"hfc236fa\",\n",
    "    \"mole_fraction_of_hfc245fa_in_air\": \"hfc245fa\",\n",
    "    \"mole_fraction_of_hfc32_in_air\": \"hfc32\",\n",
    "    \"mole_fraction_of_hfc365mfc_in_air\": \"hfc365mfc\",\n",
    "    \"mole_fraction_of_hfc4310mee_in_air\": \"hfc4310mee\",\n",
    "    \"mole_fraction_of_nf3_in_air\": \"nf3\",\n",
    "    \"mole_fraction_of_sf6_in_air\": \"sf6\",\n",
    "    \"mole_fraction_of_so2f2_in_air\": \"so2f2\",\n",
    "    \"mole_fraction_of_cfc11eq_in_air\": \"cfc11eq\",\n",
    "    \"mole_fraction_of_cfc12eq_in_air\": \"cfc12eq\",\n",
    "    \"mole_fraction_of_hfc134aeq_in_air\": \"hfc134aeq\",\n",
    "}\n",
    "```"
   ]
  },
  {
   "cell_type": "markdown",
   "id": "d1503d7e",
   "metadata": {
    "editable": true,
    "slideshow": {
     "slide_type": ""
    }
   },
   "source": [
    "### Data comparisons\n",
    "\n",
    "Comparing the data from CMIP6 and CMIP7 shows minor changes\n",
    "(although doing this comparison requires a bit of care\n",
    "because of the changes in file formats)."
   ]
  },
  {
   "cell_type": "code",
   "execution_count": null,
   "id": "a2e97283",
   "metadata": {
    "editable": true,
    "slideshow": {
     "slide_type": ""
    },
    "tags": [
     "remove_cell"
    ]
   },
   "outputs": [],
   "source": [
    "gases_to_show = [\"co2\", \"ch4\", \"n2o\", \"cfc12eq\", \"hfc134aeq\"]\n",
    "ds_gases_full_d = {}\n",
    "for gas in gases_to_show:\n",
    "    ds_gases_full_d[gas] = {}\n",
    "    for source_id, cmip_era in (\n",
    "        (\"CR-CMIP-1-0-0\", \"CMIP7\"),\n",
    "        (\"UoM-CMIP-1-2-0\", \"CMIP6\"),\n",
    "    ):\n",
    "        query_kwargs = {\n",
    "            \"ghg\": gas,\n",
    "            \"time_sampling\": \"yr\",\n",
    "            \"grid\": \"gm\",\n",
    "            \"source_id\": source_id,\n",
    "            \"cmip_era\": cmip_era,\n",
    "            \"engine\": engine,\n",
    "        }\n",
    "        ds = fetch_and_load(**query_kwargs)\n",
    "\n",
    "        # Unify time axis days to simplify\n",
    "        ds[\"time\"] = [\n",
    "            cftime.DatetimeProlepticGregorian(v.year, v.month, 15)\n",
    "            for v in ds[\"time\"].values\n",
    "        ]\n",
    "\n",
    "        # compute to avoid dask weirdness\n",
    "        ds_gases_full_d[gas][cmip_era] = ds.compute()"
   ]
  },
  {
   "cell_type": "code",
   "execution_count": null,
   "id": "b934efc2",
   "metadata": {
    "editable": true,
    "slideshow": {
     "slide_type": ""
    },
    "tags": [
     "remove_cell"
    ]
   },
   "outputs": [],
   "source": [
    "from typing import Callable\n",
    "\n",
    "import numpy.typing as npt\n",
    "\n",
    "\n",
    "def sel_times(\n",
    "    ds_d: dict[str, dict[str, xr.Dataset]],\n",
    "    sel_func: Callable[[xr.DataArray], npt.NDArray[bool]],\n",
    ") -> dict[str, dict[str, xr.Dataset]]:\n",
    "    \"\"\"\n",
    "    Select times from our dictionary of [xr.Dataset][]'s\n",
    "    \"\"\"\n",
    "    res = {\n",
    "        gas: {\n",
    "            key: value.sel(time=sel_func(value[\"time\"])) for key, value in tmp.items()\n",
    "        }\n",
    "        for gas, tmp in ds_d.items()\n",
    "    }\n",
    "\n",
    "    return res\n",
    "\n",
    "\n",
    "def plot_overview_and_deltas(\n",
    "    ds_d: dict[str, dict[str, xr.Dataset]],\n",
    "    axes_d: dict[str, matplotlib.axes.Axes],\n",
    "):\n",
    "    \"\"\"\n",
    "    Plot overviews of timeseries and deltas between CMIP7 and CMIP6\n",
    "    \"\"\"\n",
    "    for ax_name, ax in axes_d.items():\n",
    "        if ax_name.endswith(\"_delta\"):\n",
    "            continue\n",
    "\n",
    "        gas = ax_name\n",
    "\n",
    "        for cmip_era, ds in ds_d[gas].items():\n",
    "            label = f\"{cmip_era} ({ds.attrs['source_id']})\"\n",
    "            ds[gas].plot.scatter(\n",
    "                ax=axes_d[gas], label=label, alpha=0.7, edgecolors=\"none\"\n",
    "            )\n",
    "\n",
    "        ax.legend()\n",
    "        ax.set_title(gas)\n",
    "        ax.xaxis.set_tick_params(labelbottom=True)\n",
    "\n",
    "        ax_delta = axes_d[f\"{gas}_delta\"]\n",
    "\n",
    "        da_cmip6 = ds_d[gas][\"CMIP6\"][gas]\n",
    "        da_cmip7 = ds_d[gas][\"CMIP7\"][gas]\n",
    "        overlapping_times = np.intersect1d(da_cmip6[\"time\"], da_cmip7[\"time\"])\n",
    "        delta = da_cmip7.sel(time=overlapping_times) - da_cmip6.sel(\n",
    "            time=overlapping_times\n",
    "        )\n",
    "        ax_delta.set_title(\"CMIP7 - CMIP6\", fontsize=\"small\")\n",
    "        delta.plot.scatter(\n",
    "            ax=ax_delta,\n",
    "            color=\"tab:grey\",\n",
    "            edgecolors=\"none\",\n",
    "            s=10,\n",
    "        )\n",
    "        ax_delta.axhline(0.0, color=\"k\", linestyle=\"--\")\n",
    "\n",
    "        ax_delta.xaxis.set_tick_params(labelbottom=True)\n",
    "\n",
    "\n",
    "plt_mosaic = [\n",
    "    [\"co2\", \"ch4\", \"n2o\"],\n",
    "    [\"co2\", \"ch4\", \"n2o\"],\n",
    "    [\"co2_delta\", \"ch4_delta\", \"n2o_delta\"],\n",
    "    [\"cfc12eq\", \"hfc134aeq\", \"\"],\n",
    "    [\"cfc12eq\", \"hfc134aeq\", \"\"],\n",
    "    [\"cfc12eq_delta\", \"hfc134aeq_delta\", \"\"],\n",
    "]\n",
    "get_default_delta_mosaic = partial(\n",
    "    plt.subplot_mosaic,\n",
    "    mosaic=plt_mosaic,\n",
    "    figsize=(12, 8),\n",
    "    sharex=True,\n",
    ")\n",
    "\n",
    "\n",
    "def remove_empty_axes(\n",
    "    axes_d: dict[str, matplotlib.axes.Axes],\n",
    ") -> dict[str, matplotlib.axes.Axes]:\n",
    "    \"\"\"Remove empty axes\"\"\"\n",
    "    res = {}\n",
    "    for k, v in axes_d.items():\n",
    "        if k:\n",
    "            res[k] = v\n",
    "\n",
    "        else:\n",
    "            v.remove()\n",
    "\n",
    "    return res"
   ]
  },
  {
   "cell_type": "markdown",
   "id": "c0217a61",
   "metadata": {
    "editable": true,
    "slideshow": {
     "slide_type": ""
    }
   },
   "source": [
    "#### Atmospheric concentrations: Year 1 - 2022"
   ]
  },
  {
   "cell_type": "code",
   "execution_count": null,
   "id": "8848e6bc",
   "metadata": {
    "editable": true,
    "slideshow": {
     "slide_type": ""
    },
    "tags": [
     "remove_input"
    ]
   },
   "outputs": [],
   "source": [
    "fig, axes_d = get_default_delta_mosaic()\n",
    "axes_d = remove_empty_axes(axes_d)\n",
    "\n",
    "plot_overview_and_deltas(\n",
    "    ds_gases_full_d,\n",
    "    axes_d,\n",
    ")\n",
    "\n",
    "plt.tight_layout()\n",
    "plt.show()"
   ]
  },
  {
   "cell_type": "markdown",
   "id": "999ec94f",
   "metadata": {
    "editable": true,
    "slideshow": {
     "slide_type": ""
    }
   },
   "source": [
    "#### Atmospheric concentrations: Year 1750 - 2022"
   ]
  },
  {
   "cell_type": "code",
   "execution_count": null,
   "id": "be841c7c",
   "metadata": {
    "editable": true,
    "slideshow": {
     "slide_type": ""
    },
    "tags": [
     "remove_input"
    ]
   },
   "outputs": [],
   "source": [
    "fig, axes_d = get_default_delta_mosaic()\n",
    "axes_d = remove_empty_axes(axes_d)\n",
    "\n",
    "min_year = 1750\n",
    "plot_overview_and_deltas(\n",
    "    sel_times(ds_gases_full_d, lambda x: x.dt.year >= min_year),\n",
    "    axes_d,\n",
    ")\n",
    "\n",
    "plt.tight_layout()\n",
    "plt.show()"
   ]
  },
  {
   "cell_type": "markdown",
   "id": "d5881695",
   "metadata": {
    "editable": true,
    "slideshow": {
     "slide_type": ""
    }
   },
   "source": [
    "#### Atmospheric concentrations: Year 1957 - 2022\n",
    "\n",
    "1957 is the start of the Scripps ground-based record.\n",
    "Before this, data is based on ice cores alone."
   ]
  },
  {
   "cell_type": "code",
   "execution_count": null,
   "id": "ea3e4650",
   "metadata": {
    "editable": true,
    "slideshow": {
     "slide_type": ""
    },
    "tags": [
     "remove_input"
    ]
   },
   "outputs": [],
   "source": [
    "fig, axes_d = get_default_delta_mosaic()\n",
    "axes_d = remove_empty_axes(axes_d)\n",
    "\n",
    "min_year = 1957\n",
    "plot_overview_and_deltas(\n",
    "    sel_times(ds_gases_full_d, lambda x: x.dt.year >= min_year),\n",
    "    axes_d,\n",
    ")\n",
    "\n",
    "plt.tight_layout()\n",
    "plt.show()"
   ]
  },
  {
   "cell_type": "markdown",
   "id": "d0b88bbc",
   "metadata": {
    "editable": true,
    "slideshow": {
     "slide_type": ""
    }
   },
   "source": [
    "#### Approximate radiative effect: Year 1 - 2022\n",
    "\n",
    "As seen above, in atmospheric concentration terms\n",
    "the differences are small.\n",
    "However, this can be put on a common scale\n",
    "by comparing the differences in radiative effect terms.\n",
    "This gives an approximation of the size of the difference\n",
    "that would be seen by an Earth System Model's (ESM's) radiation code.\n",
    "This uses basic linear approximations,\n",
    "assuming that the radiative effect of each gas\n",
    "is simply its atmospheric concentration multiplied by a constant.\n",
    "This isn't the same as effective radiative forcing (ERF).\n",
    "For that comparison, see the later sections focussed on ERF."
   ]
  },
  {
   "cell_type": "markdown",
   "id": "37a0c89c",
   "metadata": {},
   "source": [
    "Values below come from Table 7.SM.7 of\n",
    "IPCC AR7 WG1 Ch. 7 Supplementary Material[^4].\n",
    "\n",
    "[^4]: https://www.ipcc.ch/report/ar6/wg1/downloads/report/IPCC_AR6_WGI_Chapter07_SM.pdf"
   ]
  },
  {
   "cell_type": "code",
   "execution_count": null,
   "id": "7f893ff1",
   "metadata": {
    "editable": true,
    "slideshow": {
     "slide_type": ""
    }
   },
   "outputs": [],
   "source": [
    "from openscm_units import unit_registry\n",
    "\n",
    "Q = unit_registry.Quantity\n",
    "\n",
    "RADIATIVE_EFFICIENCIES = {\n",
    "    \"co2\": Q(1.33e-5, \"W / m^2 / ppb\"),\n",
    "    \"ch4\": Q(3.88e-4, \"W / m^2 / ppb\"),\n",
    "    \"n2o\": Q(3.2e-3, \"W / m^2 / ppb\"),\n",
    "    \"cfc12eq\": Q(0.358, \"W / m^2 / ppb\"),\n",
    "    \"hfc134aeq\": Q(0.167, \"W / m^2 / ppb\"),\n",
    "}"
   ]
  },
  {
   "cell_type": "code",
   "execution_count": null,
   "id": "402cbd9f",
   "metadata": {
    "editable": true,
    "slideshow": {
     "slide_type": ""
    },
    "tags": [
     "remove_cell"
    ]
   },
   "outputs": [],
   "source": [
    "ds_gases_full_radiative_effect_d = {}\n",
    "target_units = \"W / m^2\"\n",
    "for gas, gas_ds in ds_gases_full_d.items():\n",
    "    ds_gases_full_radiative_effect_d[gas] = {}\n",
    "    for mip_era, ds in gas_ds.items():\n",
    "        tmp = ds.copy()\n",
    "\n",
    "        tmp[gas][:] = (\n",
    "            (Q(tmp[gas].values, tmp[gas].attrs[\"units\"]) * RADIATIVE_EFFICIENCIES[gas])\n",
    "            .to(target_units)\n",
    "            .m\n",
    "        )\n",
    "        tmp[gas].attrs[\"units\"] = target_units\n",
    "        tmp[gas].attrs[\"long_name\"] = \"approx. radiative effect\"\n",
    "\n",
    "        ds_gases_full_radiative_effect_d[gas][mip_era] = tmp"
   ]
  },
  {
   "cell_type": "code",
   "execution_count": null,
   "id": "c2a5fb90",
   "metadata": {
    "editable": true,
    "slideshow": {
     "slide_type": ""
    },
    "tags": [
     "remove_input"
    ]
   },
   "outputs": [],
   "source": [
    "fig, axes_d = get_default_delta_mosaic()\n",
    "axes_d = remove_empty_axes(axes_d)\n",
    "\n",
    "plot_overview_and_deltas(\n",
    "    ds_gases_full_radiative_effect_d,\n",
    "    axes_d,\n",
    ")\n",
    "\n",
    "for name, ax in axes_d.items():\n",
    "    if name.endswith(\"_delta\"):\n",
    "        continue\n",
    "\n",
    "    ax.set_ylim([0, 6.0])\n",
    "\n",
    "plt.tight_layout()\n",
    "plt.show()"
   ]
  },
  {
   "cell_type": "markdown",
   "id": "e3abb723",
   "metadata": {},
   "source": [
    "#### Approximate radiative effect: Year 1750 - 2022\n",
    "\n",
    "This is the period relevant for historical simulations in CMIP."
   ]
  },
  {
   "cell_type": "code",
   "execution_count": null,
   "id": "b7ada6cd",
   "metadata": {
    "editable": true,
    "slideshow": {
     "slide_type": ""
    },
    "tags": [
     "remove_input"
    ]
   },
   "outputs": [],
   "source": [
    "fig, axes_d = get_default_delta_mosaic()\n",
    "axes_d = remove_empty_axes(axes_d)\n",
    "\n",
    "min_year = 1750\n",
    "plot_overview_and_deltas(\n",
    "    sel_times(ds_gases_full_radiative_effect_d, lambda x: x.dt.year >= min_year),\n",
    "    axes_d,\n",
    ")\n",
    "\n",
    "for name, ax in axes_d.items():\n",
    "    if name.endswith(\"_delta\"):\n",
    "        continue\n",
    "\n",
    "    ax.set_ylim([0, 6.0])\n",
    "\n",
    "plt.tight_layout()\n",
    "plt.show()"
   ]
  },
  {
   "cell_type": "markdown",
   "id": "4bb83e51",
   "metadata": {
    "editable": true,
    "slideshow": {
     "slide_type": ""
    }
   },
   "source": [
    "#### Approximate effective radiative forcing: Year 1750 - 2022\n",
    "\n",
    "The above isn't effective radiative forcing.\n",
    "For that, you have to normalise the data to some reference year.\n",
    "There are a few different choices for this reference year.\n",
    "In IPCC reports, it is 1750 so that is what we show here.\n",
    "It should be noted that some ESMs may make other choices,\n",
    "but these would not have a great effect on the interpretation\n",
    "of the difference between the CMIP6 and CMIP7 datasets.\n",
    "\n",
    "Note that this approximation is linear,\n",
    "which is a particularly strong approximation for CO<sub>2</sub>\n",
    "because of its logarithmic forcing nature.\n",
    "We show this approximation here nonetheless\n",
    "because it provides an order of magnitude estimate\n",
    "for the change from CMIP6 in ERF terms.\n",
    "The forthcoming manuscripts will explore the subtleties\n",
    "of this quantification in more detail."
   ]
  },
  {
   "cell_type": "code",
   "execution_count": null,
   "id": "3673f672",
   "metadata": {
    "editable": true,
    "slideshow": {
     "slide_type": ""
    },
    "tags": [
     "remove_cell"
    ]
   },
   "outputs": [],
   "source": [
    "ds_gases_full_erf_d = {}\n",
    "reference_year = 1750\n",
    "for gas, gas_ds in ds_gases_full_radiative_effect_d.items():\n",
    "    ds_gases_full_erf_d[gas] = {}\n",
    "    for mip_era, ds in gas_ds.items():\n",
    "        tmp = ds.copy()\n",
    "\n",
    "        tmp[gas][:] = (\n",
    "            tmp[gas][:]\n",
    "            - tmp.sel(time=ds[\"time\"].dt.year == reference_year)[gas][:].values\n",
    "        )\n",
    "        tmp[gas].attrs[\"long_name\"] = \"approx. ERF\"\n",
    "        # tmp.attrs = ds.attrs\n",
    "\n",
    "        ds_gases_full_erf_d[gas][mip_era] = tmp"
   ]
  },
  {
   "cell_type": "code",
   "execution_count": null,
   "id": "c4309a8b",
   "metadata": {
    "editable": true,
    "slideshow": {
     "slide_type": ""
    },
    "tags": [
     "remove_input"
    ]
   },
   "outputs": [],
   "source": [
    "fig, axes_d = get_default_delta_mosaic()\n",
    "axes_d = remove_empty_axes(axes_d)\n",
    "\n",
    "min_year = 1750\n",
    "plot_overview_and_deltas(\n",
    "    sel_times(ds_gases_full_erf_d, lambda x: x.dt.year >= min_year),\n",
    "    axes_d,\n",
    ")\n",
    "\n",
    "for name, ax in axes_d.items():\n",
    "    if name.endswith(\"_delta\"):\n",
    "        continue\n",
    "\n",
    "    ax.set_ylim([0, 2.0])\n",
    "\n",
    "plt.tight_layout()\n",
    "plt.show()"
   ]
  },
  {
   "cell_type": "markdown",
   "id": "f9c75202",
   "metadata": {},
   "source": [
    "In summary, in ERF terms, the differences from CMIP6 are very small.\n",
    "For all gases, they are less than around 0.025 W / m<sup>2</sup>.\n",
    "Compared to the estimated total greenhouse gas forcing and uncertainty in IPCC AR6\n",
    "(see Section 7.3.5.2 of AR6 WG1 Chapter 7[^5]),\n",
    "estimated to be 3.84 W / m<sup>2</sup>\n",
    "(very likely range of 3.46 to 4.22 W / m<sup>2</sup>),\n",
    "such differences are particularly small.\n",
    "\n",
    "[^5]: https://www.ipcc.ch/report/ar6/wg1/chapter/chapter-7/"
   ]
  },
  {
   "cell_type": "markdown",
   "id": "9555b642",
   "metadata": {},
   "source": [
    "#### Atmospheric concentrations including seasonality: Year 2000 - 2022\n",
    "\n",
    "The final comparisons we show are atmospheric concentrations including seasonality.\n",
    "Given that most greenhouse gases\n",
    "are well-mixed with lifetimes much greater than a year,\n",
    "these differences are unlikely to be of huge interest to ESMs.\n",
    "However, for other applications, such seasonality differences may matter more."
   ]
  },
  {
   "cell_type": "code",
   "execution_count": null,
   "id": "d04d959c",
   "metadata": {
    "editable": true,
    "slideshow": {
     "slide_type": ""
    },
    "tags": [
     "remove_cell"
    ]
   },
   "outputs": [],
   "source": [
    "ds_gases_full_monthly_d = {}\n",
    "for gas in gases_to_show:\n",
    "    ds_gases_full_monthly_d[gas] = {}\n",
    "    for source_id, cmip_era in (\n",
    "        (\"CR-CMIP-1-0-0\", \"CMIP7\"),\n",
    "        (\"UoM-CMIP-1-2-0\", \"CMIP6\"),\n",
    "    ):\n",
    "        query_kwargs = {\n",
    "            \"ghg\": gas,\n",
    "            \"time_sampling\": \"mon\",\n",
    "            \"grid\": \"gm\",\n",
    "            \"source_id\": source_id,\n",
    "            \"cmip_era\": cmip_era,\n",
    "            \"engine\": engine,\n",
    "        }\n",
    "        ds = fetch_and_load(**query_kwargs)\n",
    "\n",
    "        # Unify time axis days to simplify\n",
    "        ds[\"time\"] = [\n",
    "            cftime.DatetimeProlepticGregorian(v.year, v.month, 15)\n",
    "            for v in ds[\"time\"].values\n",
    "        ]\n",
    "\n",
    "        # compute to avoid dask weirdness\n",
    "        ds_gases_full_monthly_d[gas][cmip_era] = ds.compute()"
   ]
  },
  {
   "cell_type": "code",
   "execution_count": null,
   "id": "a4dbe128",
   "metadata": {
    "editable": true,
    "slideshow": {
     "slide_type": ""
    },
    "tags": [
     "remove_input"
    ]
   },
   "outputs": [],
   "source": [
    "fig, axes_d = get_default_delta_mosaic()\n",
    "axes_d = remove_empty_axes(axes_d)\n",
    "\n",
    "min_year = 2000\n",
    "max_year = 2022\n",
    "plot_overview_and_deltas(\n",
    "    sel_times(\n",
    "        ds_gases_full_monthly_d,\n",
    "        lambda x: (x.dt.year >= min_year) & (x.dt.year <= max_year),\n",
    "    ),\n",
    "    axes_d,\n",
    ")\n",
    "\n",
    "plt.tight_layout()\n",
    "plt.show()"
   ]
  },
  {
   "cell_type": "markdown",
   "id": "b8a308bd",
   "metadata": {},
   "source": [
    "Like the annual-means,\n",
    "the atmospheric concentrations including seasonality\n",
    "are reasonably consistent between CMIP6 and CMIP7.\n",
    "There are some areas of change.\n",
    "Full details of these changes will be provided\n",
    "in the forthcoming manuscripts."
   ]
  },
  {
   "cell_type": "markdown",
   "id": "6bc6d387",
   "metadata": {},
   "source": [
    "# Bibliography \n",
    "\n",
    "```{bibliography}\n",
    ":style: plain\n",
    ":filter: {\"user-guide-historical\"} & docnames\n",
    "```"
   ]
  }
 ],
 "metadata": {
  "authors": [
   {
    "name": "Zebedee Nicholls"
   },
   {
    "name": "Florence Bockting"
   },
   {
    "name": "Mika Pfl{\\\"u}ger"
   }
  ],
  "jupytext": {
   "notebook_metadata_filter": "title,authors"
  },
  "kernelspec": {
   "display_name": "Python 3 (ipykernel)",
   "language": "python",
   "name": "python3"
  },
  "language_info": {
   "codemirror_mode": {
    "name": "ipython",
    "version": 3
   },
   "file_extension": ".py",
   "mimetype": "text/x-python",
   "name": "python",
   "nbconvert_exporter": "python",
   "pygments_lexer": "ipython3",
   "version": "3.12.11"
  },
  "title": "CMIP Greenhouse Gas (GHG) Concentration Historical Dataset:\nData Description and User Guide"
 },
 "nbformat": 4,
 "nbformat_minor": 5
}

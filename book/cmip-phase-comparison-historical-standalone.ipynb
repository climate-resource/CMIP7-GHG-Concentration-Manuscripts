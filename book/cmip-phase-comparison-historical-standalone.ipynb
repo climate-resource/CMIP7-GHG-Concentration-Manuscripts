{
 "cells": [
  {
   "cell_type": "markdown",
   "id": "73e1b55a",
   "metadata": {
    "editable": true,
    "slideshow": {
     "slide_type": ""
    }
   },
   "source": [
    "# CMIP Greenhouse Gas (GHG) Concentration Historical Dataset: Data Description and User Guide\n",
    "\n",
    "Here we make some standalone plots\n",
    "that compare the historical concentrations over CMIP phases."
   ]
  },
  {
   "cell_type": "markdown",
   "id": "1f454557",
   "metadata": {
    "editable": true,
    "slideshow": {
     "slide_type": ""
    },
    "tags": [
     "remove_cell"
    ]
   },
   "source": [
    "## Imports"
   ]
  },
  {
   "cell_type": "code",
   "execution_count": null,
   "id": "8e9d6ee0",
   "metadata": {
    "editable": true,
    "slideshow": {
     "slide_type": ""
    },
    "tags": [
     "remove_cell"
    ]
   },
   "outputs": [],
   "source": [
    "from functools import partial\n",
    "\n",
    "import cftime\n",
    "import matplotlib\n",
    "import matplotlib.pyplot as plt\n",
    "import nc_time_axis  # noqa: F401\n",
    "import numpy as np\n",
    "import tqdm.auto\n",
    "\n",
    "from local.data_loading import fetch_and_load_ghg_dataset\n",
    "from local.esgf.db_helpers import create_all_tables, get_sqlite_engine\n",
    "from local.esgf.search.search_query import KnownIndexNode\n",
    "from local.paths import REPO_ROOT"
   ]
  },
  {
   "cell_type": "code",
   "execution_count": null,
   "id": "94a48201",
   "metadata": {
    "editable": true,
    "slideshow": {
     "slide_type": ""
    },
    "tags": [
     "remove_cell"
    ]
   },
   "outputs": [],
   "source": [
    "local_data_root_dir = REPO_ROOT / \"data\" / \"raw\" / \"esgf\"\n",
    "local_data_root_dir.mkdir(exist_ok=True, parents=True)\n",
    "sqlite_file = REPO_ROOT / \"download-test-database.db\"\n",
    "# # Obviously we wouldn't delete the database every time\n",
    "# # in production, but while experimenting it's handy\n",
    "# # to always start with a clean slate.\n",
    "# if sqlite_file.exists():\n",
    "#     sqlite_file.unlink()\n",
    "\n",
    "engine = get_sqlite_engine(sqlite_file)\n",
    "create_all_tables(engine)"
   ]
  },
  {
   "cell_type": "markdown",
   "id": "ba1d3057",
   "metadata": {
    "editable": true,
    "slideshow": {
     "slide_type": ""
    }
   },
   "source": [
    "### Data comparisons\n",
    "\n",
    "Comparing the data from CMIP6 and CMIP7 shows minor changes\n",
    "(although doing this comparison requires a bit of care\n",
    "because of the changes in file formats)."
   ]
  },
  {
   "cell_type": "code",
   "execution_count": null,
   "id": "4f460329",
   "metadata": {},
   "outputs": [],
   "source": [
    "fetch_and_load = partial(\n",
    "    fetch_and_load_ghg_dataset,\n",
    "    local_data_root_dir=local_data_root_dir,\n",
    "    # index_node=KnownIndexNode.DKRZ,\n",
    "    # cmip_era=\"CMIP6\",\n",
    "    # source_id=\"UoM-CMIP-1-2-0\",\n",
    "    index_node=KnownIndexNode.ORNL,\n",
    ")"
   ]
  },
  {
   "cell_type": "code",
   "execution_count": null,
   "id": "e8e9a6be",
   "metadata": {
    "editable": true,
    "slideshow": {
     "slide_type": ""
    },
    "tags": [
     "remove_cell"
    ]
   },
   "outputs": [],
   "source": [
    "gases_to_show = [\"co2\", \"ch4\", \"n2o\", \"cfc12eq\", \"hfc134aeq\"]\n",
    "ds_gases_full_d = {}\n",
    "for gas in gases_to_show:\n",
    "    ds_gases_full_d[gas] = {}\n",
    "    for source_id, cmip_era in (\n",
    "        (\"CR-CMIP-1-0-0\", \"CMIP7\"),\n",
    "        (\"UoM-CMIP-1-2-0\", \"CMIP6\"),\n",
    "        (None, \"CMIP5\"),\n",
    "    ):\n",
    "        query_kwargs = {\n",
    "            \"ghg\": gas,\n",
    "            \"time_sampling\": \"yr\",\n",
    "            \"grid\": \"gm\",\n",
    "            \"target_mip\": \"CMIP\",\n",
    "            \"source_id\": source_id,\n",
    "            \"cmip_era\": cmip_era,\n",
    "            \"engine\": engine,\n",
    "        }\n",
    "        ds = fetch_and_load(**query_kwargs)\n",
    "\n",
    "        # Unify time axis days to simplify\n",
    "        ds[\"time\"] = [\n",
    "            cftime.DatetimeProlepticGregorian(v.year, v.month, 15)\n",
    "            for v in ds[\"time\"].values\n",
    "        ]\n",
    "\n",
    "        # compute to avoid dask weirdness\n",
    "        ds_gases_full_d[gas][cmip_era] = ds.compute()"
   ]
  },
  {
   "cell_type": "markdown",
   "id": "06b7dd9f",
   "metadata": {},
   "source": [
    "Values below come from Table 7.SM.7 of\n",
    "IPCC AR7 WG1 Ch. 7 Supplementary Material[^4].\n",
    "\n",
    "[^4]: https://www.ipcc.ch/report/ar6/wg1/downloads/report/IPCC_AR6_WGI_Chapter07_SM.pdf"
   ]
  },
  {
   "cell_type": "code",
   "execution_count": null,
   "id": "ca50329b",
   "metadata": {},
   "outputs": [],
   "source": [
    "from openscm_units import unit_registry\n",
    "\n",
    "Q = unit_registry.Quantity\n",
    "\n",
    "RADIATIVE_EFFICIENCIES = {\n",
    "    \"co2\": Q(1.33e-5, \"W / m^2 / ppb\"),\n",
    "    \"ch4\": Q(3.88e-4, \"W / m^2 / ppb\"),\n",
    "    \"n2o\": Q(3.2e-3, \"W / m^2 / ppb\"),\n",
    "    \"cfc12eq\": Q(0.358, \"W / m^2 / ppb\"),\n",
    "    \"hfc134aeq\": Q(0.167, \"W / m^2 / ppb\"),\n",
    "}"
   ]
  },
  {
   "cell_type": "code",
   "execution_count": null,
   "id": "615ce721",
   "metadata": {
    "editable": true,
    "slideshow": {
     "slide_type": ""
    },
    "tags": [
     "remove_cell"
    ]
   },
   "outputs": [],
   "source": [
    "from typing import Callable\n",
    "\n",
    "import numpy.typing as npt\n",
    "import xarray as xr\n",
    "\n",
    "\n",
    "def sel_times(\n",
    "    ds_d: dict[str, dict[str, xr.Dataset]],\n",
    "    sel_func: Callable[[xr.DataArray], npt.NDArray[bool]],\n",
    ") -> dict[str, dict[str, xr.Dataset]]:\n",
    "    \"\"\"\n",
    "    Select times from our dictionary of [xr.Dataset][]'s\n",
    "    \"\"\"\n",
    "    res = {\n",
    "        gas: {\n",
    "            key: value.sel(time=sel_func(value[\"time\"])) for key, value in tmp.items()\n",
    "        }\n",
    "        for gas, tmp in ds_d.items()\n",
    "    }\n",
    "\n",
    "    return res\n",
    "\n",
    "\n",
    "def sel_lat(\n",
    "    ds_d: dict[str, dict[str, xr.Dataset]],\n",
    "    sel_func: Callable[[xr.DataArray], npt.NDArray[bool]],\n",
    ") -> dict[str, dict[str, xr.Dataset]]:\n",
    "    \"\"\"\n",
    "    Select lat from our dictionary of [xr.Dataset][]'s\n",
    "    \"\"\"\n",
    "    res = {\n",
    "        gas: {key: value.sel(lat=sel_func(value[\"lat\"])) for key, value in tmp.items()}\n",
    "        for gas, tmp in ds_d.items()\n",
    "    }\n",
    "\n",
    "    return res\n",
    "\n",
    "\n",
    "def plot_overview_and_deltas(\n",
    "    ds_d: dict[str, dict[str, xr.Dataset]],\n",
    "    axes_d: dict[str, matplotlib.axes.Axes],\n",
    "):\n",
    "    \"\"\"\n",
    "    Plot overviews of timeseries and deltas between CMIP7 and CMIP6\n",
    "    \"\"\"\n",
    "    for ax_name, ax in axes_d.items():\n",
    "        if \"_delta\" in ax_name:\n",
    "            continue\n",
    "\n",
    "        gas = ax_name\n",
    "\n",
    "        target_unit_conc = ds_d[gas][\"CMIP7\"][gas].attrs[\"units\"]\n",
    "        target_unit_re = \"W / m^2\"\n",
    "\n",
    "        for cmip_era, ds in ds_d[gas].items():\n",
    "            label = f\"{cmip_era} ({ds.attrs['source_id']})\"\n",
    "            tmp = ds[gas].copy()\n",
    "            tmp.values = Q(tmp.values, tmp.attrs[\"units\"]).to(target_unit_conc).m\n",
    "            ds[gas].plot.scatter(\n",
    "                ax=axes_d[gas], label=label, alpha=0.7, edgecolors=\"none\"\n",
    "            )\n",
    "\n",
    "        ax.legend()\n",
    "        ax.set_title(gas)\n",
    "        ax.xaxis.set_tick_params(labelbottom=False)\n",
    "        ax.set_ylabel(target_unit_conc)\n",
    "        ax.set_xlabel(None)\n",
    "\n",
    "        ax_delta = axes_d[f\"{gas}_delta\"]\n",
    "\n",
    "        da_cmip7 = ds_d[gas][\"CMIP7\"][gas]\n",
    "\n",
    "        for cmip_era, ds in ds_d[gas].items():\n",
    "            if cmip_era == \"CMIP7\":\n",
    "                continue\n",
    "\n",
    "            da_other = ds_d[gas][cmip_era][gas]\n",
    "            overlapping_times = np.intersect1d(da_other[\"time\"], da_cmip7[\"time\"])\n",
    "\n",
    "            da_cmip7_st = da_cmip7.sel(time=overlapping_times)\n",
    "            da_other_st = da_other.sel(time=overlapping_times)\n",
    "\n",
    "            delta = da_cmip7_st.copy()\n",
    "            tmp = Q(da_cmip7_st.values, da_cmip7_st.attrs[\"units\"]) - Q(\n",
    "                da_other_st.values, da_other_st.attrs[\"units\"]\n",
    "            )\n",
    "            delta.values = tmp.to(target_unit_conc).m\n",
    "\n",
    "            delta.plot.scatter(\n",
    "                ax=ax_delta,\n",
    "                label=f\"CMIP7 - {cmip_era}\",\n",
    "                edgecolors=\"none\",\n",
    "                s=10,\n",
    "            )\n",
    "            ax_delta.axhline(0.0, color=\"k\", linestyle=\"--\")\n",
    "            ax_delta.legend()\n",
    "\n",
    "            ax_delta.xaxis.set_tick_params(labelbottom=False)\n",
    "            ax_delta.set_ylabel(target_unit_conc)\n",
    "            ax_delta.set_xlabel(None)\n",
    "\n",
    "            ax_delta_re = axes_d[f\"{gas}_delta_re\"]\n",
    "\n",
    "            tmp = RADIATIVE_EFFICIENCIES[gas] * Q(delta.values, delta.attrs[\"units\"])\n",
    "            delta_re = delta.copy()\n",
    "            delta_re.values = tmp.to(target_unit_re).m\n",
    "            delta_re.attrs[\"units\"] = target_unit_re\n",
    "\n",
    "            delta_re.plot.scatter(\n",
    "                ax=ax_delta_re,\n",
    "                label=f\"CMIP7 - {cmip_era}\",\n",
    "                edgecolors=\"none\",\n",
    "                s=10,\n",
    "            )\n",
    "            ax_delta_re.axhline(0.0, color=\"k\", linestyle=\"--\")\n",
    "\n",
    "            ax_delta_re.xaxis.set_tick_params(labelbottom=True)\n",
    "            ax_delta_re.set_ylabel(target_unit_re)\n",
    "            ax_delta_re.legend()\n",
    "\n",
    "\n",
    "plt_mosaic = [\n",
    "    [\"co2\", \"ch4\", \"n2o\"],\n",
    "    # [\"co2\", \"ch4\", \"n2o\"],\n",
    "    [\"co2_delta\", \"ch4_delta\", \"n2o_delta\"],\n",
    "    [\"co2_delta_re\", \"ch4_delta_re\", \"n2o_delta_re\"],\n",
    "    [\"cfc12eq\", \"hfc134aeq\", \"\"],\n",
    "    # [\"cfc12eq\", \"hfc134aeq\", \"\"],\n",
    "    [\"cfc12eq_delta\", \"hfc134aeq_delta\", \"\"],\n",
    "    [\"cfc12eq_delta_re\", \"hfc134aeq_delta_re\", \"\"],\n",
    "]\n",
    "get_default_delta_mosaic = partial(\n",
    "    plt.subplot_mosaic,\n",
    "    mosaic=plt_mosaic,\n",
    "    figsize=(16, 14),\n",
    "    sharex=True,\n",
    ")\n",
    "\n",
    "\n",
    "def remove_empty_axes(\n",
    "    axes_d: dict[str, matplotlib.axes.Axes],\n",
    ") -> dict[str, matplotlib.axes.Axes]:\n",
    "    \"\"\"Remove empty axes\"\"\"\n",
    "    res = {}\n",
    "    for k, v in axes_d.items():\n",
    "        if k:\n",
    "            res[k] = v\n",
    "\n",
    "        else:\n",
    "            v.remove()\n",
    "\n",
    "    return res"
   ]
  },
  {
   "cell_type": "markdown",
   "id": "f6d7493f",
   "metadata": {
    "editable": true,
    "slideshow": {
     "slide_type": ""
    }
   },
   "source": [
    "#### Global, annual-mean concentrations: Year 1 - 2022"
   ]
  },
  {
   "cell_type": "code",
   "execution_count": null,
   "id": "d429cc6f",
   "metadata": {},
   "outputs": [],
   "source": [
    "plt.rcParams[\"axes.xmargin\"] = 0"
   ]
  },
  {
   "cell_type": "code",
   "execution_count": null,
   "id": "479aa792",
   "metadata": {
    "editable": true,
    "slideshow": {
     "slide_type": ""
    },
    "tags": [
     "remove_input"
    ]
   },
   "outputs": [],
   "source": [
    "fig, axes_d = get_default_delta_mosaic()\n",
    "axes_d = remove_empty_axes(axes_d)\n",
    "\n",
    "plot_overview_and_deltas(\n",
    "    ds_gases_full_d,\n",
    "    axes_d,\n",
    ")\n",
    "\n",
    "for ax in axes_d.values():\n",
    "    xticks = [\n",
    "        cftime.DatetimeProlepticGregorian(y, 1, 1) for y in np.arange(0, 2000, 500)\n",
    "    ]\n",
    "    ax.set_xticks(xticks)\n",
    "    ax.set_xticklabels([v.year for v in xticks])\n",
    "\n",
    "plt.tight_layout()\n",
    "plt.savefig(\"key-species-global-annual-changes-across-cmip-phases.png\")\n",
    "plt.show()"
   ]
  },
  {
   "cell_type": "markdown",
   "id": "e7b51376",
   "metadata": {
    "editable": true,
    "slideshow": {
     "slide_type": ""
    }
   },
   "source": [
    "#### Global, annual-mean concentrations: Year 1750 - 2022"
   ]
  },
  {
   "cell_type": "code",
   "execution_count": null,
   "id": "9556fe9f",
   "metadata": {},
   "outputs": [],
   "source": [
    "# TODO: copy https://github.com/climate-resource/CMIP6-vs-CMIP7-GHG-Concentrations/blob/clean-up/notebooks/0101_demonstrate-cmip6-eq-issue.py\n",
    "# into this repo to demonstrate the issue with the equivalent species"
   ]
  },
  {
   "cell_type": "code",
   "execution_count": null,
   "id": "cca2c504",
   "metadata": {
    "editable": true,
    "slideshow": {
     "slide_type": ""
    },
    "tags": [
     "remove_input"
    ]
   },
   "outputs": [],
   "source": [
    "fig, axes_d = get_default_delta_mosaic()\n",
    "axes_d = remove_empty_axes(axes_d)\n",
    "\n",
    "min_year = 1750\n",
    "plot_overview_and_deltas(\n",
    "    sel_times(ds_gases_full_d, lambda x: x.dt.year >= min_year),\n",
    "    axes_d,\n",
    ")\n",
    "for ax in axes_d.values():\n",
    "    xticks = [\n",
    "        cftime.DatetimeProlepticGregorian(y, 1, 1) for y in np.arange(1750, 2050, 50)\n",
    "    ]\n",
    "    ax.set_xticks(xticks)\n",
    "    ax.set_xticklabels([v.year for v in xticks])\n",
    "\n",
    "plt.tight_layout()\n",
    "plt.show()"
   ]
  },
  {
   "cell_type": "markdown",
   "id": "fef7b07a",
   "metadata": {
    "editable": true,
    "slideshow": {
     "slide_type": ""
    }
   },
   "source": [
    "#### Global, annual-mean concentrations: Year 1957 - 2022\n",
    "\n",
    "1957 is the start of the Scripps ground-based record.\n",
    "Before this, data is based on ice cores alone."
   ]
  },
  {
   "cell_type": "code",
   "execution_count": null,
   "id": "dc8716a3",
   "metadata": {
    "editable": true,
    "slideshow": {
     "slide_type": ""
    },
    "tags": [
     "remove_input"
    ]
   },
   "outputs": [],
   "source": [
    "fig, axes_d = get_default_delta_mosaic()\n",
    "axes_d = remove_empty_axes(axes_d)\n",
    "\n",
    "min_year = 1957\n",
    "# min_year = 1990\n",
    "plot_overview_and_deltas(\n",
    "    sel_times(ds_gases_full_d, lambda x: x.dt.year >= min_year),\n",
    "    axes_d,\n",
    ")\n",
    "\n",
    "plt.tight_layout()\n",
    "plt.show()"
   ]
  },
  {
   "cell_type": "markdown",
   "id": "533c28f6",
   "metadata": {},
   "source": [
    "#### Global, monthly-mean concentrations: Year 1 - 2022"
   ]
  },
  {
   "cell_type": "code",
   "execution_count": null,
   "id": "be2c9f60",
   "metadata": {},
   "outputs": [],
   "source": [
    "ds_gases_full_monthly_d = {}\n",
    "for gas in gases_to_show:\n",
    "    ds_gases_full_monthly_d[gas] = {}\n",
    "    for source_id, cmip_era in (\n",
    "        (\"CR-CMIP-1-0-0\", \"CMIP7\"),\n",
    "        (\"UoM-CMIP-1-2-0\", \"CMIP6\"),\n",
    "        # (None, \"CMIP5\"),\n",
    "    ):\n",
    "        query_kwargs = {\n",
    "            \"ghg\": gas,\n",
    "            \"time_sampling\": \"mon\",\n",
    "            \"grid\": \"gm\",\n",
    "            \"target_mip\": \"CMIP\",\n",
    "            \"source_id\": source_id,\n",
    "            \"cmip_era\": cmip_era,\n",
    "            \"engine\": engine,\n",
    "        }\n",
    "        ds = fetch_and_load(**query_kwargs)\n",
    "\n",
    "        # Unify time axis days to simplify\n",
    "        ds[\"time\"] = [\n",
    "            cftime.DatetimeProlepticGregorian(v.year, v.month, 15)\n",
    "            for v in ds[\"time\"].values\n",
    "        ]\n",
    "\n",
    "        # compute to avoid dask weirdness\n",
    "        ds_gases_full_monthly_d[gas][cmip_era] = ds.compute()"
   ]
  },
  {
   "cell_type": "code",
   "execution_count": null,
   "id": "696bb46b",
   "metadata": {},
   "outputs": [],
   "source": [
    "fig, axes_d = get_default_delta_mosaic()\n",
    "axes_d = remove_empty_axes(axes_d)\n",
    "\n",
    "# min_year = 1957\n",
    "min_year = 1990\n",
    "min_year = 1\n",
    "# min_year = 1750\n",
    "plot_overview_and_deltas(\n",
    "    sel_times(ds_gases_full_monthly_d, lambda x: x.dt.year >= min_year),\n",
    "    axes_d,\n",
    ")\n",
    "for ax in axes_d.values():\n",
    "    xticks = [\n",
    "        cftime.DatetimeProlepticGregorian(y, 1, 1)\n",
    "        # for y in np.arange(1750, 2050, 50)\n",
    "        # for y in np.arange(1750, 1760, 1)\n",
    "        for y in np.arange(1, 2050, 500)\n",
    "        # for y in np.arange(1, 20, 1)\n",
    "    ]\n",
    "    ax.set_xticks(xticks)\n",
    "    # ax.set_xlim(xticks[0], xticks[-1])\n",
    "    ax.set_xticklabels([v.year for v in xticks])\n",
    "\n",
    "plt.tight_layout()\n",
    "plt.show()"
   ]
  },
  {
   "cell_type": "markdown",
   "id": "9e381aea",
   "metadata": {},
   "source": [
    "#### Latitudinally-resolved, monthly-mean concentrations: Year 1 - 2022"
   ]
  },
  {
   "cell_type": "code",
   "execution_count": null,
   "id": "1872db93",
   "metadata": {},
   "outputs": [],
   "source": [
    "gases_to_show = [\"co2\", \"ch4\"]\n",
    "ds_gases_full_monthly_lat_d = {}\n",
    "for gas in gases_to_show:\n",
    "    ds_gases_full_monthly_lat_d[gas] = {}\n",
    "    for source_id, cmip_era in (\n",
    "        (\"CR-CMIP-1-0-0\", \"CMIP7\"),\n",
    "        (\"UoM-CMIP-1-2-0\", \"CMIP6\"),\n",
    "        # (None, \"CMIP5\"),\n",
    "    ):\n",
    "        query_kwargs = {\n",
    "            \"ghg\": gas,\n",
    "            \"time_sampling\": \"mon\",\n",
    "            \"grid\": \"gnz\",\n",
    "            \"target_mip\": \"CMIP\",\n",
    "            \"source_id\": source_id,\n",
    "            \"cmip_era\": cmip_era,\n",
    "            \"engine\": engine,\n",
    "        }\n",
    "        ds = fetch_and_load(**query_kwargs)\n",
    "\n",
    "        # Unify time axis days to simplify\n",
    "        ds[\"time\"] = [\n",
    "            cftime.DatetimeProlepticGregorian(v.year, v.month, 15)\n",
    "            for v in ds[\"time\"].values\n",
    "        ]\n",
    "\n",
    "        # compute to avoid dask weirdness\n",
    "        ds_gases_full_monthly_lat_d[gas][cmip_era] = ds.compute()"
   ]
  },
  {
   "cell_type": "code",
   "execution_count": null,
   "id": "cba17d81",
   "metadata": {},
   "outputs": [],
   "source": [
    "def plot_lat_selection(\n",
    "    gas: str,\n",
    "    ds_d: dict[str, dict[str, xr.Dataset]],\n",
    "    ax: matplotlib.axes.Axes,\n",
    "    ax_delta: matplotlib.axes.Axes,\n",
    "    ax_delta_re: matplotlib.axes.Axes,\n",
    ") -> None:\n",
    "    \"\"\"\n",
    "    Plot selection for a latitude-specific dataset\n",
    "    \"\"\"\n",
    "    target_unit_conc = ds_d[gas][\"CMIP7\"][gas].attrs[\"units\"]\n",
    "    target_unit_re = \"W / m^2\"\n",
    "\n",
    "    for cmip_era, ds in ds_d[gas].items():\n",
    "        label = f\"{cmip_era} ({ds.attrs['source_id']})\"\n",
    "        tmp = ds[gas].copy()\n",
    "        tmp.values = Q(tmp.values, tmp.attrs[\"units\"]).to(target_unit_conc).m\n",
    "        ds[gas].plot.scatter(ax=ax, label=label, alpha=0.7, edgecolors=\"none\")\n",
    "\n",
    "    ax.legend()\n",
    "    ax.set_title(\n",
    "        f\"lat: {float(lat)}\",\n",
    "        # fontsize=\"small\",\n",
    "    )\n",
    "    ax.xaxis.set_tick_params(labelbottom=False)\n",
    "    ax.set_ylabel(target_unit_conc)\n",
    "    ax.set_xlabel(None)\n",
    "\n",
    "    da_cmip7 = ds_d[gas][\"CMIP7\"][gas]\n",
    "\n",
    "    for cmip_era, ds in ds_d[gas].items():\n",
    "        if cmip_era == \"CMIP7\":\n",
    "            continue\n",
    "\n",
    "        da_other = ds_d[gas][cmip_era][gas]\n",
    "        overlapping_times = np.intersect1d(da_other[\"time\"], da_cmip7[\"time\"])\n",
    "\n",
    "        da_cmip7_st = da_cmip7.sel(time=overlapping_times)\n",
    "        da_other_st = da_other.sel(time=overlapping_times)\n",
    "\n",
    "        delta = da_cmip7_st.copy()\n",
    "        tmp = Q(da_cmip7_st.values, da_cmip7_st.attrs[\"units\"]) - Q(\n",
    "            da_other_st.values, da_other_st.attrs[\"units\"]\n",
    "        )\n",
    "        delta.values = tmp.to(target_unit_conc).m\n",
    "\n",
    "        delta.plot.scatter(\n",
    "            ax=ax_delta,\n",
    "            label=f\"CMIP7 - {cmip_era}\",\n",
    "            edgecolors=\"none\",\n",
    "            s=10,\n",
    "        )\n",
    "        ax_delta.axhline(0.0, color=\"k\", linestyle=\"--\")\n",
    "        ax_delta.legend()\n",
    "\n",
    "        ax_delta.xaxis.set_tick_params(labelbottom=False)\n",
    "        ax_delta.set_ylabel(target_unit_conc)\n",
    "        ax_delta.set_xlabel(None)\n",
    "        ax_delta.set_title(None)\n",
    "\n",
    "        tmp = RADIATIVE_EFFICIENCIES[gas] * Q(delta.values, delta.attrs[\"units\"])\n",
    "        delta_re = delta.copy()\n",
    "        delta_re.values = tmp.to(target_unit_re).m\n",
    "        delta_re.attrs[\"units\"] = target_unit_re\n",
    "\n",
    "        delta_re.plot.scatter(\n",
    "            ax=ax_delta_re,\n",
    "            label=f\"CMIP7 - {cmip_era}\",\n",
    "            edgecolors=\"none\",\n",
    "            s=10,\n",
    "        )\n",
    "        ax_delta_re.axhline(0.0, color=\"k\", linestyle=\"--\")\n",
    "\n",
    "        ax_delta_re.xaxis.set_tick_params(labelbottom=True)\n",
    "        ax_delta_re.set_ylabel(target_unit_re)\n",
    "        ax_delta_re.legend()\n",
    "        ax_delta_re.set_title(None)"
   ]
  },
  {
   "cell_type": "code",
   "execution_count": null,
   "id": "a95b33ba",
   "metadata": {},
   "outputs": [],
   "source": [
    "gas = \"co2\"\n",
    "# gas = \"ch4\"\n",
    "min_year = 1\n",
    "# min_year = 1750\n",
    "# min_year = 1850\n",
    "# min_year = 2000\n",
    "sel_times_func = lambda x: (x.dt.year >= min_year)  # noqa: E731\n",
    "# sel_times_func = lambda x: (x.dt.year >= min_year) & (x.dt.year <= min_year + 2)\n",
    "\n",
    "ncols = 4\n",
    "fig, axes = plt.subplots(ncols=ncols, nrows=9, figsize=(14, 16), sharex=True)\n",
    "ax_flat = axes.flatten()\n",
    "\n",
    "for i, lat in tqdm.auto.tqdm(\n",
    "    enumerate(ds_gases_full_monthly_lat_d[gas][\"CMIP7\"][\"lat\"][::-1]), leave=False\n",
    "):\n",
    "    ax_idx = i % ncols + 3 * ncols * (i // ncols)\n",
    "    # print(ax_idx)\n",
    "    ax = ax_flat[ax_idx]\n",
    "    ax_delta = ax_flat[ax_idx + ncols]\n",
    "    ax_delta_re = ax_flat[ax_idx + 2 * ncols]\n",
    "\n",
    "    plot_lat_selection(\n",
    "        gas=gas,\n",
    "        ds_d=sel_times(\n",
    "            sel_lat(ds_gases_full_monthly_lat_d, lambda x: x == lat),\n",
    "            sel_times_func,\n",
    "        ),\n",
    "        ax=ax,\n",
    "        ax_delta=ax_delta,\n",
    "        ax_delta_re=ax_delta_re,\n",
    "    )\n",
    "    # ax_flat[ax_idx].legend().remove()\n",
    "    if gas == \"co2\":\n",
    "        ax.set_ylim([250, 420])\n",
    "        ax_delta.set_ylim([-2.5, 4.5])\n",
    "        ax_delta_re.set_ylim([-0.03, 0.071])\n",
    "    elif gas == \"ch4\":\n",
    "        ax.set_ylim([600, 1900])\n",
    "        ax_delta.set_ylim([-70, 35])\n",
    "        ax_delta_re.set_ylim([-0.028, 0.02])\n",
    "    # # break\n",
    "\n",
    "plt.tight_layout()\n",
    "plt.savefig(f\"{gas}_lat-monthly.png\")\n",
    "plt.suptitle(gas, y=1.0)\n",
    "plt.show()"
   ]
  },
  {
   "cell_type": "markdown",
   "id": "ba7bbf75",
   "metadata": {},
   "source": [
    "# Bibliography \n",
    "\n",
    "```{bibliography}\n",
    ":style: plain\n",
    ":filter: {\"cmip-phase-comparison-historical-standalone\"} & docnames\n",
    "```"
   ]
  }
 ],
 "metadata": {
  "authors": [
   {
    "name": "Zebedee Nicholls"
   },
   {
    "name": "Florence Bockting"
   },
   {
    "name": "Mika Pfl{\\\"u}ger"
   }
  ],
  "jupytext": {
   "notebook_metadata_filter": "title,authors"
  },
  "kernelspec": {
   "display_name": "Python 3 (ipykernel)",
   "language": "python",
   "name": "python3"
  },
  "language_info": {
   "codemirror_mode": {
    "name": "ipython",
    "version": 3
   },
   "file_extension": ".py",
   "mimetype": "text/x-python",
   "name": "python",
   "nbconvert_exporter": "python",
   "pygments_lexer": "ipython3",
   "version": "3.12.11"
  },
  "title": "CMIP Greenhouse Gas (GHG) Concentration Historical Dataset:\nData Description and User Guide"
 },
 "nbformat": 4,
 "nbformat_minor": 5
}
